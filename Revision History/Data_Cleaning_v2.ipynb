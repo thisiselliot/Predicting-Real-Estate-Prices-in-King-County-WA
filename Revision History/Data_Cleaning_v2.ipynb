{
 "cells": [
  {
   "cell_type": "markdown",
   "metadata": {},
   "source": [
    "### imports"
   ]
  },
  {
   "cell_type": "code",
   "execution_count": 1,
   "metadata": {},
   "outputs": [],
   "source": [
    "from sklearn import linear_model, metrics\n",
    "from sklearn.model_selection import train_test_split\n",
    "\n",
    "import pandas as pd\n",
    "import numpy as np\n",
    "import seaborn as sns\n",
    "import matplotlib.pyplot as plt"
   ]
  },
  {
   "cell_type": "markdown",
   "metadata": {},
   "source": [
    "### read in data"
   ]
  },
  {
   "cell_type": "code",
   "execution_count": 2,
   "metadata": {},
   "outputs": [],
   "source": [
    "df = pd.read_csv('kc_house_data_train.csv', index_col=0)"
   ]
  },
  {
   "cell_type": "markdown",
   "metadata": {},
   "source": [
    "### Fix 33 bdrms typo"
   ]
  },
  {
   "cell_type": "code",
   "execution_count": 3,
   "metadata": {},
   "outputs": [],
   "source": [
    "df['bedrooms'] = df.bedrooms.replace([33],3)"
   ]
  },
  {
   "cell_type": "markdown",
   "metadata": {
    "heading_collapsed": true
   },
   "source": [
    "### Convert date to datetime"
   ]
  },
  {
   "cell_type": "code",
   "execution_count": null,
   "metadata": {
    "hidden": true
   },
   "outputs": [],
   "source": [
    "df['date'] = pd.to_datetime(df['date'])"
   ]
  },
  {
   "cell_type": "markdown",
   "metadata": {
    "heading_collapsed": true
   },
   "source": [
    "### view dummies rmse"
   ]
  },
  {
   "cell_type": "code",
   "execution_count": null,
   "metadata": {
    "hidden": true
   },
   "outputs": [],
   "source": [
    "x = df.groupby('view').price.mean().index\n",
    "y = df.groupby('view').price.mean().values\n",
    "sns.regplot(x, y)\n",
    "\n",
    "\"\"\"viewed once and viewed twice have similar mean\"\"\""
   ]
  },
  {
   "cell_type": "code",
   "execution_count": null,
   "metadata": {
    "hidden": true
   },
   "outputs": [],
   "source": [
    "df_view = df.copy()\n",
    "df_view['view'] = np.where(df['view'] == 2, 1, df['view'])\n",
    "df_view = pd.get_dummies(df_view, columns=['view'], drop_first=True)\n",
    "df_view.rename(columns={'view_1':'view_1_or_2'}, inplace=True)\n",
    "\n",
    "lm1 = linear_model.LinearRegression().fit(\n",
    "    pd.DataFrame(df.view), df.price) # <---linear regression model\n",
    "rmse1 = np.sqrt(metrics.mean_squared_error(\n",
    "    df.price, lm1.predict(pd.DataFrame(df.view)))) # <---training RMSE\n",
    "\n",
    "lm2 = linear_model.LinearRegression().fit(\n",
    "    pd.DataFrame(df_view[['view_1_or_2', 'view_3', 'view_4']]), df.price) # <---linear regression model\n",
    "rmse2 = np.sqrt(metrics.mean_squared_error(\n",
    "    df.price, lm2.predict(pd.DataFrame(df_view[['view_1_or_2', 'view_3', 'view_4']])))) # <---training RMSE\n",
    "\n",
    "f\"rmse without dummies is {rmse1} and with dummies is {rmse2}\""
   ]
  },
  {
   "cell_type": "markdown",
   "metadata": {
    "heading_collapsed": true
   },
   "source": [
    "### make view dummies"
   ]
  },
  {
   "cell_type": "code",
   "execution_count": null,
   "metadata": {
    "hidden": true
   },
   "outputs": [],
   "source": [
    "df['view'] = np.where(df['view'] == 2, 1, df['view'])\n",
    "df = pd.get_dummies(df, columns=['view'], drop_first=True)\n",
    "df.rename(columns={'view_1':'view_1_or_2'}, inplace=True)"
   ]
  },
  {
   "cell_type": "raw",
   "metadata": {
    "hidden": true
   },
   "source": [
    "### rmse for zipcode dummies"
   ]
  },
  {
   "cell_type": "code",
   "execution_count": null,
   "metadata": {
    "hidden": true
   },
   "outputs": [],
   "source": [
    "df_zips = pd.get_dummies(df, columns=['zipcode'], drop_first=True)\n",
    "\n",
    "lm1 = linear_model.LinearRegression().fit(\n",
    "    pd.DataFrame(df.zipcode), df.price) # <---linear regression model\n",
    "rmse1 = np.sqrt(metrics.mean_squared_error(\n",
    "    df.price, lm1.predict(pd.DataFrame(df.zipcode)))) # <---training RMSE\n",
    "\n",
    "lm2 = linear_model.LinearRegression().fit(\n",
    "    pd.DataFrame(df_zips[['zipcode_98002', 'zipcode_98003',\n",
    "       'zipcode_98004', 'zipcode_98005', 'zipcode_98006', 'zipcode_98007',\n",
    "       'zipcode_98008', 'zipcode_98010', 'zipcode_98011', 'zipcode_98014',\n",
    "       'zipcode_98019', 'zipcode_98022', 'zipcode_98023', 'zipcode_98024',\n",
    "       'zipcode_98027', 'zipcode_98028', 'zipcode_98029', 'zipcode_98030',\n",
    "       'zipcode_98031', 'zipcode_98032', 'zipcode_98033', 'zipcode_98034',\n",
    "       'zipcode_98038', 'zipcode_98039', 'zipcode_98040', 'zipcode_98042',\n",
    "       'zipcode_98045', 'zipcode_98052', 'zipcode_98053', 'zipcode_98055',\n",
    "       'zipcode_98056', 'zipcode_98058', 'zipcode_98059', 'zipcode_98065',\n",
    "       'zipcode_98070', 'zipcode_98072', 'zipcode_98074', 'zipcode_98075',\n",
    "       'zipcode_98077', 'zipcode_98092', 'zipcode_98102', 'zipcode_98103',\n",
    "       'zipcode_98105', 'zipcode_98106', 'zipcode_98107', 'zipcode_98108',\n",
    "       'zipcode_98109', 'zipcode_98112', 'zipcode_98115', 'zipcode_98116',\n",
    "       'zipcode_98117', 'zipcode_98118', 'zipcode_98119', 'zipcode_98122',\n",
    "       'zipcode_98125', 'zipcode_98126', 'zipcode_98133', 'zipcode_98136',\n",
    "       'zipcode_98144', 'zipcode_98146', 'zipcode_98148', 'zipcode_98155',\n",
    "       'zipcode_98166', 'zipcode_98168', 'zipcode_98177', 'zipcode_98178',\n",
    "       'zipcode_98188', 'zipcode_98198', 'zipcode_98199']]), df.price) # <---linear regression model\n",
    "rmse2 = np.sqrt(metrics.mean_squared_error(\n",
    "    df.price, lm2.predict(pd.DataFrame(df_zips[['zipcode_98002', 'zipcode_98003',\n",
    "       'zipcode_98004', 'zipcode_98005', 'zipcode_98006', 'zipcode_98007',\n",
    "       'zipcode_98008', 'zipcode_98010', 'zipcode_98011', 'zipcode_98014',\n",
    "       'zipcode_98019', 'zipcode_98022', 'zipcode_98023', 'zipcode_98024',\n",
    "       'zipcode_98027', 'zipcode_98028', 'zipcode_98029', 'zipcode_98030',\n",
    "       'zipcode_98031', 'zipcode_98032', 'zipcode_98033', 'zipcode_98034',\n",
    "       'zipcode_98038', 'zipcode_98039', 'zipcode_98040', 'zipcode_98042',\n",
    "       'zipcode_98045', 'zipcode_98052', 'zipcode_98053', 'zipcode_98055',\n",
    "       'zipcode_98056', 'zipcode_98058', 'zipcode_98059', 'zipcode_98065',\n",
    "       'zipcode_98070', 'zipcode_98072', 'zipcode_98074', 'zipcode_98075',\n",
    "       'zipcode_98077', 'zipcode_98092', 'zipcode_98102', 'zipcode_98103',\n",
    "       'zipcode_98105', 'zipcode_98106', 'zipcode_98107', 'zipcode_98108',\n",
    "       'zipcode_98109', 'zipcode_98112', 'zipcode_98115', 'zipcode_98116',\n",
    "       'zipcode_98117', 'zipcode_98118', 'zipcode_98119', 'zipcode_98122',\n",
    "       'zipcode_98125', 'zipcode_98126', 'zipcode_98133', 'zipcode_98136',\n",
    "       'zipcode_98144', 'zipcode_98146', 'zipcode_98148', 'zipcode_98155',\n",
    "       'zipcode_98166', 'zipcode_98168', 'zipcode_98177', 'zipcode_98178',\n",
    "       'zipcode_98188', 'zipcode_98198', 'zipcode_98199']])))) # <---training RMSE\n",
    "\n",
    "f\"rmse without dummies is {rmse1} and with dummies is {rmse2}\""
   ]
  },
  {
   "cell_type": "markdown",
   "metadata": {},
   "source": [
    "### made zipcode dummies"
   ]
  },
  {
   "cell_type": "code",
   "execution_count": 4,
   "metadata": {},
   "outputs": [],
   "source": [
    "df = pd.get_dummies(df, columns=['zipcode'], drop_first=True)"
   ]
  },
  {
   "cell_type": "markdown",
   "metadata": {},
   "source": [
    "### Cap all sqft features to remove outliers"
   ]
  },
  {
   "cell_type": "code",
   "execution_count": null,
   "metadata": {},
   "outputs": [],
   "source": [
    "# df['sqft_above'] = np.where(df['sqft_above'] > 7000, 7000, df['sqft_above'])\n",
    "# df['sqft_basement'] = np.where(df['sqft_basement'] > 3000, 3000, df['sqft_basement'])\n",
    "# df['sqft_living'] = np.where(df['sqft_living'] > 8000, 8000, df['sqft_living'])\n",
    "# df['sqft_living15'] = np.where(df['sqft_living15'] > 6000, 6000, df['sqft_living15'])\n",
    "# df['sqft_lot'] = np.where(df['sqft_lot'] > 100000, 100000, df['sqft_lot'])\n",
    "df['sqft_lot15'] = np.where(df['sqft_lot15'] > 100000, 100000, df['sqft_lot15'])\n",
    "\n",
    "# sns.boxplot(df.sqft_above)\n",
    "# sns.boxplot(df.sqft_basement)\n",
    "# sns.boxplot(df.sqft_living)\n",
    "# sns.boxplot(df.sqft_living15)\n",
    "# sns.boxplot(df.sqft_lot)\n",
    "# sns.boxplot(df.sqft_lot15)"
   ]
  },
  {
   "cell_type": "markdown",
   "metadata": {},
   "source": [
    "### mean bedroom price"
   ]
  },
  {
   "cell_type": "code",
   "execution_count": null,
   "metadata": {},
   "outputs": [],
   "source": [
    "df['bathrooms'] = np.where(df['bathrooms'] > 3, 3, df['bathrooms'])"
   ]
  },
  {
   "cell_type": "code",
   "execution_count": null,
   "metadata": {},
   "outputs": [],
   "source": [
    "# x = df.groupby('bathrooms').price.mean().index\n",
    "# y = df.groupby('bathrooms').price.mean().values\n",
    "# sns.regplot((x-1.5), y)"
   ]
  },
  {
   "cell_type": "markdown",
   "metadata": {
    "heading_collapsed": true
   },
   "source": [
    "### mean grade price"
   ]
  },
  {
   "cell_type": "code",
   "execution_count": null,
   "metadata": {
    "hidden": true
   },
   "outputs": [],
   "source": [
    "x = df.groupby('grade').price.mean().index\n",
    "y = df.groupby('grade').price.mean().values\n",
    "import numpy as np\n",
    "sns.regplot(x**2, np.log(y))"
   ]
  },
  {
   "cell_type": "markdown",
   "metadata": {
    "heading_collapsed": true
   },
   "source": [
    "### median housing price per zipcode"
   ]
  },
  {
   "cell_type": "code",
   "execution_count": null,
   "metadata": {
    "hidden": true
   },
   "outputs": [],
   "source": [
    "df2 = df.groupby(['zipcode']).price.mean().sort_values(ascending=False)\n",
    "plt.figure(figsize=(16,6))\n",
    "plt.ylabel('price')\n",
    "df2.plot(kind='bar');"
   ]
  },
  {
   "cell_type": "markdown",
   "metadata": {},
   "source": [
    "### finalize"
   ]
  },
  {
   "cell_type": "code",
   "execution_count": null,
   "metadata": {},
   "outputs": [],
   "source": [
    "features = ['price', 'date', 'bedrooms', 'bathrooms', 'sqft_living', 'sqft_lot', 'floors',\n",
    "            'waterfront', 'view', 'condition', 'grade', 'sqft_above',\n",
    "            'sqft_basement', 'yr_built', 'yr_renovated', 'zipcode', 'lat',\n",
    "            'long', 'sqft_living15', 'sqft_lot15']\n",
    "\n",
    "           ['price', 'date', 'bedrooms', 'bathrooms', 'sqft_living', 'sqft_lot',\n",
    "            'floors', 'waterfront', 'view', 'condition', 'grade', 'sqft_above',\n",
    "            'sqft_basement', 'yr_built', 'yr_renovated', 'lat', 'long',\n",
    "            'sqft_living15', 'sqft_lot15', 'zipcode_98004', 'zipcode_98039',\n",
    "            'zipcode_98040', 'zipcode_98112']\n",
    "\n",
    "df = df[features]"
   ]
  },
  {
   "cell_type": "code",
   "execution_count": 5,
   "metadata": {},
   "outputs": [],
   "source": [
    "df.to_csv('clean_data_v4.csv')"
   ]
  },
  {
   "cell_type": "code",
   "execution_count": null,
   "metadata": {},
   "outputs": [],
   "source": [
    "list(df.groupby(['zipcode']).price.median().sort_values(ascending=False)[:4].index)"
   ]
  },
  {
   "cell_type": "code",
   "execution_count": null,
   "metadata": {},
   "outputs": [],
   "source": [
    "# median housing price per zipcode\n",
    "df2 = df.groupby(['zipcode']).price.median().sort_values(ascending=False)\n",
    "plt.figure(figsize=(16,6))\n",
    "plt.ylabel('price')\n",
    "df2.plot(kind='bar');"
   ]
  },
  {
   "cell_type": "code",
   "execution_count": null,
   "metadata": {},
   "outputs": [],
   "source": [
    "df['zipcode'] = np.where(\n",
    "    df.zipcode.isin([98039, 98004, 98040, 98112]),\n",
    "    df.zipcode,0)\n"
   ]
  },
  {
   "cell_type": "code",
   "execution_count": null,
   "metadata": {},
   "outputs": [],
   "source": [
    "df.zipcode.value_counts()"
   ]
  },
  {
   "cell_type": "code",
   "execution_count": null,
   "metadata": {},
   "outputs": [],
   "source": [
    "df = pd.get_dummies(df, columns=['zipcode'], drop_first=True)"
   ]
  },
  {
   "cell_type": "code",
   "execution_count": null,
   "metadata": {},
   "outputs": [],
   "source": [
    "df.columns"
   ]
  },
  {
   "cell_type": "code",
   "execution_count": null,
   "metadata": {},
   "outputs": [],
   "source": []
  }
 ],
 "metadata": {
  "kernelspec": {
   "display_name": "learn-env",
   "language": "python",
   "name": "learn-env"
  },
  "language_info": {
   "codemirror_mode": {
    "name": "ipython",
    "version": 3
   },
   "file_extension": ".py",
   "mimetype": "text/x-python",
   "name": "python",
   "nbconvert_exporter": "python",
   "pygments_lexer": "ipython3",
   "version": "3.6.9"
  },
  "toc": {
   "base_numbering": 1,
   "nav_menu": {},
   "number_sections": true,
   "sideBar": true,
   "skip_h1_title": false,
   "title_cell": "Table of Contents",
   "title_sidebar": "Contents",
   "toc_cell": false,
   "toc_position": {},
   "toc_section_display": true,
   "toc_window_display": false
  },
  "varInspector": {
   "cols": {
    "lenName": 16,
    "lenType": 16,
    "lenVar": 40
   },
   "kernels_config": {
    "python": {
     "delete_cmd_postfix": "",
     "delete_cmd_prefix": "del ",
     "library": "var_list.py",
     "varRefreshCmd": "print(var_dic_list())"
    },
    "r": {
     "delete_cmd_postfix": ") ",
     "delete_cmd_prefix": "rm(",
     "library": "var_list.r",
     "varRefreshCmd": "cat(var_dic_list()) "
    }
   },
   "types_to_exclude": [
    "module",
    "function",
    "builtin_function_or_method",
    "instance",
    "_Feature"
   ],
   "window_display": false
  }
 },
 "nbformat": 4,
 "nbformat_minor": 4
}
