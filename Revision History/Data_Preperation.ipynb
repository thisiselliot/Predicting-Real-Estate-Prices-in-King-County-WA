{
 "cells": [
  {
   "cell_type": "code",
   "execution_count": 1,
   "metadata": {},
   "outputs": [],
   "source": [
    "from sklearn import linear_model, metrics\n",
    "from sklearn.model_selection import train_test_split\n",
    "\n",
    "import pandas as pd\n",
    "import numpy as np\n",
    "import seaborn as sns\n",
    "import matplotlib.pyplot as plt\n",
    "\n",
    "pd.set_option('display.max_columns', 0)\n",
    "%matplotlib inline"
   ]
  },
  {
   "cell_type": "code",
   "execution_count": 2,
   "metadata": {},
   "outputs": [],
   "source": [
    "df = pd.read_csv('kc_house_data_train.csv', index_col=0)"
   ]
  },
  {
   "cell_type": "code",
   "execution_count": 3,
   "metadata": {},
   "outputs": [],
   "source": [
    "# Fix 33 bdrms typo\n",
    "df['bedrooms'] = df.bedrooms.replace([33],3)"
   ]
  },
  {
   "cell_type": "code",
   "execution_count": null,
   "metadata": {},
   "outputs": [],
   "source": [
    "# Make dummies for view\n",
    "df['view'] = np.where(df['view'] == 2, 1, df['view'])\n",
    "df = pd.get_dummies(df, columns=['view'], drop_first=True)\n",
    "df.rename(columns={'view_1':'view_1_or_2'}, inplace=True)"
   ]
  },
  {
   "cell_type": "code",
   "execution_count": null,
   "metadata": {},
   "outputs": [],
   "source": [
    "# Make dummies for zipcode\n",
    "df = pd.get_dummies(df, columns=['zipcode'], drop_first=True)"
   ]
  },
  {
   "cell_type": "code",
   "execution_count": 4,
   "metadata": {},
   "outputs": [],
   "source": [
    "# Cap all sqft features to remove outliers\n",
    "df['sqft_above'] = np.where(df['sqft_above'] > 7000, 7000, df['sqft_above'])\n",
    "df['sqft_basement'] = np.where(df['sqft_basement'] > 3000, 3000, df['sqft_basement'])\n",
    "df['sqft_living'] = np.where(df['sqft_living'] > 8000, 8000, df['sqft_living'])\n",
    "df['sqft_living15'] = np.where(df['sqft_living15'] > 6000, 6000, df['sqft_living15'])\n",
    "df['sqft_lot'] = np.where(df['sqft_lot'] > 100000, 100000, df['sqft_lot'])\n",
    "df['sqft_lot15'] = np.where(df['sqft_lot15'] > 100000, 100000, df['sqft_lot15'])"
   ]
  },
  {
   "cell_type": "code",
   "execution_count": 5,
   "metadata": {},
   "outputs": [],
   "source": [
    "# Engineer feature for date in terms of years old (since built or renovated) at time of sale\n",
    "\n",
    "# Get latter of year built/renovated\n",
    "df['yr_built_or_renovated'] = df.yr_built\n",
    "df['yr_built_or_renovated'].where(df.yr_built > df.yr_renovated, df.yr_renovated, inplace=True)\n",
    "\n",
    "# Subtract year built/renovated from date sold\n",
    "df['years_old'] = df.date.map(lambda x : int(x[:4])) - df.yr_built_or_renovated\n",
    "\n",
    "# Add age feature to df\n",
    "df['age_feature'] = (df['years_old']-57)**2"
   ]
  },
  {
   "cell_type": "code",
   "execution_count": null,
   "metadata": {},
   "outputs": [],
   "source": [
    "# Add dummy for basement\n",
    "df['basement'] = np.where(df.sqft_basement, 1, 0)"
   ]
  },
  {
   "cell_type": "code",
   "execution_count": null,
   "metadata": {},
   "outputs": [],
   "source": [
    "# Add ratio property/neighbors ratio for sqft_lot\n",
    "df['sqft_lot_relative_to_nabe'] = df['sqft_lot'] / df['sqft_lot15']"
   ]
  },
  {
   "cell_type": "code",
   "execution_count": null,
   "metadata": {},
   "outputs": [],
   "source": [
    "# Add ratio property/neighbors ratio for sqft_living\n",
    "df['sqft_living_relative_to_nabe'] = df['sqft_living'] / df['sqft_living15']"
   ]
  },
  {
   "cell_type": "code",
   "execution_count": null,
   "metadata": {},
   "outputs": [],
   "source": [
    "# Add dummy for renovated\n",
    "df['renovated'] = np.where(df.yr_renovated, 1, 0)"
   ]
  },
  {
   "cell_type": "code",
   "execution_count": null,
   "metadata": {},
   "outputs": [],
   "source": [
    "# Add sqft per floor\n",
    "df['sq_ft_per_flr'] = df.sqft_above / df.floors"
   ]
  },
  {
   "cell_type": "code",
   "execution_count": null,
   "metadata": {},
   "outputs": [],
   "source": [
    "# Add dummy for has bathroom\n",
    "df['has_bathroom'] = np.where(df.bathrooms, 1, 0)"
   ]
  },
  {
   "cell_type": "code",
   "execution_count": null,
   "metadata": {},
   "outputs": [],
   "source": [
    "# Add grade feature\n",
    "df['grade'] = (df['grade']-9)**2"
   ]
  },
  {
   "cell_type": "code",
   "execution_count": 6,
   "metadata": {},
   "outputs": [],
   "source": [
    "# Drop id and date\n",
    "df.drop(columns=['id', 'date'], inplace=True)"
   ]
  },
  {
   "cell_type": "code",
   "execution_count": 7,
   "metadata": {},
   "outputs": [],
   "source": [
    "# Write prepared data to csv for modelling\n",
    "df.to_csv('prepared_data.csv')"
   ]
  },
  {
   "cell_type": "code",
   "execution_count": 8,
   "metadata": {},
   "outputs": [
    {
     "data": {
      "text/plain": [
       "(17290, 22)"
      ]
     },
     "execution_count": 8,
     "metadata": {},
     "output_type": "execute_result"
    }
   ],
   "source": [
    "df.shape"
   ]
  },
  {
   "cell_type": "code",
   "execution_count": null,
   "metadata": {},
   "outputs": [],
   "source": [
    "df.head()"
   ]
  },
  {
   "cell_type": "code",
   "execution_count": null,
   "metadata": {},
   "outputs": [],
   "source": [
    "df.corr()"
   ]
  },
  {
   "cell_type": "code",
   "execution_count": null,
   "metadata": {},
   "outputs": [],
   "source": []
  }
 ],
 "metadata": {
  "kernelspec": {
   "display_name": "learn-env",
   "language": "python",
   "name": "learn-env"
  },
  "language_info": {
   "codemirror_mode": {
    "name": "ipython",
    "version": 3
   },
   "file_extension": ".py",
   "mimetype": "text/x-python",
   "name": "python",
   "nbconvert_exporter": "python",
   "pygments_lexer": "ipython3",
   "version": "3.6.9"
  },
  "toc": {
   "base_numbering": 1,
   "nav_menu": {},
   "number_sections": true,
   "sideBar": true,
   "skip_h1_title": false,
   "title_cell": "Table of Contents",
   "title_sidebar": "Contents",
   "toc_cell": false,
   "toc_position": {},
   "toc_section_display": true,
   "toc_window_display": false
  },
  "varInspector": {
   "cols": {
    "lenName": 16,
    "lenType": 16,
    "lenVar": 40
   },
   "kernels_config": {
    "python": {
     "delete_cmd_postfix": "",
     "delete_cmd_prefix": "del ",
     "library": "var_list.py",
     "varRefreshCmd": "print(var_dic_list())"
    },
    "r": {
     "delete_cmd_postfix": ") ",
     "delete_cmd_prefix": "rm(",
     "library": "var_list.r",
     "varRefreshCmd": "cat(var_dic_list()) "
    }
   },
   "types_to_exclude": [
    "module",
    "function",
    "builtin_function_or_method",
    "instance",
    "_Feature"
   ],
   "window_display": false
  }
 },
 "nbformat": 4,
 "nbformat_minor": 4
}
