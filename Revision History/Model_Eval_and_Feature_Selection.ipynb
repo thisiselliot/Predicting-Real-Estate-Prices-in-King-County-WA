{
 "cells": [
  {
   "cell_type": "code",
   "execution_count": 66,
   "metadata": {},
   "outputs": [],
   "source": [
    "import pandas as pd\n",
    "pd.set_option('display.max_columns', 300)\n",
    "pd.set_option('display.max_rows', 200)\n",
    "import numpy as np\n",
    "from matplotlib import pyplot as plt\n",
    "import seaborn as sns\n",
    "sns.set(style=\"whitegrid\")\n",
    "\n",
    "from sklearn.linear_model import LinearRegression\n",
    "from sklearn.model_selection import train_test_split\n",
    "from sklearn.preprocessing import PolynomialFeatures\n",
    "from sklearn.preprocessing import StandardScaler\n",
    "from sklearn import linear_model, metrics\n",
    "from sklearn.feature_selection import RFECV\n",
    "from sklearn.feature_selection import SelectKBest, f_regression,mutual_info_regression\n",
    "from sklearn.linear_model import Lasso\n",
    "\n",
    "from statsmodels.stats.outliers_influence import variance_inflation_factor\n",
    "import pickle"
   ]
  },
  {
   "cell_type": "code",
   "execution_count": 2,
   "metadata": {},
   "outputs": [],
   "source": [
    "df = pd.read_csv('engineered_data.csv', index_col=0)"
   ]
  },
  {
   "cell_type": "code",
   "execution_count": 3,
   "metadata": {},
   "outputs": [],
   "source": [
    "# Specify features and target\n",
    "features = ['bedrooms', 'bathrooms', 'sqft_living', 'sqft_lot', 'floors',\n",
    "            'waterfront', 'view', 'condition', 'grade', 'sqft_above',\n",
    "            'sqft_basement', 'yr_built', 'yr_renovated', 'zipcode', 'lat',\n",
    "            'long', 'sqft_living15', 'sqft_lot15', 'yr_built_or_renovated',\n",
    "            'years_old', 'age_feature', 'sqft_living_relative_to_nabe',\n",
    "            'renovated', 'viewed', 'sq_ft_per_flr']\n",
    "\n",
    "df_features = df[features]\n",
    "target = df['price']"
   ]
  },
  {
   "cell_type": "code",
   "execution_count": 4,
   "metadata": {},
   "outputs": [
    {
     "name": "stdout",
     "output_type": "stream",
     "text": [
      "-55927008.462223336\n",
      "[-2.93410608e+04  4.04015590e+04  2.16509012e+02  8.30061948e-02\n",
      " -1.84552263e+04  5.82596409e+05  5.71244020e+04  3.50491223e+04\n",
      "  9.69501209e+04  1.25899392e+02  9.06096184e+01 -1.74432167e+03\n",
      "  3.02512498e+03 -5.88264419e+02  6.12247373e+05 -2.24067488e+05\n",
      " -1.45024530e+02 -1.71959455e-01  2.98489325e+04  3.08346659e+04\n",
      "  2.41610799e+01 -3.17799971e+05 -5.95435636e+06 -1.06847790e+04\n",
      " -1.06196946e+01]\n",
      "R^2:  0.7131912919501127\n"
     ]
    }
   ],
   "source": [
    "#instantiate a linear regression object\n",
    "lm = LinearRegression()\n",
    "\n",
    "#fit the linear regression to the data\n",
    "lm = lm.fit(df_features, target)\n",
    "\n",
    "#access output\n",
    "print(lm.intercept_)\n",
    "print(lm.coef_)\n",
    "print(\"R^2: \", lm.score(df_features, target))"
   ]
  },
  {
   "cell_type": "markdown",
   "metadata": {},
   "source": [
    "# Model Evaluation"
   ]
  },
  {
   "cell_type": "markdown",
   "metadata": {
    "heading_collapsed": true
   },
   "source": [
    "## Generate Polynomial Featuresets"
   ]
  },
  {
   "cell_type": "code",
   "execution_count": 5,
   "metadata": {
    "hidden": true
   },
   "outputs": [
    {
     "data": {
      "text/plain": [
       "((17290, 25), (17290, 350))"
      ]
     },
     "execution_count": 5,
     "metadata": {},
     "output_type": "execute_result"
    }
   ],
   "source": [
    "# Use SKlearn to create features¶\n",
    "poly = PolynomialFeatures(degree=2, include_bias=False)\n",
    "poly_data = poly.fit_transform(df_features)\n",
    "poly_columns = poly.get_feature_names(df_features.columns)\n",
    "df_poly = pd.DataFrame(poly_data, columns=poly_columns)\n",
    "\n",
    "# Check the new feature set shape\n",
    "df_features.shape, df_poly.shape"
   ]
  },
  {
   "cell_type": "code",
   "execution_count": 6,
   "metadata": {
    "hidden": true
   },
   "outputs": [
    {
     "name": "stdout",
     "output_type": "stream",
     "text": [
      "R^2:  0.8510623541610595\n"
     ]
    }
   ],
   "source": [
    "# Fit and Assess new model\n",
    "\n",
    "#instantiate a linear regression object\n",
    "lm_2 = LinearRegression()\n",
    "\n",
    "#fit the linear regression to the data\n",
    "lm_2 = lm_2.fit(df_poly, target)\n",
    "\n",
    "#access output\n",
    "# print(lm_2.intercept_)\n",
    "# print(lm_2.coef_)\n",
    "print(\"R^2: \", lm_2.score(df_poly, target))"
   ]
  },
  {
   "cell_type": "code",
   "execution_count": 7,
   "metadata": {
    "hidden": true
   },
   "outputs": [
    {
     "data": {
      "text/plain": [
       "(17290, 3275)"
      ]
     },
     "execution_count": 7,
     "metadata": {},
     "output_type": "execute_result"
    }
   ],
   "source": [
    "# Fit third degree polynomial\n",
    "\n",
    "poly_3 = PolynomialFeatures(degree=3, include_bias=False)\n",
    "poly3_data = poly_3.fit_transform(df_features)\n",
    "poly3_columns = poly_3.get_feature_names(df_features.columns)\n",
    "df_poly3 = pd.DataFrame(poly3_data, columns=poly3_columns)\n",
    "df_poly3.shape"
   ]
  },
  {
   "cell_type": "code",
   "execution_count": 8,
   "metadata": {
    "hidden": true
   },
   "outputs": [
    {
     "name": "stdout",
     "output_type": "stream",
     "text": [
      "R^2:  0.8636798240004304\n"
     ]
    }
   ],
   "source": [
    "#instantiate a linear regression object\n",
    "lm_3 = LinearRegression()\n",
    "\n",
    "#fit the linear regression to the data\n",
    "lm_3 = lm_3.fit(df_poly3, target)\n",
    "\n",
    "#access output\n",
    "# print(lm_3.intercept_)\n",
    "# print(lm_3.coef_)\n",
    "print(\"R^2: \", lm_3.score(df_poly3, target))"
   ]
  },
  {
   "cell_type": "markdown",
   "metadata": {
    "heading_collapsed": true
   },
   "source": [
    "## Model Evaluation"
   ]
  },
  {
   "cell_type": "code",
   "execution_count": 9,
   "metadata": {
    "hidden": true
   },
   "outputs": [
    {
     "name": "stdout",
     "output_type": "stream",
     "text": [
      "Training set - Features:  (13832, 25) Target:  (13832,)\n",
      "Training set - Features:  (3458, 25) Target:  (3458,)\n"
     ]
    }
   ],
   "source": [
    "# Create Train and Test Split\n",
    "\n",
    "#call train_test_split on the data and capture the results\n",
    "X_train, X_test, y_train, y_test = train_test_split(df_features, target, random_state=34,test_size=0.2)\n",
    "\n",
    "#check the shape of the results\n",
    "print(\"Training set - Features: \", X_train.shape, \"Target: \", y_train.shape)\n",
    "print(\"Training set - Features: \", X_test.shape, \"Target: \",y_test.shape)"
   ]
  },
  {
   "cell_type": "code",
   "execution_count": 10,
   "metadata": {
    "hidden": true
   },
   "outputs": [
    {
     "name": "stdout",
     "output_type": "stream",
     "text": [
      "-55444045.44162651\n",
      "[-2.80515532e+04  3.76934198e+04  2.21567075e+02  1.30637587e-01\n",
      " -2.12601998e+04  5.71401061e+05  5.31535078e+04  3.51463411e+04\n",
      "  9.75941516e+04  1.27551997e+02  9.40150784e+01 -1.95936016e+03\n",
      "  2.36876624e+03 -6.16669631e+02  6.15096368e+05 -2.25683992e+05\n",
      " -1.51872240e+02 -1.96469372e-01  3.10503355e+04  3.17804907e+04\n",
      "  2.56362105e+01 -3.26357295e+05 -4.66789796e+06 -5.30862452e+03\n",
      " -1.72195852e+01]\n"
     ]
    }
   ],
   "source": [
    "# fit a model\n",
    "from sklearn import linear_model\n",
    "\n",
    "#instantiate a linear regression object\n",
    "lm = linear_model.LinearRegression()\n",
    "\n",
    "#fit the linear regression to the data\n",
    "lm = lm.fit(X_train, y_train)\n",
    "\n",
    "\n",
    "print(lm.intercept_)\n",
    "print(lm.coef_)"
   ]
  },
  {
   "cell_type": "code",
   "execution_count": 11,
   "metadata": {
    "hidden": true
   },
   "outputs": [
    {
     "name": "stdout",
     "output_type": "stream",
     "text": [
      "R^2 Score: 0.7154951181735081\n"
     ]
    }
   ],
   "source": [
    "print (\"R^2 Score:\", lm.score(X_train, y_train))"
   ]
  },
  {
   "cell_type": "code",
   "execution_count": 12,
   "metadata": {
    "hidden": true
   },
   "outputs": [
    {
     "name": "stdout",
     "output_type": "stream",
     "text": [
      "Mean Absolute Error: 123754.64059509123\n",
      "Mean Squared Error: 39394847703.69362\n",
      "Root Mean Squared Error: 198481.35354156978\n"
     ]
    }
   ],
   "source": [
    "y_train_pred = lm.predict(X_train)\n",
    "\n",
    "train_mae = metrics.mean_absolute_error(y_train, y_train_pred)\n",
    "train_mse = metrics.mean_squared_error(y_train, y_train_pred)\n",
    "train_rmse = np.sqrt(metrics.mean_squared_error(y_train, y_train_pred))\n",
    "\n",
    "print('Mean Absolute Error:', train_mae )\n",
    "print('Mean Squared Error:',  train_mse)\n",
    "print('Root Mean Squared Error:' , train_rmse)"
   ]
  },
  {
   "cell_type": "code",
   "execution_count": 13,
   "metadata": {
    "hidden": true
   },
   "outputs": [],
   "source": [
    "# Predicting test set\n",
    "\n",
    "y_pred = lm.predict(X_test)"
   ]
  },
  {
   "cell_type": "code",
   "execution_count": 14,
   "metadata": {
    "hidden": true
   },
   "outputs": [
    {
     "name": "stdout",
     "output_type": "stream",
     "text": [
      "Score: 0.7033250691741091\n"
     ]
    }
   ],
   "source": [
    "print (\"Score:\", lm.score(X_test, y_test))"
   ]
  },
  {
   "cell_type": "code",
   "execution_count": 15,
   "metadata": {
    "hidden": true
   },
   "outputs": [
    {
     "name": "stdout",
     "output_type": "stream",
     "text": [
      "Mean Absolute Error:126046.2288203114\n",
      "Mean Squared Error:42400276678.12249\n",
      "Root Mean Squared Error:205913.274652516\n"
     ]
    }
   ],
   "source": [
    "test_mae = metrics.mean_absolute_error(y_test, y_pred)\n",
    "test_rmse = np.sqrt(metrics.mean_squared_error(y_test, y_pred))\n",
    "\n",
    "print('Mean Absolute Error:' + str(metrics.mean_absolute_error(y_test, y_pred)))\n",
    "print('Mean Squared Error:' + str(metrics.mean_squared_error(y_test, y_pred)))\n",
    "print('Root Mean Squared Error:' + str(np.sqrt(metrics.mean_squared_error(y_test, y_pred))))"
   ]
  },
  {
   "cell_type": "code",
   "execution_count": 16,
   "metadata": {
    "hidden": true
   },
   "outputs": [
    {
     "name": "stdout",
     "output_type": "stream",
     "text": [
      "Training:  198481 vs. Testing:  205913\n"
     ]
    }
   ],
   "source": [
    "# Comparing our Model's performance on training data versus test data.\n",
    "\n",
    "print('Training: ', int(train_rmse), \"vs. Testing: \", int(test_rmse))"
   ]
  },
  {
   "cell_type": "markdown",
   "metadata": {
    "heading_collapsed": true
   },
   "source": [
    "## Check assumptions of linear regression"
   ]
  },
  {
   "cell_type": "code",
   "execution_count": 107,
   "metadata": {
    "hidden": true
   },
   "outputs": [],
   "source": [
    "# homeoscadastic and IID"
   ]
  },
  {
   "cell_type": "code",
   "execution_count": 18,
   "metadata": {
    "hidden": true
   },
   "outputs": [],
   "source": [
    "residuals = (y_test- y_pred)"
   ]
  },
  {
   "cell_type": "code",
   "execution_count": 110,
   "metadata": {
    "hidden": true
   },
   "outputs": [
    {
     "data": {
      "image/png": "[encoded data removed]",
      "text/plain": [
       "<Figure size 432x288 with 1 Axes>"
      ]
     },
     "metadata": {},
     "output_type": "display_data"
    }
   ],
   "source": [
    "plt.hist(residuals, bins=50)\n",
    "plt.show()"
   ]
  },
  {
   "cell_type": "code",
   "execution_count": 20,
   "metadata": {
    "hidden": true,
    "scrolled": true
   },
   "outputs": [
    {
     "data": {
      "text/plain": [
       "<matplotlib.axes._subplots.AxesSubplot at 0x1a225bb6d8>"
      ]
     },
     "execution_count": 20,
     "metadata": {},
     "output_type": "execute_result"
    },
    {
     "data": {
      "image/png": "[encoded data removed]",
      "text/plain": [
       "<Figure size 432x288 with 1 Axes>"
      ]
     },
     "metadata": {
      "needs_background": "light"
     },
     "output_type": "display_data"
    }
   ],
   "source": [
    "sns.residplot(y_pred, y_test, lowess=True, color=\"g\")\n",
    "plt.show()"
   ]
  },
  {
   "cell_type": "markdown",
   "metadata": {
    "heading_collapsed": true
   },
   "source": [
    "## Log"
   ]
  },
  {
   "cell_type": "code",
   "execution_count": null,
   "metadata": {
    "hidden": true
   },
   "outputs": [],
   "source": [
    "# Looking at the residuals, if we see a relationship we have not captured, we may need\n",
    "# to take the log of the target (price)"
   ]
  },
  {
   "cell_type": "code",
   "execution_count": 17,
   "metadata": {
    "hidden": true
   },
   "outputs": [],
   "source": [
    "target_log = np.log(target)"
   ]
  },
  {
   "cell_type": "code",
   "execution_count": 21,
   "metadata": {
    "hidden": true
   },
   "outputs": [
    {
     "name": "stdout",
     "output_type": "stream",
     "text": [
      "-105.35667284051515\n",
      "[-1.15161220e-02  5.14728749e-02  2.48107992e-05  4.93331101e-07\n",
      "  7.63063268e-02  4.29635415e-01  2.16732289e-02  7.37078541e-02\n",
      "  1.55610160e-01 -1.68886559e-05  4.16994551e-05 -2.97056646e-03\n",
      "  2.35782970e-03 -7.20975533e-04  1.41668244e+00 -1.84779139e-01\n",
      "  1.96507855e-04 -2.92254631e-08  5.09077841e-02  5.15381102e-02\n",
      "  6.05893023e-05  1.90828516e-01 -4.65898885e+00  1.11989268e-01\n",
      "  7.64990106e-05]\n"
     ]
    }
   ],
   "source": [
    "#instantiate a linear regression object\n",
    "log_model = LinearRegression()\n",
    "\n",
    "#fit the linear regression to the log of the target variable\n",
    "log_model.fit(X_train, np.log(y_train))\n",
    "\n",
    "#access output\n",
    "print(log_model.intercept_)\n",
    "print(log_model.coef_)"
   ]
  },
  {
   "cell_type": "code",
   "execution_count": 22,
   "metadata": {
    "hidden": true
   },
   "outputs": [],
   "source": [
    "y_log_train_pred = log_model.predict(X_train)"
   ]
  },
  {
   "cell_type": "code",
   "execution_count": 23,
   "metadata": {
    "hidden": true
   },
   "outputs": [],
   "source": [
    "# Expoentiate predictions to rescale from logs back to original scale (dollars)\n",
    "y_log_train_pred = np.exp(y_log_train_pred)"
   ]
  },
  {
   "cell_type": "code",
   "execution_count": 24,
   "metadata": {
    "hidden": true
   },
   "outputs": [
    {
     "name": "stdout",
     "output_type": "stream",
     "text": [
      "Mean Absolute Error: 106478.32093950825\n",
      "Root Mean Squared Error: 177828.07118061383\n"
     ]
    }
   ],
   "source": [
    "log_train_mae = metrics.mean_absolute_error(y_train, y_log_train_pred)\n",
    "log_train_rmse = np.sqrt(metrics.mean_squared_error(y_train, y_log_train_pred))\n",
    "\n",
    "print('Mean Absolute Error:', log_train_mae )\n",
    "print('Root Mean Squared Error of training set:' , log_train_rmse)"
   ]
  },
  {
   "cell_type": "code",
   "execution_count": 25,
   "metadata": {
    "hidden": true
   },
   "outputs": [
    {
     "name": "stdout",
     "output_type": "stream",
     "text": [
      "Mean Absolute Error:110712.9955173305\n",
      "Root Mean Squared Error:207297.64539868053\n"
     ]
    }
   ],
   "source": [
    "# Evaluate how well model predicts data\n",
    "\n",
    "y_log_pred = log_model.predict(X_test)\n",
    "y_log_pred = np.exp(y_log_pred) # <--- expoentiate predictions to rescale\n",
    "\n",
    "test_log_mae = metrics.mean_absolute_error(y_test, y_log_pred)\n",
    "test__log_rmse = np.sqrt(metrics.mean_squared_error(y_test, y_log_pred))\n",
    "\n",
    "print('Mean Absolute Error:' + str(test_log_mae))\n",
    "print('Root Mean Squared Error of test set:' + str(test__log_rmse))"
   ]
  },
  {
   "cell_type": "code",
   "execution_count": 26,
   "metadata": {
    "hidden": true
   },
   "outputs": [
    {
     "name": "stdout",
     "output_type": "stream",
     "text": [
      "Original:  205913 vs. Logged:  207297\n"
     ]
    }
   ],
   "source": [
    "# Compare RMSE between orginal and logged target\n",
    "print('Original: ', int(test_rmse), \"vs. Logged: \", int(test__log_rmse))"
   ]
  },
  {
   "cell_type": "code",
   "execution_count": 35,
   "metadata": {
    "hidden": true
   },
   "outputs": [
    {
     "data": {
      "image/png": "[encoded data removed]",
      "text/plain": [
       "<Figure size 432x288 with 1 Axes>"
      ]
     },
     "metadata": {
      "needs_background": "light"
     },
     "output_type": "display_data"
    }
   ],
   "source": [
    "# Check the residuals\n",
    "\n",
    "residuals = (y_test- y_log_pred)\n",
    "\n",
    "plt.hist(residuals, bins=90)\n",
    "plt.show()"
   ]
  },
  {
   "cell_type": "code",
   "execution_count": 31,
   "metadata": {
    "hidden": true
   },
   "outputs": [
    {
     "data": {
      "image/png": "[encoded data removed]",
      "text/plain": [
       "<Figure size 432x288 with 1 Axes>"
      ]
     },
     "metadata": {
      "needs_background": "light"
     },
     "output_type": "display_data"
    }
   ],
   "source": [
    "sns.residplot(y_log_pred, y_test, lowess=True, color=\"g\")\n",
    "plt.show()"
   ]
  },
  {
   "cell_type": "markdown",
   "metadata": {
    "heading_collapsed": true
   },
   "source": [
    "## Evaluate polynomial model"
   ]
  },
  {
   "cell_type": "code",
   "execution_count": 36,
   "metadata": {
    "hidden": true
   },
   "outputs": [
    {
     "name": "stdout",
     "output_type": "stream",
     "text": [
      "Training set - Features:  (13832, 3275) Target:  (13832,)\n",
      "Training set - Features:  (3458, 3275) Target:  (3458,)\n"
     ]
    }
   ],
   "source": [
    "# Train Test Split the polynomial data\n",
    "\n",
    "#call train_test_split on the data and capture the results\n",
    "X_train_poly, X_test_poly, y_train_poly, y_test_poly = train_test_split(df_poly3, target, random_state=34,test_size=0.2)\n",
    "\n",
    "#check the shape of the results\n",
    "print(\"Training set - Features: \", X_train_poly.shape, \"Target: \", y_train_poly.shape)\n",
    "print(\"Training set - Features: \", X_test_poly.shape, \"Target: \",y_test_poly.shape)"
   ]
  },
  {
   "cell_type": "code",
   "execution_count": 37,
   "metadata": {
    "hidden": true
   },
   "outputs": [],
   "source": [
    "# Fit the model\n",
    "\n",
    "#instantiate a linear regression object\n",
    "lr_poly = LinearRegression()\n",
    "\n",
    "#fit the linear regression to the data\n",
    "lr_poly = lr_poly.fit(X_train_poly, y_train_poly)"
   ]
  },
  {
   "cell_type": "code",
   "execution_count": 38,
   "metadata": {
    "hidden": true
   },
   "outputs": [],
   "source": [
    "# Predict on training set `\n",
    "train_preds = lr_poly.predict(X_train_poly)"
   ]
  },
  {
   "cell_type": "code",
   "execution_count": 39,
   "metadata": {
    "hidden": true
   },
   "outputs": [
    {
     "name": "stdout",
     "output_type": "stream",
     "text": [
      "Mean Absolute Error: 86867.08495367132\n",
      "Mean Squared Error: 15340982813.236408\n",
      "Root Mean Squared Error: 123858.72118359857\n"
     ]
    }
   ],
   "source": [
    "# Evaluate training data\n",
    "train_mae_poly = metrics.mean_absolute_error(y_train_poly, train_preds)\n",
    "train_mse_poly = metrics.mean_squared_error(y_train_poly, train_preds)\n",
    "train_rmse_poly = np.sqrt(metrics.mean_squared_error(y_train_poly, train_preds))\n",
    "\n",
    "print('Mean Absolute Error:', train_mae_poly )\n",
    "print('Mean Squared Error:',  train_mse_poly)\n",
    "print('Root Mean Squared Error:' , train_rmse_poly)"
   ]
  },
  {
   "cell_type": "code",
   "execution_count": 40,
   "metadata": {
    "hidden": true
   },
   "outputs": [],
   "source": [
    "# Predict the test set\n",
    "test_preds = lr_poly.predict(X_test_poly)"
   ]
  },
  {
   "cell_type": "code",
   "execution_count": 41,
   "metadata": {
    "hidden": true
   },
   "outputs": [
    {
     "name": "stdout",
     "output_type": "stream",
     "text": [
      "Mean Absolute Error:192778.23550374113\n",
      "Root Mean Squared Error:2537211.755528194\n"
     ]
    }
   ],
   "source": [
    "# Evaluate the test set\n",
    "test_mae_poly = metrics.mean_absolute_error(y_test_poly, test_preds)\n",
    "test_rmse_poly = np.sqrt(metrics.mean_squared_error(y_test_poly, test_preds))\n",
    "\n",
    "\n",
    "print('Mean Absolute Error:' + str(test_mae_poly))\n",
    "# print('Mean Squared Error:' + str(metrics.mean_squared_error(____, ____)))\n",
    "print('Root Mean Squared Error:' + str(test_rmse_poly))"
   ]
  },
  {
   "cell_type": "code",
   "execution_count": 42,
   "metadata": {
    "hidden": true
   },
   "outputs": [
    {
     "name": "stdout",
     "output_type": "stream",
     "text": [
      "Training:  123858 vs. Testing:  2537211\n"
     ]
    }
   ],
   "source": [
    "# Comparing our Model's performance on training data versus test data.\n",
    "print('Training: ', int(train_rmse_poly), \"vs. Testing: \", int(test_rmse_poly))"
   ]
  },
  {
   "cell_type": "markdown",
   "metadata": {},
   "source": [
    "# Feature Selection"
   ]
  },
  {
   "cell_type": "markdown",
   "metadata": {
    "heading_collapsed": true
   },
   "source": [
    "## Scale"
   ]
  },
  {
   "cell_type": "code",
   "execution_count": 43,
   "metadata": {
    "hidden": true
   },
   "outputs": [],
   "source": [
    "scaler = StandardScaler()\n",
    "\n",
    "# fit the scaler to the training data\n",
    "scaler.fit(X_train)\n",
    "\n",
    "#transform the training data\n",
    "X_train = pd.DataFrame(data=scaler.transform(X_train), columns=df_features.columns)\n",
    "\n",
    "#transform the testing dat\n",
    "X_test = pd.DataFrame(data=scaler.transform(X_test), columns=df_features.columns)"
   ]
  },
  {
   "cell_type": "code",
   "execution_count": 44,
   "metadata": {
    "hidden": true
   },
   "outputs": [
    {
     "name": "stdout",
     "output_type": "stream",
     "text": [
      "Training Root Mean Squared Error: 198481.35354156978\n"
     ]
    }
   ],
   "source": [
    "#instantiate a linear regression object\n",
    "lm = LinearRegression()\n",
    "\n",
    "#fit the linear regression to the data\n",
    "lm = lm.fit(X_train, y_train)\n",
    "\n",
    "y_train_pred = lm.predict(X_train)\n",
    "\n",
    "train_rmse = np.sqrt(metrics.mean_squared_error(y_train, y_train_pred))\n",
    "\n",
    "print('Training Root Mean Squared Error:' , train_rmse)"
   ]
  },
  {
   "cell_type": "code",
   "execution_count": 45,
   "metadata": {
    "hidden": true
   },
   "outputs": [
    {
     "name": "stdout",
     "output_type": "stream",
     "text": [
      "Testing Root Mean Squared Error: 205913.27465251056\n",
      "Training:  198481 vs. Testing:  205913\n"
     ]
    }
   ],
   "source": [
    "# Evaluate on the test set\n",
    "\n",
    "#use fitted model to predict on the test examples\n",
    "y_test_pred = lm.predict(X_test)\n",
    "\n",
    "#evaluate the predictions on the test examples\n",
    "test_rmse = np.sqrt(metrics.mean_squared_error(y_test, y_test_pred))\n",
    "\n",
    "print('Testing Root Mean Squared Error:' , test_rmse)\n",
    "\n",
    "print('Training: ', int(train_rmse), \"vs. Testing: \", int(test_rmse))"
   ]
  },
  {
   "cell_type": "code",
   "execution_count": 46,
   "metadata": {
    "hidden": true
   },
   "outputs": [
    {
     "data": {
      "text/plain": [
       "<matplotlib.axes._subplots.AxesSubplot at 0x1a2a97d710>"
      ]
     },
     "execution_count": 46,
     "metadata": {},
     "output_type": "execute_result"
    },
    {
     "data": {
      "image/png": "[encoded data removed]",
      "text/plain": [
       "<Figure size 432x288 with 1 Axes>"
      ]
     },
     "metadata": {
      "needs_background": "light"
     },
     "output_type": "display_data"
    }
   ],
   "source": [
    "# Plot the residuals after fitting a linear model\n",
    "sns.residplot( y_test, y_test_pred,lowess=True, color=\"g\")"
   ]
  },
  {
   "cell_type": "markdown",
   "metadata": {
    "heading_collapsed": true
   },
   "source": [
    "## Log"
   ]
  },
  {
   "cell_type": "code",
   "execution_count": 47,
   "metadata": {
    "hidden": true
   },
   "outputs": [
    {
     "name": "stdout",
     "output_type": "stream",
     "text": [
      "Training Root Mean Squared Error: 656777.4921426349\n"
     ]
    }
   ],
   "source": [
    "# Will our model perform better if we try to predict the log of the gross instead?\n",
    "\n",
    "#take the natural log of the target variable\n",
    "y_log = np.log(y_train)\n",
    "\n",
    "#instantiate a linear regression object\n",
    "lm_log = LinearRegression()\n",
    "\n",
    "#fit the linear regression to the data\n",
    "lm_log = lm_log.fit(X_train, y_log)\n",
    "\n",
    "log_train_pred = lm_log.predict(X_train)\n",
    "\n",
    "#log_train_pred the predictions to get them on the same original scale \n",
    "y_train_pred = np.exp(log_train_pred)\n",
    "\n",
    "train_rmse = np.sqrt(metrics.mean_squared_error(y_train, log_train_pred))\n",
    "\n",
    "print('Training Root Mean Squared Error:' , train_rmse)"
   ]
  },
  {
   "cell_type": "code",
   "execution_count": 48,
   "metadata": {
    "hidden": true
   },
   "outputs": [
    {
     "name": "stdout",
     "output_type": "stream",
     "text": [
      "Testing Root Mean Squared Error: 207297.64539863382\n"
     ]
    }
   ],
   "source": [
    "log_test_pred = lm_log.predict(X_test)\n",
    "#exponentiate the predictions to get them on the same original scale \n",
    "log_test_pred = np.exp(log_test_pred)\n",
    "log_test_rmse = np.sqrt(metrics.mean_squared_error(y_test, log_test_pred))\n",
    "\n",
    "print('Testing Root Mean Squared Error:' , log_test_rmse)"
   ]
  },
  {
   "cell_type": "code",
   "execution_count": 49,
   "metadata": {
    "hidden": true
   },
   "outputs": [
    {
     "name": "stdout",
     "output_type": "stream",
     "text": [
      "Testing Root Mean Squared Error: 207297.64539863382\n",
      "Training:  656777 vs. Testing:  207297\n"
     ]
    }
   ],
   "source": [
    "# Use new model to predict test set\n",
    "\n",
    "y_test_pred = lm_log.predict(X_test)\n",
    "\n",
    "#our model predcicte the log of gross, so now we must exponentiate to get the value in $\n",
    "y_test_pred = np.exp(y_test_pred)\n",
    "\n",
    "test_rmse = np.sqrt(metrics.mean_squared_error(y_test, y_test_pred))\n",
    "\n",
    "print('Testing Root Mean Squared Error:' , test_rmse)\n",
    "\n",
    "print('Training: ', int(train_rmse), \"vs. Testing: \", int(test_rmse))"
   ]
  },
  {
   "cell_type": "markdown",
   "metadata": {
    "heading_collapsed": true
   },
   "source": [
    "## Polynomial"
   ]
  },
  {
   "cell_type": "code",
   "execution_count": 50,
   "metadata": {
    "hidden": true
   },
   "outputs": [
    {
     "name": "stdout",
     "output_type": "stream",
     "text": [
      "Training Root Mean Squared Error: 143685.33569760964\n"
     ]
    }
   ],
   "source": [
    "# Generate polynomial interaction features\n",
    "\n",
    "poly_2 = PolynomialFeatures(degree=2, include_bias=False)\n",
    "poly2_data = poly_2.fit_transform(df_features)\n",
    "poly2_columns = poly_2.get_feature_names(df_features.columns)\n",
    "df_poly2 = pd.DataFrame(poly2_data, columns=poly2_columns)\n",
    "df_poly2.head()\n",
    "\n",
    "X_train, X_test, y_train, y_test = train_test_split(df_poly2, target, random_state=9,test_size=0.2)\n",
    "\n",
    "scaler2 = StandardScaler()\n",
    "# fit the scaler to the training data\n",
    "scaler2.fit(X_train)\n",
    "\n",
    "#transform the training data\n",
    "X_train = pd.DataFrame(data=scaler2.transform(X_train), columns=df_poly2.columns)\n",
    "\n",
    "#transform the testing dat\n",
    "X_test = pd.DataFrame(data=scaler2.transform(X_test), columns=df_poly2.columns)\n",
    "\n",
    "# instantiate a linear regression object\n",
    "lm_2 = LinearRegression()\n",
    "\n",
    "#fit the linear regression to the data\n",
    "lm_2 = lm_2.fit(X_train, y_train)\n",
    "\n",
    "y_train_pred = lm_2.predict(X_train)\n",
    "\n",
    "train_rmse = np.sqrt(metrics.mean_squared_error(y_train, y_train_pred))\n",
    "\n",
    "print('Training Root Mean Squared Error:' , train_rmse)"
   ]
  },
  {
   "cell_type": "code",
   "execution_count": 51,
   "metadata": {
    "hidden": true
   },
   "outputs": [
    {
     "name": "stdout",
     "output_type": "stream",
     "text": [
      "Testing Root Mean Squared Error: 158242.1656226109\n",
      "Training:  143685 vs. Testing:  158242\n"
     ]
    }
   ],
   "source": [
    "# use fitted model to predict on test data\n",
    "y_pred = lm_2.predict(X_test)\n",
    "\n",
    "test_rmse = np.sqrt(metrics.mean_squared_error(y_test, y_pred))\n",
    "\n",
    "print('Testing Root Mean Squared Error:' , test_rmse)\n",
    "\n",
    "\n",
    "print('Training: ', int(train_rmse), \"vs. Testing: \", int(test_rmse))"
   ]
  },
  {
   "cell_type": "code",
   "execution_count": 52,
   "metadata": {
    "hidden": true
   },
   "outputs": [],
   "source": [
    "poly_3 = PolynomialFeatures(degree=3, include_bias=False)\n",
    "poly3_data = poly_3.fit_transform(df_features)\n",
    "poly3_columns = poly_3.get_feature_names(df_features.columns)\n",
    "df_poly3 = pd.DataFrame(poly3_data, columns=poly3_columns)"
   ]
  },
  {
   "cell_type": "code",
   "execution_count": 53,
   "metadata": {
    "hidden": true
   },
   "outputs": [],
   "source": [
    "X_train, X_test, y_train, y_test = train_test_split(df_poly3, target, random_state=9,test_size=0.2)\n",
    "scaler3 = StandardScaler()\n",
    "# fit the scaler to the training data\n",
    "scaler3.fit(X_train)\n",
    "\n",
    "#transform the training data\n",
    "X_train = pd.DataFrame(data=scaler3.transform(X_train), columns=df_poly3.columns)\n",
    "\n",
    "#transform the testing dat\n",
    "X_test = pd.DataFrame(data=scaler3.transform(X_test), columns=df_poly3.columns)"
   ]
  },
  {
   "cell_type": "code",
   "execution_count": 54,
   "metadata": {
    "hidden": true
   },
   "outputs": [],
   "source": [
    "# instantiate a linear regression object\n",
    "lm_3 = LinearRegression()\n",
    "\n",
    "#fit the linear regression to the data\n",
    "lm_3 = lm_3.fit(X_train, y_train)\n",
    "\n",
    "y_train_pred = lm_3.predict(X_train)\n",
    "\n",
    "train_rmse = np.sqrt(metrics.mean_squared_error(y_train, y_train_pred))"
   ]
  },
  {
   "cell_type": "code",
   "execution_count": 55,
   "metadata": {
    "hidden": true
   },
   "outputs": [
    {
     "name": "stdout",
     "output_type": "stream",
     "text": [
      "Testing Root Mean Squared Error: 550563427402153.3\n",
      "Training:  93810 vs. Testing:  550563427402153\n"
     ]
    }
   ],
   "source": [
    "# use fitted model to predict on test data\n",
    "y_pred = lm_3.predict(X_test)\n",
    "\n",
    "test_rmse = np.sqrt(metrics.mean_squared_error(y_test, y_pred))\n",
    "\n",
    "print('Testing Root Mean Squared Error:' , test_rmse)\n",
    "\n",
    "print('Training: ', int(train_rmse), \"vs. Testing: \", int(test_rmse))"
   ]
  },
  {
   "cell_type": "markdown",
   "metadata": {
    "heading_collapsed": true
   },
   "source": [
    "## Removing Variables based on correlation coefficient"
   ]
  },
  {
   "cell_type": "code",
   "execution_count": 58,
   "metadata": {
    "hidden": true
   },
   "outputs": [
    {
     "data": {
      "text/html": [
       "<div>\n",
       "<style scoped>\n",
       "    .dataframe tbody tr th:only-of-type {\n",
       "        vertical-align: middle;\n",
       "    }\n",
       "\n",
       "    .dataframe tbody tr th {\n",
       "        vertical-align: top;\n",
       "    }\n",
       "\n",
       "    .dataframe thead th {\n",
       "        text-align: right;\n",
       "    }\n",
       "</style>\n",
       "<table border=\"1\" class=\"dataframe\">\n",
       "  <thead>\n",
       "    <tr style=\"text-align: right;\">\n",
       "      <th></th>\n",
       "      <th>bedrooms</th>\n",
       "      <th>bathrooms</th>\n",
       "      <th>sqft_living</th>\n",
       "      <th>sqft_lot</th>\n",
       "      <th>floors</th>\n",
       "      <th>waterfront</th>\n",
       "      <th>view</th>\n",
       "      <th>condition</th>\n",
       "      <th>grade</th>\n",
       "      <th>sqft_above</th>\n",
       "      <th>sqft_basement</th>\n",
       "      <th>yr_built</th>\n",
       "      <th>yr_renovated</th>\n",
       "      <th>zipcode</th>\n",
       "      <th>lat</th>\n",
       "      <th>long</th>\n",
       "      <th>sqft_living15</th>\n",
       "      <th>sqft_lot15</th>\n",
       "      <th>yr_built_or_renovated</th>\n",
       "      <th>years_old</th>\n",
       "      <th>age_feature</th>\n",
       "      <th>sqft_living_relative_to_nabe</th>\n",
       "      <th>renovated</th>\n",
       "      <th>viewed</th>\n",
       "      <th>sq_ft_per_flr</th>\n",
       "    </tr>\n",
       "  </thead>\n",
       "  <tbody>\n",
       "    <tr>\n",
       "      <th>bedrooms</th>\n",
       "      <td>NaN</td>\n",
       "      <td>0.525995</td>\n",
       "      <td>0.586839</td>\n",
       "      <td>0.030560</td>\n",
       "      <td>0.179315</td>\n",
       "      <td>0.007167</td>\n",
       "      <td>0.078216</td>\n",
       "      <td>0.016175</td>\n",
       "      <td>0.363436</td>\n",
       "      <td>0.487800</td>\n",
       "      <td>0.306275</td>\n",
       "      <td>0.164581</td>\n",
       "      <td>0.012288</td>\n",
       "      <td>0.146273</td>\n",
       "      <td>0.007597</td>\n",
       "      <td>0.120493</td>\n",
       "      <td>0.398813</td>\n",
       "      <td>0.019807</td>\n",
       "      <td>0.171054</td>\n",
       "      <td>0.171177</td>\n",
       "      <td>0.066370</td>\n",
       "      <td>0.432054</td>\n",
       "      <td>0.011956</td>\n",
       "      <td>0.079132</td>\n",
       "      <td>0.391307</td>\n",
       "    </tr>\n",
       "    <tr>\n",
       "      <th>bathrooms</th>\n",
       "      <td>NaN</td>\n",
       "      <td>NaN</td>\n",
       "      <td>0.754353</td>\n",
       "      <td>0.078504</td>\n",
       "      <td>0.492800</td>\n",
       "      <td>0.072574</td>\n",
       "      <td>0.188267</td>\n",
       "      <td>0.123807</td>\n",
       "      <td>0.664316</td>\n",
       "      <td>0.684122</td>\n",
       "      <td>0.288169</td>\n",
       "      <td>0.507678</td>\n",
       "      <td>0.051492</td>\n",
       "      <td>0.193006</td>\n",
       "      <td>0.021930</td>\n",
       "      <td>0.215522</td>\n",
       "      <td>0.565778</td>\n",
       "      <td>0.074053</td>\n",
       "      <td>0.537704</td>\n",
       "      <td>0.538127</td>\n",
       "      <td>0.395825</td>\n",
       "      <td>0.454603</td>\n",
       "      <td>0.050965</td>\n",
       "      <td>0.175449</td>\n",
       "      <td>0.369163</td>\n",
       "    </tr>\n",
       "    <tr>\n",
       "      <th>sqft_living</th>\n",
       "      <td>NaN</td>\n",
       "      <td>NaN</td>\n",
       "      <td>NaN</td>\n",
       "      <td>0.168833</td>\n",
       "      <td>0.351500</td>\n",
       "      <td>0.121827</td>\n",
       "      <td>0.285025</td>\n",
       "      <td>0.062317</td>\n",
       "      <td>0.760049</td>\n",
       "      <td>0.874431</td>\n",
       "      <td>0.442037</td>\n",
       "      <td>0.316571</td>\n",
       "      <td>0.052999</td>\n",
       "      <td>0.187331</td>\n",
       "      <td>0.051552</td>\n",
       "      <td>0.228677</td>\n",
       "      <td>0.751843</td>\n",
       "      <td>0.170894</td>\n",
       "      <td>0.339497</td>\n",
       "      <td>0.340035</td>\n",
       "      <td>0.239972</td>\n",
       "      <td>0.569383</td>\n",
       "      <td>0.052723</td>\n",
       "      <td>0.267094</td>\n",
       "      <td>0.655712</td>\n",
       "    </tr>\n",
       "    <tr>\n",
       "      <th>sqft_lot</th>\n",
       "      <td>NaN</td>\n",
       "      <td>NaN</td>\n",
       "      <td>NaN</td>\n",
       "      <td>NaN</td>\n",
       "      <td>0.004269</td>\n",
       "      <td>0.016966</td>\n",
       "      <td>0.077697</td>\n",
       "      <td>0.010798</td>\n",
       "      <td>0.116790</td>\n",
       "      <td>0.181008</td>\n",
       "      <td>0.012922</td>\n",
       "      <td>0.054997</td>\n",
       "      <td>0.005931</td>\n",
       "      <td>0.126555</td>\n",
       "      <td>0.088823</td>\n",
       "      <td>0.219890</td>\n",
       "      <td>0.148123</td>\n",
       "      <td>0.730340</td>\n",
       "      <td>0.053782</td>\n",
       "      <td>0.053873</td>\n",
       "      <td>0.037349</td>\n",
       "      <td>0.068481</td>\n",
       "      <td>0.006025</td>\n",
       "      <td>0.068412</td>\n",
       "      <td>0.206438</td>\n",
       "    </tr>\n",
       "    <tr>\n",
       "      <th>floors</th>\n",
       "      <td>NaN</td>\n",
       "      <td>NaN</td>\n",
       "      <td>NaN</td>\n",
       "      <td>NaN</td>\n",
       "      <td>NaN</td>\n",
       "      <td>0.026498</td>\n",
       "      <td>0.025216</td>\n",
       "      <td>0.257399</td>\n",
       "      <td>0.456882</td>\n",
       "      <td>0.526344</td>\n",
       "      <td>0.249500</td>\n",
       "      <td>0.481202</td>\n",
       "      <td>0.008334</td>\n",
       "      <td>0.058942</td>\n",
       "      <td>0.045221</td>\n",
       "      <td>0.124712</td>\n",
       "      <td>0.277224</td>\n",
       "      <td>0.010396</td>\n",
       "      <td>0.496894</td>\n",
       "      <td>0.497283</td>\n",
       "      <td>0.606556</td>\n",
       "      <td>0.200132</td>\n",
       "      <td>0.008279</td>\n",
       "      <td>0.012966</td>\n",
       "      <td>0.251102</td>\n",
       "    </tr>\n",
       "    <tr>\n",
       "      <th>waterfront</th>\n",
       "      <td>NaN</td>\n",
       "      <td>NaN</td>\n",
       "      <td>NaN</td>\n",
       "      <td>NaN</td>\n",
       "      <td>NaN</td>\n",
       "      <td>NaN</td>\n",
       "      <td>0.418471</td>\n",
       "      <td>0.006766</td>\n",
       "      <td>0.096860</td>\n",
       "      <td>0.083276</td>\n",
       "      <td>0.096845</td>\n",
       "      <td>0.020006</td>\n",
       "      <td>0.094712</td>\n",
       "      <td>0.033314</td>\n",
       "      <td>0.006153</td>\n",
       "      <td>0.039215</td>\n",
       "      <td>0.098347</td>\n",
       "      <td>0.024004</td>\n",
       "      <td>0.007196</td>\n",
       "      <td>0.007287</td>\n",
       "      <td>0.007568</td>\n",
       "      <td>0.042287</td>\n",
       "      <td>0.095117</td>\n",
       "      <td>0.278525</td>\n",
       "      <td>0.067371</td>\n",
       "    </tr>\n",
       "    <tr>\n",
       "      <th>view</th>\n",
       "      <td>NaN</td>\n",
       "      <td>NaN</td>\n",
       "      <td>NaN</td>\n",
       "      <td>NaN</td>\n",
       "      <td>NaN</td>\n",
       "      <td>NaN</td>\n",
       "      <td>NaN</td>\n",
       "      <td>0.040953</td>\n",
       "      <td>0.251795</td>\n",
       "      <td>0.164209</td>\n",
       "      <td>0.283196</td>\n",
       "      <td>0.046915</td>\n",
       "      <td>0.092113</td>\n",
       "      <td>0.090405</td>\n",
       "      <td>0.008581</td>\n",
       "      <td>0.073212</td>\n",
       "      <td>0.283037</td>\n",
       "      <td>0.069932</td>\n",
       "      <td>0.017950</td>\n",
       "      <td>0.017954</td>\n",
       "      <td>0.025120</td>\n",
       "      <td>0.074540</td>\n",
       "      <td>0.092229</td>\n",
       "      <td>0.924612</td>\n",
       "      <td>0.177790</td>\n",
       "    </tr>\n",
       "    <tr>\n",
       "      <th>condition</th>\n",
       "      <td>NaN</td>\n",
       "      <td>NaN</td>\n",
       "      <td>NaN</td>\n",
       "      <td>NaN</td>\n",
       "      <td>NaN</td>\n",
       "      <td>NaN</td>\n",
       "      <td>NaN</td>\n",
       "      <td>NaN</td>\n",
       "      <td>0.145388</td>\n",
       "      <td>0.157424</td>\n",
       "      <td>0.162766</td>\n",
       "      <td>0.363959</td>\n",
       "      <td>0.060430</td>\n",
       "      <td>0.005186</td>\n",
       "      <td>0.013361</td>\n",
       "      <td>0.109302</td>\n",
       "      <td>0.093753</td>\n",
       "      <td>0.011136</td>\n",
       "      <td>0.397751</td>\n",
       "      <td>0.396936</td>\n",
       "      <td>0.309929</td>\n",
       "      <td>0.025191</td>\n",
       "      <td>0.059953</td>\n",
       "      <td>0.042391</td>\n",
       "      <td>0.049436</td>\n",
       "    </tr>\n",
       "    <tr>\n",
       "      <th>grade</th>\n",
       "      <td>NaN</td>\n",
       "      <td>NaN</td>\n",
       "      <td>NaN</td>\n",
       "      <td>NaN</td>\n",
       "      <td>NaN</td>\n",
       "      <td>NaN</td>\n",
       "      <td>NaN</td>\n",
       "      <td>NaN</td>\n",
       "      <td>NaN</td>\n",
       "      <td>0.755676</td>\n",
       "      <td>0.167599</td>\n",
       "      <td>0.448011</td>\n",
       "      <td>0.011643</td>\n",
       "      <td>0.179040</td>\n",
       "      <td>0.116612</td>\n",
       "      <td>0.191478</td>\n",
       "      <td>0.713230</td>\n",
       "      <td>0.114429</td>\n",
       "      <td>0.459761</td>\n",
       "      <td>0.460367</td>\n",
       "      <td>0.319937</td>\n",
       "      <td>0.277994</td>\n",
       "      <td>0.011241</td>\n",
       "      <td>0.235117</td>\n",
       "      <td>0.473701</td>\n",
       "    </tr>\n",
       "    <tr>\n",
       "      <th>sqft_above</th>\n",
       "      <td>NaN</td>\n",
       "      <td>NaN</td>\n",
       "      <td>NaN</td>\n",
       "      <td>NaN</td>\n",
       "      <td>NaN</td>\n",
       "      <td>NaN</td>\n",
       "      <td>NaN</td>\n",
       "      <td>NaN</td>\n",
       "      <td>NaN</td>\n",
       "      <td>NaN</td>\n",
       "      <td>0.048646</td>\n",
       "      <td>0.420815</td>\n",
       "      <td>0.025760</td>\n",
       "      <td>0.255650</td>\n",
       "      <td>0.002408</td>\n",
       "      <td>0.334193</td>\n",
       "      <td>0.728536</td>\n",
       "      <td>0.186486</td>\n",
       "      <td>0.433176</td>\n",
       "      <td>0.433680</td>\n",
       "      <td>0.345789</td>\n",
       "      <td>0.418826</td>\n",
       "      <td>0.025629</td>\n",
       "      <td>0.146787</td>\n",
       "      <td>0.630178</td>\n",
       "    </tr>\n",
       "    <tr>\n",
       "      <th>sqft_basement</th>\n",
       "      <td>NaN</td>\n",
       "      <td>NaN</td>\n",
       "      <td>NaN</td>\n",
       "      <td>NaN</td>\n",
       "      <td>NaN</td>\n",
       "      <td>NaN</td>\n",
       "      <td>NaN</td>\n",
       "      <td>NaN</td>\n",
       "      <td>NaN</td>\n",
       "      <td>NaN</td>\n",
       "      <td>NaN</td>\n",
       "      <td>0.126299</td>\n",
       "      <td>0.061486</td>\n",
       "      <td>0.086999</td>\n",
       "      <td>0.110586</td>\n",
       "      <td>0.147097</td>\n",
       "      <td>0.200885</td>\n",
       "      <td>0.007038</td>\n",
       "      <td>0.101954</td>\n",
       "      <td>0.101776</td>\n",
       "      <td>0.145283</td>\n",
       "      <td>0.397865</td>\n",
       "      <td>0.061161</td>\n",
       "      <td>0.278493</td>\n",
       "      <td>0.184826</td>\n",
       "    </tr>\n",
       "    <tr>\n",
       "      <th>yr_built</th>\n",
       "      <td>NaN</td>\n",
       "      <td>NaN</td>\n",
       "      <td>NaN</td>\n",
       "      <td>NaN</td>\n",
       "      <td>NaN</td>\n",
       "      <td>NaN</td>\n",
       "      <td>NaN</td>\n",
       "      <td>NaN</td>\n",
       "      <td>NaN</td>\n",
       "      <td>NaN</td>\n",
       "      <td>NaN</td>\n",
       "      <td>NaN</td>\n",
       "      <td>0.223100</td>\n",
       "      <td>0.344569</td>\n",
       "      <td>0.145054</td>\n",
       "      <td>0.407579</td>\n",
       "      <td>0.327004</td>\n",
       "      <td>0.072863</td>\n",
       "      <td>0.910848</td>\n",
       "      <td>0.910606</td>\n",
       "      <td>0.383907</td>\n",
       "      <td>0.088931</td>\n",
       "      <td>0.223446</td>\n",
       "      <td>0.056917</td>\n",
       "      <td>0.121581</td>\n",
       "    </tr>\n",
       "    <tr>\n",
       "      <th>yr_renovated</th>\n",
       "      <td>NaN</td>\n",
       "      <td>NaN</td>\n",
       "      <td>NaN</td>\n",
       "      <td>NaN</td>\n",
       "      <td>NaN</td>\n",
       "      <td>NaN</td>\n",
       "      <td>NaN</td>\n",
       "      <td>NaN</td>\n",
       "      <td>NaN</td>\n",
       "      <td>NaN</td>\n",
       "      <td>NaN</td>\n",
       "      <td>NaN</td>\n",
       "      <td>NaN</td>\n",
       "      <td>0.061473</td>\n",
       "      <td>0.025180</td>\n",
       "      <td>0.058475</td>\n",
       "      <td>0.006539</td>\n",
       "      <td>0.005796</td>\n",
       "      <td>0.164894</td>\n",
       "      <td>0.165147</td>\n",
       "      <td>0.137114</td>\n",
       "      <td>0.096389</td>\n",
       "      <td>0.999968</td>\n",
       "      <td>0.079554</td>\n",
       "      <td>0.020367</td>\n",
       "    </tr>\n",
       "    <tr>\n",
       "      <th>zipcode</th>\n",
       "      <td>NaN</td>\n",
       "      <td>NaN</td>\n",
       "      <td>NaN</td>\n",
       "      <td>NaN</td>\n",
       "      <td>NaN</td>\n",
       "      <td>NaN</td>\n",
       "      <td>NaN</td>\n",
       "      <td>NaN</td>\n",
       "      <td>NaN</td>\n",
       "      <td>NaN</td>\n",
       "      <td>NaN</td>\n",
       "      <td>NaN</td>\n",
       "      <td>NaN</td>\n",
       "      <td>NaN</td>\n",
       "      <td>0.269612</td>\n",
       "      <td>0.563099</td>\n",
       "      <td>0.271107</td>\n",
       "      <td>0.146793</td>\n",
       "      <td>0.320586</td>\n",
       "      <td>0.320670</td>\n",
       "      <td>0.033492</td>\n",
       "      <td>0.038674</td>\n",
       "      <td>0.061478</td>\n",
       "      <td>0.098891</td>\n",
       "      <td>0.247295</td>\n",
       "    </tr>\n",
       "    <tr>\n",
       "      <th>lat</th>\n",
       "      <td>NaN</td>\n",
       "      <td>NaN</td>\n",
       "      <td>NaN</td>\n",
       "      <td>NaN</td>\n",
       "      <td>NaN</td>\n",
       "      <td>NaN</td>\n",
       "      <td>NaN</td>\n",
       "      <td>NaN</td>\n",
       "      <td>NaN</td>\n",
       "      <td>NaN</td>\n",
       "      <td>NaN</td>\n",
       "      <td>NaN</td>\n",
       "      <td>NaN</td>\n",
       "      <td>NaN</td>\n",
       "      <td>NaN</td>\n",
       "      <td>0.135534</td>\n",
       "      <td>0.052931</td>\n",
       "      <td>0.089690</td>\n",
       "      <td>0.135232</td>\n",
       "      <td>0.134766</td>\n",
       "      <td>0.000367</td>\n",
       "      <td>0.013868</td>\n",
       "      <td>0.025168</td>\n",
       "      <td>0.011162</td>\n",
       "      <td>0.027224</td>\n",
       "    </tr>\n",
       "    <tr>\n",
       "      <th>long</th>\n",
       "      <td>NaN</td>\n",
       "      <td>NaN</td>\n",
       "      <td>NaN</td>\n",
       "      <td>NaN</td>\n",
       "      <td>NaN</td>\n",
       "      <td>NaN</td>\n",
       "      <td>NaN</td>\n",
       "      <td>NaN</td>\n",
       "      <td>NaN</td>\n",
       "      <td>NaN</td>\n",
       "      <td>NaN</td>\n",
       "      <td>NaN</td>\n",
       "      <td>NaN</td>\n",
       "      <td>NaN</td>\n",
       "      <td>NaN</td>\n",
       "      <td>NaN</td>\n",
       "      <td>0.323030</td>\n",
       "      <td>0.255566</td>\n",
       "      <td>0.385856</td>\n",
       "      <td>0.385894</td>\n",
       "      <td>0.116709</td>\n",
       "      <td>0.037048</td>\n",
       "      <td>0.058482</td>\n",
       "      <td>0.083891</td>\n",
       "      <td>0.251334</td>\n",
       "    </tr>\n",
       "    <tr>\n",
       "      <th>sqft_living15</th>\n",
       "      <td>NaN</td>\n",
       "      <td>NaN</td>\n",
       "      <td>NaN</td>\n",
       "      <td>NaN</td>\n",
       "      <td>NaN</td>\n",
       "      <td>NaN</td>\n",
       "      <td>NaN</td>\n",
       "      <td>NaN</td>\n",
       "      <td>NaN</td>\n",
       "      <td>NaN</td>\n",
       "      <td>NaN</td>\n",
       "      <td>NaN</td>\n",
       "      <td>NaN</td>\n",
       "      <td>NaN</td>\n",
       "      <td>NaN</td>\n",
       "      <td>NaN</td>\n",
       "      <td>NaN</td>\n",
       "      <td>0.181796</td>\n",
       "      <td>0.323578</td>\n",
       "      <td>0.323972</td>\n",
       "      <td>0.187780</td>\n",
       "      <td>0.060389</td>\n",
       "      <td>0.006708</td>\n",
       "      <td>0.272818</td>\n",
       "      <td>0.556259</td>\n",
       "    </tr>\n",
       "    <tr>\n",
       "      <th>sqft_lot15</th>\n",
       "      <td>NaN</td>\n",
       "      <td>NaN</td>\n",
       "      <td>NaN</td>\n",
       "      <td>NaN</td>\n",
       "      <td>NaN</td>\n",
       "      <td>NaN</td>\n",
       "      <td>NaN</td>\n",
       "      <td>NaN</td>\n",
       "      <td>NaN</td>\n",
       "      <td>NaN</td>\n",
       "      <td>NaN</td>\n",
       "      <td>NaN</td>\n",
       "      <td>NaN</td>\n",
       "      <td>NaN</td>\n",
       "      <td>NaN</td>\n",
       "      <td>NaN</td>\n",
       "      <td>NaN</td>\n",
       "      <td>NaN</td>\n",
       "      <td>0.071683</td>\n",
       "      <td>0.071878</td>\n",
       "      <td>0.050545</td>\n",
       "      <td>0.041658</td>\n",
       "      <td>0.005837</td>\n",
       "      <td>0.061091</td>\n",
       "      <td>0.216494</td>\n",
       "    </tr>\n",
       "    <tr>\n",
       "      <th>yr_built_or_renovated</th>\n",
       "      <td>NaN</td>\n",
       "      <td>NaN</td>\n",
       "      <td>NaN</td>\n",
       "      <td>NaN</td>\n",
       "      <td>NaN</td>\n",
       "      <td>NaN</td>\n",
       "      <td>NaN</td>\n",
       "      <td>NaN</td>\n",
       "      <td>NaN</td>\n",
       "      <td>NaN</td>\n",
       "      <td>NaN</td>\n",
       "      <td>NaN</td>\n",
       "      <td>NaN</td>\n",
       "      <td>NaN</td>\n",
       "      <td>NaN</td>\n",
       "      <td>NaN</td>\n",
       "      <td>NaN</td>\n",
       "      <td>NaN</td>\n",
       "      <td>NaN</td>\n",
       "      <td>0.999867</td>\n",
       "      <td>0.457688</td>\n",
       "      <td>0.132263</td>\n",
       "      <td>0.164009</td>\n",
       "      <td>0.031712</td>\n",
       "      <td>0.120403</td>\n",
       "    </tr>\n",
       "    <tr>\n",
       "      <th>years_old</th>\n",
       "      <td>NaN</td>\n",
       "      <td>NaN</td>\n",
       "      <td>NaN</td>\n",
       "      <td>NaN</td>\n",
       "      <td>NaN</td>\n",
       "      <td>NaN</td>\n",
       "      <td>NaN</td>\n",
       "      <td>NaN</td>\n",
       "      <td>NaN</td>\n",
       "      <td>NaN</td>\n",
       "      <td>NaN</td>\n",
       "      <td>NaN</td>\n",
       "      <td>NaN</td>\n",
       "      <td>NaN</td>\n",
       "      <td>NaN</td>\n",
       "      <td>NaN</td>\n",
       "      <td>NaN</td>\n",
       "      <td>NaN</td>\n",
       "      <td>NaN</td>\n",
       "      <td>NaN</td>\n",
       "      <td>0.458063</td>\n",
       "      <td>0.132561</td>\n",
       "      <td>0.164262</td>\n",
       "      <td>0.031770</td>\n",
       "      <td>0.120535</td>\n",
       "    </tr>\n",
       "    <tr>\n",
       "      <th>age_feature</th>\n",
       "      <td>NaN</td>\n",
       "      <td>NaN</td>\n",
       "      <td>NaN</td>\n",
       "      <td>NaN</td>\n",
       "      <td>NaN</td>\n",
       "      <td>NaN</td>\n",
       "      <td>NaN</td>\n",
       "      <td>NaN</td>\n",
       "      <td>NaN</td>\n",
       "      <td>NaN</td>\n",
       "      <td>NaN</td>\n",
       "      <td>NaN</td>\n",
       "      <td>NaN</td>\n",
       "      <td>NaN</td>\n",
       "      <td>NaN</td>\n",
       "      <td>NaN</td>\n",
       "      <td>NaN</td>\n",
       "      <td>NaN</td>\n",
       "      <td>NaN</td>\n",
       "      <td>NaN</td>\n",
       "      <td>NaN</td>\n",
       "      <td>0.132296</td>\n",
       "      <td>0.135612</td>\n",
       "      <td>0.032215</td>\n",
       "      <td>0.135988</td>\n",
       "    </tr>\n",
       "    <tr>\n",
       "      <th>sqft_living_relative_to_nabe</th>\n",
       "      <td>NaN</td>\n",
       "      <td>NaN</td>\n",
       "      <td>NaN</td>\n",
       "      <td>NaN</td>\n",
       "      <td>NaN</td>\n",
       "      <td>NaN</td>\n",
       "      <td>NaN</td>\n",
       "      <td>NaN</td>\n",
       "      <td>NaN</td>\n",
       "      <td>NaN</td>\n",
       "      <td>NaN</td>\n",
       "      <td>NaN</td>\n",
       "      <td>NaN</td>\n",
       "      <td>NaN</td>\n",
       "      <td>NaN</td>\n",
       "      <td>NaN</td>\n",
       "      <td>NaN</td>\n",
       "      <td>NaN</td>\n",
       "      <td>NaN</td>\n",
       "      <td>NaN</td>\n",
       "      <td>NaN</td>\n",
       "      <td>NaN</td>\n",
       "      <td>0.096218</td>\n",
       "      <td>0.067243</td>\n",
       "      <td>0.312098</td>\n",
       "    </tr>\n",
       "    <tr>\n",
       "      <th>renovated</th>\n",
       "      <td>NaN</td>\n",
       "      <td>NaN</td>\n",
       "      <td>NaN</td>\n",
       "      <td>NaN</td>\n",
       "      <td>NaN</td>\n",
       "      <td>NaN</td>\n",
       "      <td>NaN</td>\n",
       "      <td>NaN</td>\n",
       "      <td>NaN</td>\n",
       "      <td>NaN</td>\n",
       "      <td>NaN</td>\n",
       "      <td>NaN</td>\n",
       "      <td>NaN</td>\n",
       "      <td>NaN</td>\n",
       "      <td>NaN</td>\n",
       "      <td>NaN</td>\n",
       "      <td>NaN</td>\n",
       "      <td>NaN</td>\n",
       "      <td>NaN</td>\n",
       "      <td>NaN</td>\n",
       "      <td>NaN</td>\n",
       "      <td>NaN</td>\n",
       "      <td>NaN</td>\n",
       "      <td>0.079620</td>\n",
       "      <td>0.020250</td>\n",
       "    </tr>\n",
       "    <tr>\n",
       "      <th>viewed</th>\n",
       "      <td>NaN</td>\n",
       "      <td>NaN</td>\n",
       "      <td>NaN</td>\n",
       "      <td>NaN</td>\n",
       "      <td>NaN</td>\n",
       "      <td>NaN</td>\n",
       "      <td>NaN</td>\n",
       "      <td>NaN</td>\n",
       "      <td>NaN</td>\n",
       "      <td>NaN</td>\n",
       "      <td>NaN</td>\n",
       "      <td>NaN</td>\n",
       "      <td>NaN</td>\n",
       "      <td>NaN</td>\n",
       "      <td>NaN</td>\n",
       "      <td>NaN</td>\n",
       "      <td>NaN</td>\n",
       "      <td>NaN</td>\n",
       "      <td>NaN</td>\n",
       "      <td>NaN</td>\n",
       "      <td>NaN</td>\n",
       "      <td>NaN</td>\n",
       "      <td>NaN</td>\n",
       "      <td>NaN</td>\n",
       "      <td>0.167918</td>\n",
       "    </tr>\n",
       "    <tr>\n",
       "      <th>sq_ft_per_flr</th>\n",
       "      <td>NaN</td>\n",
       "      <td>NaN</td>\n",
       "      <td>NaN</td>\n",
       "      <td>NaN</td>\n",
       "      <td>NaN</td>\n",
       "      <td>NaN</td>\n",
       "      <td>NaN</td>\n",
       "      <td>NaN</td>\n",
       "      <td>NaN</td>\n",
       "      <td>NaN</td>\n",
       "      <td>NaN</td>\n",
       "      <td>NaN</td>\n",
       "      <td>NaN</td>\n",
       "      <td>NaN</td>\n",
       "      <td>NaN</td>\n",
       "      <td>NaN</td>\n",
       "      <td>NaN</td>\n",
       "      <td>NaN</td>\n",
       "      <td>NaN</td>\n",
       "      <td>NaN</td>\n",
       "      <td>NaN</td>\n",
       "      <td>NaN</td>\n",
       "      <td>NaN</td>\n",
       "      <td>NaN</td>\n",
       "      <td>NaN</td>\n",
       "    </tr>\n",
       "  </tbody>\n",
       "</table>\n",
       "</div>"
      ],
      "text/plain": [
       "                              bedrooms  bathrooms  sqft_living  sqft_lot  \\\n",
       "bedrooms                           NaN   0.525995     0.586839  0.030560   \n",
       "bathrooms                          NaN        NaN     0.754353  0.078504   \n",
       "sqft_living                        NaN        NaN          NaN  0.168833   \n",
       "sqft_lot                           NaN        NaN          NaN       NaN   \n",
       "floors                             NaN        NaN          NaN       NaN   \n",
       "waterfront                         NaN        NaN          NaN       NaN   \n",
       "view                               NaN        NaN          NaN       NaN   \n",
       "condition                          NaN        NaN          NaN       NaN   \n",
       "grade                              NaN        NaN          NaN       NaN   \n",
       "sqft_above                         NaN        NaN          NaN       NaN   \n",
       "sqft_basement                      NaN        NaN          NaN       NaN   \n",
       "yr_built                           NaN        NaN          NaN       NaN   \n",
       "yr_renovated                       NaN        NaN          NaN       NaN   \n",
       "zipcode                            NaN        NaN          NaN       NaN   \n",
       "lat                                NaN        NaN          NaN       NaN   \n",
       "long                               NaN        NaN          NaN       NaN   \n",
       "sqft_living15                      NaN        NaN          NaN       NaN   \n",
       "sqft_lot15                         NaN        NaN          NaN       NaN   \n",
       "yr_built_or_renovated              NaN        NaN          NaN       NaN   \n",
       "years_old                          NaN        NaN          NaN       NaN   \n",
       "age_feature                        NaN        NaN          NaN       NaN   \n",
       "sqft_living_relative_to_nabe       NaN        NaN          NaN       NaN   \n",
       "renovated                          NaN        NaN          NaN       NaN   \n",
       "viewed                             NaN        NaN          NaN       NaN   \n",
       "sq_ft_per_flr                      NaN        NaN          NaN       NaN   \n",
       "\n",
       "                                floors  waterfront      view  condition  \\\n",
       "bedrooms                      0.179315    0.007167  0.078216   0.016175   \n",
       "bathrooms                     0.492800    0.072574  0.188267   0.123807   \n",
       "sqft_living                   0.351500    0.121827  0.285025   0.062317   \n",
       "sqft_lot                      0.004269    0.016966  0.077697   0.010798   \n",
       "floors                             NaN    0.026498  0.025216   0.257399   \n",
       "waterfront                         NaN         NaN  0.418471   0.006766   \n",
       "view                               NaN         NaN       NaN   0.040953   \n",
       "condition                          NaN         NaN       NaN        NaN   \n",
       "grade                              NaN         NaN       NaN        NaN   \n",
       "sqft_above                         NaN         NaN       NaN        NaN   \n",
       "sqft_basement                      NaN         NaN       NaN        NaN   \n",
       "yr_built                           NaN         NaN       NaN        NaN   \n",
       "yr_renovated                       NaN         NaN       NaN        NaN   \n",
       "zipcode                            NaN         NaN       NaN        NaN   \n",
       "lat                                NaN         NaN       NaN        NaN   \n",
       "long                               NaN         NaN       NaN        NaN   \n",
       "sqft_living15                      NaN         NaN       NaN        NaN   \n",
       "sqft_lot15                         NaN         NaN       NaN        NaN   \n",
       "yr_built_or_renovated              NaN         NaN       NaN        NaN   \n",
       "years_old                          NaN         NaN       NaN        NaN   \n",
       "age_feature                        NaN         NaN       NaN        NaN   \n",
       "sqft_living_relative_to_nabe       NaN         NaN       NaN        NaN   \n",
       "renovated                          NaN         NaN       NaN        NaN   \n",
       "viewed                             NaN         NaN       NaN        NaN   \n",
       "sq_ft_per_flr                      NaN         NaN       NaN        NaN   \n",
       "\n",
       "                                 grade  sqft_above  sqft_basement  yr_built  \\\n",
       "bedrooms                      0.363436    0.487800       0.306275  0.164581   \n",
       "bathrooms                     0.664316    0.684122       0.288169  0.507678   \n",
       "sqft_living                   0.760049    0.874431       0.442037  0.316571   \n",
       "sqft_lot                      0.116790    0.181008       0.012922  0.054997   \n",
       "floors                        0.456882    0.526344       0.249500  0.481202   \n",
       "waterfront                    0.096860    0.083276       0.096845  0.020006   \n",
       "view                          0.251795    0.164209       0.283196  0.046915   \n",
       "condition                     0.145388    0.157424       0.162766  0.363959   \n",
       "grade                              NaN    0.755676       0.167599  0.448011   \n",
       "sqft_above                         NaN         NaN       0.048646  0.420815   \n",
       "sqft_basement                      NaN         NaN            NaN  0.126299   \n",
       "yr_built                           NaN         NaN            NaN       NaN   \n",
       "yr_renovated                       NaN         NaN            NaN       NaN   \n",
       "zipcode                            NaN         NaN            NaN       NaN   \n",
       "lat                                NaN         NaN            NaN       NaN   \n",
       "long                               NaN         NaN            NaN       NaN   \n",
       "sqft_living15                      NaN         NaN            NaN       NaN   \n",
       "sqft_lot15                         NaN         NaN            NaN       NaN   \n",
       "yr_built_or_renovated              NaN         NaN            NaN       NaN   \n",
       "years_old                          NaN         NaN            NaN       NaN   \n",
       "age_feature                        NaN         NaN            NaN       NaN   \n",
       "sqft_living_relative_to_nabe       NaN         NaN            NaN       NaN   \n",
       "renovated                          NaN         NaN            NaN       NaN   \n",
       "viewed                             NaN         NaN            NaN       NaN   \n",
       "sq_ft_per_flr                      NaN         NaN            NaN       NaN   \n",
       "\n",
       "                              yr_renovated   zipcode       lat      long  \\\n",
       "bedrooms                          0.012288  0.146273  0.007597  0.120493   \n",
       "bathrooms                         0.051492  0.193006  0.021930  0.215522   \n",
       "sqft_living                       0.052999  0.187331  0.051552  0.228677   \n",
       "sqft_lot                          0.005931  0.126555  0.088823  0.219890   \n",
       "floors                            0.008334  0.058942  0.045221  0.124712   \n",
       "waterfront                        0.094712  0.033314  0.006153  0.039215   \n",
       "view                              0.092113  0.090405  0.008581  0.073212   \n",
       "condition                         0.060430  0.005186  0.013361  0.109302   \n",
       "grade                             0.011643  0.179040  0.116612  0.191478   \n",
       "sqft_above                        0.025760  0.255650  0.002408  0.334193   \n",
       "sqft_basement                     0.061486  0.086999  0.110586  0.147097   \n",
       "yr_built                          0.223100  0.344569  0.145054  0.407579   \n",
       "yr_renovated                           NaN  0.061473  0.025180  0.058475   \n",
       "zipcode                                NaN       NaN  0.269612  0.563099   \n",
       "lat                                    NaN       NaN       NaN  0.135534   \n",
       "long                                   NaN       NaN       NaN       NaN   \n",
       "sqft_living15                          NaN       NaN       NaN       NaN   \n",
       "sqft_lot15                             NaN       NaN       NaN       NaN   \n",
       "yr_built_or_renovated                  NaN       NaN       NaN       NaN   \n",
       "years_old                              NaN       NaN       NaN       NaN   \n",
       "age_feature                            NaN       NaN       NaN       NaN   \n",
       "sqft_living_relative_to_nabe           NaN       NaN       NaN       NaN   \n",
       "renovated                              NaN       NaN       NaN       NaN   \n",
       "viewed                                 NaN       NaN       NaN       NaN   \n",
       "sq_ft_per_flr                          NaN       NaN       NaN       NaN   \n",
       "\n",
       "                              sqft_living15  sqft_lot15  \\\n",
       "bedrooms                           0.398813    0.019807   \n",
       "bathrooms                          0.565778    0.074053   \n",
       "sqft_living                        0.751843    0.170894   \n",
       "sqft_lot                           0.148123    0.730340   \n",
       "floors                             0.277224    0.010396   \n",
       "waterfront                         0.098347    0.024004   \n",
       "view                               0.283037    0.069932   \n",
       "condition                          0.093753    0.011136   \n",
       "grade                              0.713230    0.114429   \n",
       "sqft_above                         0.728536    0.186486   \n",
       "sqft_basement                      0.200885    0.007038   \n",
       "yr_built                           0.327004    0.072863   \n",
       "yr_renovated                       0.006539    0.005796   \n",
       "zipcode                            0.271107    0.146793   \n",
       "lat                                0.052931    0.089690   \n",
       "long                               0.323030    0.255566   \n",
       "sqft_living15                           NaN    0.181796   \n",
       "sqft_lot15                              NaN         NaN   \n",
       "yr_built_or_renovated                   NaN         NaN   \n",
       "years_old                               NaN         NaN   \n",
       "age_feature                             NaN         NaN   \n",
       "sqft_living_relative_to_nabe            NaN         NaN   \n",
       "renovated                               NaN         NaN   \n",
       "viewed                                  NaN         NaN   \n",
       "sq_ft_per_flr                           NaN         NaN   \n",
       "\n",
       "                              yr_built_or_renovated  years_old  age_feature  \\\n",
       "bedrooms                                   0.171054   0.171177     0.066370   \n",
       "bathrooms                                  0.537704   0.538127     0.395825   \n",
       "sqft_living                                0.339497   0.340035     0.239972   \n",
       "sqft_lot                                   0.053782   0.053873     0.037349   \n",
       "floors                                     0.496894   0.497283     0.606556   \n",
       "waterfront                                 0.007196   0.007287     0.007568   \n",
       "view                                       0.017950   0.017954     0.025120   \n",
       "condition                                  0.397751   0.396936     0.309929   \n",
       "grade                                      0.459761   0.460367     0.319937   \n",
       "sqft_above                                 0.433176   0.433680     0.345789   \n",
       "sqft_basement                              0.101954   0.101776     0.145283   \n",
       "yr_built                                   0.910848   0.910606     0.383907   \n",
       "yr_renovated                               0.164894   0.165147     0.137114   \n",
       "zipcode                                    0.320586   0.320670     0.033492   \n",
       "lat                                        0.135232   0.134766     0.000367   \n",
       "long                                       0.385856   0.385894     0.116709   \n",
       "sqft_living15                              0.323578   0.323972     0.187780   \n",
       "sqft_lot15                                 0.071683   0.071878     0.050545   \n",
       "yr_built_or_renovated                           NaN   0.999867     0.457688   \n",
       "years_old                                       NaN        NaN     0.458063   \n",
       "age_feature                                     NaN        NaN          NaN   \n",
       "sqft_living_relative_to_nabe                    NaN        NaN          NaN   \n",
       "renovated                                       NaN        NaN          NaN   \n",
       "viewed                                          NaN        NaN          NaN   \n",
       "sq_ft_per_flr                                   NaN        NaN          NaN   \n",
       "\n",
       "                              sqft_living_relative_to_nabe  renovated  \\\n",
       "bedrooms                                          0.432054   0.011956   \n",
       "bathrooms                                         0.454603   0.050965   \n",
       "sqft_living                                       0.569383   0.052723   \n",
       "sqft_lot                                          0.068481   0.006025   \n",
       "floors                                            0.200132   0.008279   \n",
       "waterfront                                        0.042287   0.095117   \n",
       "view                                              0.074540   0.092229   \n",
       "condition                                         0.025191   0.059953   \n",
       "grade                                             0.277994   0.011241   \n",
       "sqft_above                                        0.418826   0.025629   \n",
       "sqft_basement                                     0.397865   0.061161   \n",
       "yr_built                                          0.088931   0.223446   \n",
       "yr_renovated                                      0.096389   0.999968   \n",
       "zipcode                                           0.038674   0.061478   \n",
       "lat                                               0.013868   0.025168   \n",
       "long                                              0.037048   0.058482   \n",
       "sqft_living15                                     0.060389   0.006708   \n",
       "sqft_lot15                                        0.041658   0.005837   \n",
       "yr_built_or_renovated                             0.132263   0.164009   \n",
       "years_old                                         0.132561   0.164262   \n",
       "age_feature                                       0.132296   0.135612   \n",
       "sqft_living_relative_to_nabe                           NaN   0.096218   \n",
       "renovated                                              NaN        NaN   \n",
       "viewed                                                 NaN        NaN   \n",
       "sq_ft_per_flr                                          NaN        NaN   \n",
       "\n",
       "                                viewed  sq_ft_per_flr  \n",
       "bedrooms                      0.079132       0.391307  \n",
       "bathrooms                     0.175449       0.369163  \n",
       "sqft_living                   0.267094       0.655712  \n",
       "sqft_lot                      0.068412       0.206438  \n",
       "floors                        0.012966       0.251102  \n",
       "waterfront                    0.278525       0.067371  \n",
       "view                          0.924612       0.177790  \n",
       "condition                     0.042391       0.049436  \n",
       "grade                         0.235117       0.473701  \n",
       "sqft_above                    0.146787       0.630178  \n",
       "sqft_basement                 0.278493       0.184826  \n",
       "yr_built                      0.056917       0.121581  \n",
       "yr_renovated                  0.079554       0.020367  \n",
       "zipcode                       0.098891       0.247295  \n",
       "lat                           0.011162       0.027224  \n",
       "long                          0.083891       0.251334  \n",
       "sqft_living15                 0.272818       0.556259  \n",
       "sqft_lot15                    0.061091       0.216494  \n",
       "yr_built_or_renovated         0.031712       0.120403  \n",
       "years_old                     0.031770       0.120535  \n",
       "age_feature                   0.032215       0.135988  \n",
       "sqft_living_relative_to_nabe  0.067243       0.312098  \n",
       "renovated                     0.079620       0.020250  \n",
       "viewed                             NaN       0.167918  \n",
       "sq_ft_per_flr                      NaN            NaN  "
      ]
     },
     "execution_count": 58,
     "metadata": {},
     "output_type": "execute_result"
    }
   ],
   "source": [
    "X_train_8, X_test_8, y_train_8, y_test_8 = train_test_split(df_features, target, random_state=9,test_size=0.2)\n",
    "\n",
    "# Create correlation matrix\n",
    "corr_matrix = X_train_8.corr().abs()\n",
    "\n",
    "# Select upper triangle of correlation matrix\n",
    "upper = corr_matrix.where(np.triu(np.ones(corr_matrix.shape), k=1).astype(np.bool))\n",
    "upper"
   ]
  },
  {
   "cell_type": "code",
   "execution_count": 59,
   "metadata": {
    "hidden": true
   },
   "outputs": [
    {
     "data": {
      "text/plain": [
       "<matplotlib.axes._subplots.AxesSubplot at 0x1a2996e358>"
      ]
     },
     "execution_count": 59,
     "metadata": {},
     "output_type": "execute_result"
    },
    {
     "data": {
      "image/png": "[encoded data removed]",
      "text/plain": [
       "<Figure size 792x648 with 2 Axes>"
      ]
     },
     "metadata": {},
     "output_type": "display_data"
    }
   ],
   "source": [
    "sns.set(style=\"white\")\n",
    "\n",
    "# Compute the correlation matrix\n",
    "corr = X_train_8.corr()\n",
    "\n",
    "# Generate a mask for the upper triangle\n",
    "mask = np.zeros_like(corr, dtype=np.bool)\n",
    "mask[np.triu_indices_from(mask)] = True\n",
    "\n",
    "# Set up the matplotlib figure\n",
    "f, ax = plt.subplots(figsize=(11, 9))\n",
    "\n",
    "# Generate a custom diverging colormap\n",
    "cmap = sns.diverging_palette(220, 10, as_cmap=True)\n",
    "\n",
    "# Draw the heatmap with the mask and correct aspect ratio\n",
    "sns.heatmap(corr, mask=mask, cmap=cmap, vmax=1, center=0,\n",
    "            square=True, linewidths=.5, cbar_kws={\"shrink\": .5})"
   ]
  },
  {
   "cell_type": "code",
   "execution_count": 60,
   "metadata": {
    "hidden": true
   },
   "outputs": [
    {
     "data": {
      "text/html": [
       "<div>\n",
       "<style scoped>\n",
       "    .dataframe tbody tr th:only-of-type {\n",
       "        vertical-align: middle;\n",
       "    }\n",
       "\n",
       "    .dataframe tbody tr th {\n",
       "        vertical-align: top;\n",
       "    }\n",
       "\n",
       "    .dataframe thead th {\n",
       "        text-align: right;\n",
       "    }\n",
       "</style>\n",
       "<table border=\"1\" class=\"dataframe\">\n",
       "  <thead>\n",
       "    <tr style=\"text-align: right;\">\n",
       "      <th></th>\n",
       "      <th>bedrooms</th>\n",
       "      <th>bathrooms</th>\n",
       "      <th>sqft_living</th>\n",
       "      <th>sqft_lot</th>\n",
       "      <th>floors</th>\n",
       "      <th>waterfront</th>\n",
       "      <th>view</th>\n",
       "      <th>condition</th>\n",
       "      <th>grade</th>\n",
       "      <th>sqft_above</th>\n",
       "      <th>sqft_basement</th>\n",
       "      <th>yr_built</th>\n",
       "      <th>yr_renovated</th>\n",
       "      <th>zipcode</th>\n",
       "      <th>lat</th>\n",
       "      <th>long</th>\n",
       "      <th>sqft_living15</th>\n",
       "      <th>sqft_lot15</th>\n",
       "      <th>age_feature</th>\n",
       "      <th>sqft_living_relative_to_nabe</th>\n",
       "      <th>sq_ft_per_flr</th>\n",
       "    </tr>\n",
       "  </thead>\n",
       "  <tbody>\n",
       "    <tr>\n",
       "      <th>13347</th>\n",
       "      <td>4</td>\n",
       "      <td>2.75</td>\n",
       "      <td>1610</td>\n",
       "      <td>11201</td>\n",
       "      <td>1.0</td>\n",
       "      <td>0</td>\n",
       "      <td>0</td>\n",
       "      <td>5</td>\n",
       "      <td>7</td>\n",
       "      <td>1020</td>\n",
       "      <td>590</td>\n",
       "      <td>1982</td>\n",
       "      <td>0</td>\n",
       "      <td>98033</td>\n",
       "      <td>47.7024</td>\n",
       "      <td>-122.198</td>\n",
       "      <td>1610</td>\n",
       "      <td>9000</td>\n",
       "      <td>625</td>\n",
       "      <td>1.000000</td>\n",
       "      <td>1020.0</td>\n",
       "    </tr>\n",
       "    <tr>\n",
       "      <th>12171</th>\n",
       "      <td>3</td>\n",
       "      <td>2.00</td>\n",
       "      <td>1610</td>\n",
       "      <td>13309</td>\n",
       "      <td>1.0</td>\n",
       "      <td>0</td>\n",
       "      <td>0</td>\n",
       "      <td>4</td>\n",
       "      <td>7</td>\n",
       "      <td>1610</td>\n",
       "      <td>0</td>\n",
       "      <td>1967</td>\n",
       "      <td>0</td>\n",
       "      <td>98042</td>\n",
       "      <td>47.3398</td>\n",
       "      <td>-122.133</td>\n",
       "      <td>1610</td>\n",
       "      <td>15725</td>\n",
       "      <td>100</td>\n",
       "      <td>1.000000</td>\n",
       "      <td>1610.0</td>\n",
       "    </tr>\n",
       "    <tr>\n",
       "      <th>5900</th>\n",
       "      <td>3</td>\n",
       "      <td>1.75</td>\n",
       "      <td>1900</td>\n",
       "      <td>5520</td>\n",
       "      <td>1.0</td>\n",
       "      <td>0</td>\n",
       "      <td>0</td>\n",
       "      <td>3</td>\n",
       "      <td>7</td>\n",
       "      <td>1280</td>\n",
       "      <td>620</td>\n",
       "      <td>1982</td>\n",
       "      <td>0</td>\n",
       "      <td>98118</td>\n",
       "      <td>47.5549</td>\n",
       "      <td>-122.292</td>\n",
       "      <td>1330</td>\n",
       "      <td>5196</td>\n",
       "      <td>625</td>\n",
       "      <td>1.428571</td>\n",
       "      <td>1280.0</td>\n",
       "    </tr>\n",
       "    <tr>\n",
       "      <th>7160</th>\n",
       "      <td>4</td>\n",
       "      <td>3.50</td>\n",
       "      <td>2690</td>\n",
       "      <td>5564</td>\n",
       "      <td>2.0</td>\n",
       "      <td>0</td>\n",
       "      <td>0</td>\n",
       "      <td>3</td>\n",
       "      <td>7</td>\n",
       "      <td>2690</td>\n",
       "      <td>0</td>\n",
       "      <td>2007</td>\n",
       "      <td>0</td>\n",
       "      <td>98038</td>\n",
       "      <td>47.3537</td>\n",
       "      <td>-122.018</td>\n",
       "      <td>2210</td>\n",
       "      <td>4046</td>\n",
       "      <td>2500</td>\n",
       "      <td>1.217195</td>\n",
       "      <td>1345.0</td>\n",
       "    </tr>\n",
       "    <tr>\n",
       "      <th>13494</th>\n",
       "      <td>3</td>\n",
       "      <td>1.75</td>\n",
       "      <td>1170</td>\n",
       "      <td>8740</td>\n",
       "      <td>1.0</td>\n",
       "      <td>0</td>\n",
       "      <td>0</td>\n",
       "      <td>4</td>\n",
       "      <td>7</td>\n",
       "      <td>1170</td>\n",
       "      <td>0</td>\n",
       "      <td>1968</td>\n",
       "      <td>0</td>\n",
       "      <td>98052</td>\n",
       "      <td>47.6849</td>\n",
       "      <td>-122.117</td>\n",
       "      <td>1870</td>\n",
       "      <td>8448</td>\n",
       "      <td>121</td>\n",
       "      <td>0.625668</td>\n",
       "      <td>1170.0</td>\n",
       "    </tr>\n",
       "    <tr>\n",
       "      <th>...</th>\n",
       "      <td>...</td>\n",
       "      <td>...</td>\n",
       "      <td>...</td>\n",
       "      <td>...</td>\n",
       "      <td>...</td>\n",
       "      <td>...</td>\n",
       "      <td>...</td>\n",
       "      <td>...</td>\n",
       "      <td>...</td>\n",
       "      <td>...</td>\n",
       "      <td>...</td>\n",
       "      <td>...</td>\n",
       "      <td>...</td>\n",
       "      <td>...</td>\n",
       "      <td>...</td>\n",
       "      <td>...</td>\n",
       "      <td>...</td>\n",
       "      <td>...</td>\n",
       "      <td>...</td>\n",
       "      <td>...</td>\n",
       "      <td>...</td>\n",
       "    </tr>\n",
       "    <tr>\n",
       "      <th>4742</th>\n",
       "      <td>4</td>\n",
       "      <td>2.25</td>\n",
       "      <td>1900</td>\n",
       "      <td>10950</td>\n",
       "      <td>1.0</td>\n",
       "      <td>0</td>\n",
       "      <td>0</td>\n",
       "      <td>4</td>\n",
       "      <td>7</td>\n",
       "      <td>1400</td>\n",
       "      <td>500</td>\n",
       "      <td>1959</td>\n",
       "      <td>0</td>\n",
       "      <td>98032</td>\n",
       "      <td>47.3582</td>\n",
       "      <td>-122.284</td>\n",
       "      <td>1700</td>\n",
       "      <td>11850</td>\n",
       "      <td>4</td>\n",
       "      <td>1.117647</td>\n",
       "      <td>1400.0</td>\n",
       "    </tr>\n",
       "    <tr>\n",
       "      <th>11094</th>\n",
       "      <td>4</td>\n",
       "      <td>2.50</td>\n",
       "      <td>1870</td>\n",
       "      <td>8190</td>\n",
       "      <td>1.0</td>\n",
       "      <td>0</td>\n",
       "      <td>0</td>\n",
       "      <td>3</td>\n",
       "      <td>7</td>\n",
       "      <td>1100</td>\n",
       "      <td>770</td>\n",
       "      <td>1977</td>\n",
       "      <td>0</td>\n",
       "      <td>98058</td>\n",
       "      <td>47.4521</td>\n",
       "      <td>-122.161</td>\n",
       "      <td>1590</td>\n",
       "      <td>9150</td>\n",
       "      <td>361</td>\n",
       "      <td>1.176101</td>\n",
       "      <td>1100.0</td>\n",
       "    </tr>\n",
       "    <tr>\n",
       "      <th>5004</th>\n",
       "      <td>4</td>\n",
       "      <td>2.25</td>\n",
       "      <td>2320</td>\n",
       "      <td>8760</td>\n",
       "      <td>1.0</td>\n",
       "      <td>0</td>\n",
       "      <td>0</td>\n",
       "      <td>4</td>\n",
       "      <td>8</td>\n",
       "      <td>1160</td>\n",
       "      <td>1160</td>\n",
       "      <td>1966</td>\n",
       "      <td>0</td>\n",
       "      <td>98032</td>\n",
       "      <td>47.3627</td>\n",
       "      <td>-122.285</td>\n",
       "      <td>1970</td>\n",
       "      <td>8690</td>\n",
       "      <td>81</td>\n",
       "      <td>1.177665</td>\n",
       "      <td>1160.0</td>\n",
       "    </tr>\n",
       "    <tr>\n",
       "      <th>5925</th>\n",
       "      <td>3</td>\n",
       "      <td>3.25</td>\n",
       "      <td>1530</td>\n",
       "      <td>1786</td>\n",
       "      <td>2.0</td>\n",
       "      <td>0</td>\n",
       "      <td>0</td>\n",
       "      <td>3</td>\n",
       "      <td>8</td>\n",
       "      <td>1200</td>\n",
       "      <td>330</td>\n",
       "      <td>2007</td>\n",
       "      <td>0</td>\n",
       "      <td>98117</td>\n",
       "      <td>47.6783</td>\n",
       "      <td>-122.366</td>\n",
       "      <td>1390</td>\n",
       "      <td>2900</td>\n",
       "      <td>2500</td>\n",
       "      <td>1.100719</td>\n",
       "      <td>600.0</td>\n",
       "    </tr>\n",
       "    <tr>\n",
       "      <th>9211</th>\n",
       "      <td>3</td>\n",
       "      <td>2.50</td>\n",
       "      <td>1710</td>\n",
       "      <td>4920</td>\n",
       "      <td>2.0</td>\n",
       "      <td>0</td>\n",
       "      <td>0</td>\n",
       "      <td>3</td>\n",
       "      <td>7</td>\n",
       "      <td>1710</td>\n",
       "      <td>0</td>\n",
       "      <td>1990</td>\n",
       "      <td>0</td>\n",
       "      <td>98126</td>\n",
       "      <td>47.5347</td>\n",
       "      <td>-122.376</td>\n",
       "      <td>1500</td>\n",
       "      <td>4920</td>\n",
       "      <td>1089</td>\n",
       "      <td>1.140000</td>\n",
       "      <td>855.0</td>\n",
       "    </tr>\n",
       "  </tbody>\n",
       "</table>\n",
       "<p>3458 rows × 21 columns</p>\n",
       "</div>"
      ],
      "text/plain": [
       "       bedrooms  bathrooms  sqft_living  sqft_lot  floors  waterfront  view  \\\n",
       "13347         4       2.75         1610     11201     1.0           0     0   \n",
       "12171         3       2.00         1610     13309     1.0           0     0   \n",
       "5900          3       1.75         1900      5520     1.0           0     0   \n",
       "7160          4       3.50         2690      5564     2.0           0     0   \n",
       "13494         3       1.75         1170      8740     1.0           0     0   \n",
       "...         ...        ...          ...       ...     ...         ...   ...   \n",
       "4742          4       2.25         1900     10950     1.0           0     0   \n",
       "11094         4       2.50         1870      8190     1.0           0     0   \n",
       "5004          4       2.25         2320      8760     1.0           0     0   \n",
       "5925          3       3.25         1530      1786     2.0           0     0   \n",
       "9211          3       2.50         1710      4920     2.0           0     0   \n",
       "\n",
       "       condition  grade  sqft_above  sqft_basement  yr_built  yr_renovated  \\\n",
       "13347          5      7        1020            590      1982             0   \n",
       "12171          4      7        1610              0      1967             0   \n",
       "5900           3      7        1280            620      1982             0   \n",
       "7160           3      7        2690              0      2007             0   \n",
       "13494          4      7        1170              0      1968             0   \n",
       "...          ...    ...         ...            ...       ...           ...   \n",
       "4742           4      7        1400            500      1959             0   \n",
       "11094          3      7        1100            770      1977             0   \n",
       "5004           4      8        1160           1160      1966             0   \n",
       "5925           3      8        1200            330      2007             0   \n",
       "9211           3      7        1710              0      1990             0   \n",
       "\n",
       "       zipcode      lat     long  sqft_living15  sqft_lot15  age_feature  \\\n",
       "13347    98033  47.7024 -122.198           1610        9000          625   \n",
       "12171    98042  47.3398 -122.133           1610       15725          100   \n",
       "5900     98118  47.5549 -122.292           1330        5196          625   \n",
       "7160     98038  47.3537 -122.018           2210        4046         2500   \n",
       "13494    98052  47.6849 -122.117           1870        8448          121   \n",
       "...        ...      ...      ...            ...         ...          ...   \n",
       "4742     98032  47.3582 -122.284           1700       11850            4   \n",
       "11094    98058  47.4521 -122.161           1590        9150          361   \n",
       "5004     98032  47.3627 -122.285           1970        8690           81   \n",
       "5925     98117  47.6783 -122.366           1390        2900         2500   \n",
       "9211     98126  47.5347 -122.376           1500        4920         1089   \n",
       "\n",
       "       sqft_living_relative_to_nabe  sq_ft_per_flr  \n",
       "13347                      1.000000         1020.0  \n",
       "12171                      1.000000         1610.0  \n",
       "5900                       1.428571         1280.0  \n",
       "7160                       1.217195         1345.0  \n",
       "13494                      0.625668         1170.0  \n",
       "...                             ...            ...  \n",
       "4742                       1.117647         1400.0  \n",
       "11094                      1.176101         1100.0  \n",
       "5004                       1.177665         1160.0  \n",
       "5925                       1.100719          600.0  \n",
       "9211                       1.140000          855.0  \n",
       "\n",
       "[3458 rows x 21 columns]"
      ]
     },
     "execution_count": 60,
     "metadata": {},
     "output_type": "execute_result"
    }
   ],
   "source": [
    "# Find index of feature columns with correlation greater than 0.90\n",
    "to_drop = [column for column in upper.columns if any(upper[column] > 0.90)]\n",
    "\n",
    "#if you change inplace to True it will go through and drop all of those columns from the dataset\n",
    "X_train_8.drop(columns=to_drop, inplace=False)\n",
    "X_test_8.drop(columns=to_drop, inplace=False)"
   ]
  },
  {
   "cell_type": "code",
   "execution_count": 61,
   "metadata": {
    "hidden": true
   },
   "outputs": [
    {
     "data": {
      "text/plain": [
       "['yr_built_or_renovated', 'years_old', 'renovated', 'viewed']"
      ]
     },
     "execution_count": 61,
     "metadata": {},
     "output_type": "execute_result"
    }
   ],
   "source": [
    "to_drop"
   ]
  },
  {
   "cell_type": "markdown",
   "metadata": {
    "heading_collapsed": true
   },
   "source": [
    "## Variance Inflation Factor"
   ]
  },
  {
   "cell_type": "code",
   "execution_count": 63,
   "metadata": {
    "hidden": true
   },
   "outputs": [
    {
     "ename": "KeyboardInterrupt",
     "evalue": "",
     "output_type": "error",
     "traceback": [
      "\u001b[0;31m---------------------------------------------------------------------------\u001b[0m",
      "\u001b[0;31mKeyboardInterrupt\u001b[0m                         Traceback (most recent call last)",
      "\u001b[0;32m<ipython-input-63-889cd6e227d8>\u001b[0m in \u001b[0;36m<module>\u001b[0;34m()\u001b[0m\n\u001b[0;32m----> 1\u001b[0;31m \u001b[0;34m[\u001b[0m\u001b[0mvariance_inflation_factor\u001b[0m\u001b[0;34m(\u001b[0m\u001b[0mX_train\u001b[0m\u001b[0;34m.\u001b[0m\u001b[0mvalues\u001b[0m\u001b[0;34m,\u001b[0m \u001b[0mi\u001b[0m\u001b[0;34m)\u001b[0m \u001b[0;32mfor\u001b[0m \u001b[0mi\u001b[0m \u001b[0;32min\u001b[0m \u001b[0mrange\u001b[0m\u001b[0;34m(\u001b[0m\u001b[0mX_train_8\u001b[0m\u001b[0;34m.\u001b[0m\u001b[0mshape\u001b[0m\u001b[0;34m[\u001b[0m\u001b[0;36m1\u001b[0m\u001b[0;34m]\u001b[0m\u001b[0;34m)\u001b[0m\u001b[0;34m]\u001b[0m\u001b[0;34m\u001b[0m\u001b[0;34m\u001b[0m\u001b[0m\n\u001b[0m",
      "\u001b[0;32m<ipython-input-63-889cd6e227d8>\u001b[0m in \u001b[0;36m<listcomp>\u001b[0;34m(.0)\u001b[0m\n\u001b[0;32m----> 1\u001b[0;31m \u001b[0;34m[\u001b[0m\u001b[0mvariance_inflation_factor\u001b[0m\u001b[0;34m(\u001b[0m\u001b[0mX_train\u001b[0m\u001b[0;34m.\u001b[0m\u001b[0mvalues\u001b[0m\u001b[0;34m,\u001b[0m \u001b[0mi\u001b[0m\u001b[0;34m)\u001b[0m \u001b[0;32mfor\u001b[0m \u001b[0mi\u001b[0m \u001b[0;32min\u001b[0m \u001b[0mrange\u001b[0m\u001b[0;34m(\u001b[0m\u001b[0mX_train_8\u001b[0m\u001b[0;34m.\u001b[0m\u001b[0mshape\u001b[0m\u001b[0;34m[\u001b[0m\u001b[0;36m1\u001b[0m\u001b[0;34m]\u001b[0m\u001b[0;34m)\u001b[0m\u001b[0;34m]\u001b[0m\u001b[0;34m\u001b[0m\u001b[0;34m\u001b[0m\u001b[0m\n\u001b[0m",
      "\u001b[0;32m/Users/elliotmacy/opt/anaconda3/envs/learn-env/lib/python3.6/site-packages/statsmodels/stats/outliers_influence.py\u001b[0m in \u001b[0;36mvariance_inflation_factor\u001b[0;34m(exog, exog_idx)\u001b[0m\n\u001b[1;32m    190\u001b[0m     \u001b[0mmask\u001b[0m \u001b[0;34m=\u001b[0m \u001b[0mnp\u001b[0m\u001b[0;34m.\u001b[0m\u001b[0marange\u001b[0m\u001b[0;34m(\u001b[0m\u001b[0mk_vars\u001b[0m\u001b[0;34m)\u001b[0m \u001b[0;34m!=\u001b[0m \u001b[0mexog_idx\u001b[0m\u001b[0;34m\u001b[0m\u001b[0;34m\u001b[0m\u001b[0m\n\u001b[1;32m    191\u001b[0m     \u001b[0mx_noti\u001b[0m \u001b[0;34m=\u001b[0m \u001b[0mexog\u001b[0m\u001b[0;34m[\u001b[0m\u001b[0;34m:\u001b[0m\u001b[0;34m,\u001b[0m \u001b[0mmask\u001b[0m\u001b[0;34m]\u001b[0m\u001b[0;34m\u001b[0m\u001b[0;34m\u001b[0m\u001b[0m\n\u001b[0;32m--> 192\u001b[0;31m     \u001b[0mr_squared_i\u001b[0m \u001b[0;34m=\u001b[0m \u001b[0mOLS\u001b[0m\u001b[0;34m(\u001b[0m\u001b[0mx_i\u001b[0m\u001b[0;34m,\u001b[0m \u001b[0mx_noti\u001b[0m\u001b[0;34m)\u001b[0m\u001b[0;34m.\u001b[0m\u001b[0mfit\u001b[0m\u001b[0;34m(\u001b[0m\u001b[0;34m)\u001b[0m\u001b[0;34m.\u001b[0m\u001b[0mrsquared\u001b[0m\u001b[0;34m\u001b[0m\u001b[0;34m\u001b[0m\u001b[0m\n\u001b[0m\u001b[1;32m    193\u001b[0m     \u001b[0mvif\u001b[0m \u001b[0;34m=\u001b[0m \u001b[0;36m1.\u001b[0m \u001b[0;34m/\u001b[0m \u001b[0;34m(\u001b[0m\u001b[0;36m1.\u001b[0m \u001b[0;34m-\u001b[0m \u001b[0mr_squared_i\u001b[0m\u001b[0;34m)\u001b[0m\u001b[0;34m\u001b[0m\u001b[0;34m\u001b[0m\u001b[0m\n\u001b[1;32m    194\u001b[0m     \u001b[0;32mreturn\u001b[0m \u001b[0mvif\u001b[0m\u001b[0;34m\u001b[0m\u001b[0;34m\u001b[0m\u001b[0m\n",
      "\u001b[0;32m/Users/elliotmacy/opt/anaconda3/envs/learn-env/lib/python3.6/site-packages/statsmodels/regression/linear_model.py\u001b[0m in \u001b[0;36m__init__\u001b[0;34m(self, endog, exog, missing, hasconst, **kwargs)\u001b[0m\n\u001b[1;32m    857\u001b[0m                  **kwargs):\n\u001b[1;32m    858\u001b[0m         super(OLS, self).__init__(endog, exog, missing=missing,\n\u001b[0;32m--> 859\u001b[0;31m                                   hasconst=hasconst, **kwargs)\n\u001b[0m\u001b[1;32m    860\u001b[0m         \u001b[0;32mif\u001b[0m \u001b[0;34m\"weights\"\u001b[0m \u001b[0;32min\u001b[0m \u001b[0mself\u001b[0m\u001b[0;34m.\u001b[0m\u001b[0m_init_keys\u001b[0m\u001b[0;34m:\u001b[0m\u001b[0;34m\u001b[0m\u001b[0;34m\u001b[0m\u001b[0m\n\u001b[1;32m    861\u001b[0m             \u001b[0mself\u001b[0m\u001b[0;34m.\u001b[0m\u001b[0m_init_keys\u001b[0m\u001b[0;34m.\u001b[0m\u001b[0mremove\u001b[0m\u001b[0;34m(\u001b[0m\u001b[0;34m\"weights\"\u001b[0m\u001b[0;34m)\u001b[0m\u001b[0;34m\u001b[0m\u001b[0;34m\u001b[0m\u001b[0m\n",
      "\u001b[0;32m/Users/elliotmacy/opt/anaconda3/envs/learn-env/lib/python3.6/site-packages/statsmodels/regression/linear_model.py\u001b[0m in \u001b[0;36m__init__\u001b[0;34m(self, endog, exog, weights, missing, hasconst, **kwargs)\u001b[0m\n\u001b[1;32m    700\u001b[0m             \u001b[0mweights\u001b[0m \u001b[0;34m=\u001b[0m \u001b[0mweights\u001b[0m\u001b[0;34m.\u001b[0m\u001b[0msqueeze\u001b[0m\u001b[0;34m(\u001b[0m\u001b[0;34m)\u001b[0m\u001b[0;34m\u001b[0m\u001b[0;34m\u001b[0m\u001b[0m\n\u001b[1;32m    701\u001b[0m         super(WLS, self).__init__(endog, exog, missing=missing,\n\u001b[0;32m--> 702\u001b[0;31m                                   weights=weights, hasconst=hasconst, **kwargs)\n\u001b[0m\u001b[1;32m    703\u001b[0m         \u001b[0mnobs\u001b[0m \u001b[0;34m=\u001b[0m \u001b[0mself\u001b[0m\u001b[0;34m.\u001b[0m\u001b[0mexog\u001b[0m\u001b[0;34m.\u001b[0m\u001b[0mshape\u001b[0m\u001b[0;34m[\u001b[0m\u001b[0;36m0\u001b[0m\u001b[0;34m]\u001b[0m\u001b[0;34m\u001b[0m\u001b[0;34m\u001b[0m\u001b[0m\n\u001b[1;32m    704\u001b[0m         \u001b[0mweights\u001b[0m \u001b[0;34m=\u001b[0m \u001b[0mself\u001b[0m\u001b[0;34m.\u001b[0m\u001b[0mweights\u001b[0m\u001b[0;34m\u001b[0m\u001b[0;34m\u001b[0m\u001b[0m\n",
      "\u001b[0;32m/Users/elliotmacy/opt/anaconda3/envs/learn-env/lib/python3.6/site-packages/statsmodels/regression/linear_model.py\u001b[0m in \u001b[0;36m__init__\u001b[0;34m(self, endog, exog, **kwargs)\u001b[0m\n\u001b[1;32m    188\u001b[0m     \"\"\"\n\u001b[1;32m    189\u001b[0m     \u001b[0;32mdef\u001b[0m \u001b[0m__init__\u001b[0m\u001b[0;34m(\u001b[0m\u001b[0mself\u001b[0m\u001b[0;34m,\u001b[0m \u001b[0mendog\u001b[0m\u001b[0;34m,\u001b[0m \u001b[0mexog\u001b[0m\u001b[0;34m,\u001b[0m \u001b[0;34m**\u001b[0m\u001b[0mkwargs\u001b[0m\u001b[0;34m)\u001b[0m\u001b[0;34m:\u001b[0m\u001b[0;34m\u001b[0m\u001b[0;34m\u001b[0m\u001b[0m\n\u001b[0;32m--> 190\u001b[0;31m         \u001b[0msuper\u001b[0m\u001b[0;34m(\u001b[0m\u001b[0mRegressionModel\u001b[0m\u001b[0;34m,\u001b[0m \u001b[0mself\u001b[0m\u001b[0;34m)\u001b[0m\u001b[0;34m.\u001b[0m\u001b[0m__init__\u001b[0m\u001b[0;34m(\u001b[0m\u001b[0mendog\u001b[0m\u001b[0;34m,\u001b[0m \u001b[0mexog\u001b[0m\u001b[0;34m,\u001b[0m \u001b[0;34m**\u001b[0m\u001b[0mkwargs\u001b[0m\u001b[0;34m)\u001b[0m\u001b[0;34m\u001b[0m\u001b[0;34m\u001b[0m\u001b[0m\n\u001b[0m\u001b[1;32m    191\u001b[0m         \u001b[0mself\u001b[0m\u001b[0;34m.\u001b[0m\u001b[0m_data_attr\u001b[0m\u001b[0;34m.\u001b[0m\u001b[0mextend\u001b[0m\u001b[0;34m(\u001b[0m\u001b[0;34m[\u001b[0m\u001b[0;34m'pinv_wexog'\u001b[0m\u001b[0;34m,\u001b[0m \u001b[0;34m'wendog'\u001b[0m\u001b[0;34m,\u001b[0m \u001b[0;34m'wexog'\u001b[0m\u001b[0;34m,\u001b[0m \u001b[0;34m'weights'\u001b[0m\u001b[0;34m]\u001b[0m\u001b[0;34m)\u001b[0m\u001b[0;34m\u001b[0m\u001b[0;34m\u001b[0m\u001b[0m\n\u001b[1;32m    192\u001b[0m \u001b[0;34m\u001b[0m\u001b[0m\n",
      "\u001b[0;32m/Users/elliotmacy/opt/anaconda3/envs/learn-env/lib/python3.6/site-packages/statsmodels/base/model.py\u001b[0m in \u001b[0;36m__init__\u001b[0;34m(self, endog, exog, **kwargs)\u001b[0m\n\u001b[1;32m    234\u001b[0m \u001b[0;34m\u001b[0m\u001b[0m\n\u001b[1;32m    235\u001b[0m     \u001b[0;32mdef\u001b[0m \u001b[0m__init__\u001b[0m\u001b[0;34m(\u001b[0m\u001b[0mself\u001b[0m\u001b[0;34m,\u001b[0m \u001b[0mendog\u001b[0m\u001b[0;34m,\u001b[0m \u001b[0mexog\u001b[0m\u001b[0;34m=\u001b[0m\u001b[0;32mNone\u001b[0m\u001b[0;34m,\u001b[0m \u001b[0;34m**\u001b[0m\u001b[0mkwargs\u001b[0m\u001b[0;34m)\u001b[0m\u001b[0;34m:\u001b[0m\u001b[0;34m\u001b[0m\u001b[0;34m\u001b[0m\u001b[0m\n\u001b[0;32m--> 236\u001b[0;31m         \u001b[0msuper\u001b[0m\u001b[0;34m(\u001b[0m\u001b[0mLikelihoodModel\u001b[0m\u001b[0;34m,\u001b[0m \u001b[0mself\u001b[0m\u001b[0;34m)\u001b[0m\u001b[0;34m.\u001b[0m\u001b[0m__init__\u001b[0m\u001b[0;34m(\u001b[0m\u001b[0mendog\u001b[0m\u001b[0;34m,\u001b[0m \u001b[0mexog\u001b[0m\u001b[0;34m,\u001b[0m \u001b[0;34m**\u001b[0m\u001b[0mkwargs\u001b[0m\u001b[0;34m)\u001b[0m\u001b[0;34m\u001b[0m\u001b[0;34m\u001b[0m\u001b[0m\n\u001b[0m\u001b[1;32m    237\u001b[0m         \u001b[0mself\u001b[0m\u001b[0;34m.\u001b[0m\u001b[0minitialize\u001b[0m\u001b[0;34m(\u001b[0m\u001b[0;34m)\u001b[0m\u001b[0;34m\u001b[0m\u001b[0;34m\u001b[0m\u001b[0m\n\u001b[1;32m    238\u001b[0m \u001b[0;34m\u001b[0m\u001b[0m\n",
      "\u001b[0;32m/Users/elliotmacy/opt/anaconda3/envs/learn-env/lib/python3.6/site-packages/statsmodels/base/model.py\u001b[0m in \u001b[0;36m__init__\u001b[0;34m(self, endog, exog, **kwargs)\u001b[0m\n\u001b[1;32m     75\u001b[0m         \u001b[0mhasconst\u001b[0m \u001b[0;34m=\u001b[0m \u001b[0mkwargs\u001b[0m\u001b[0;34m.\u001b[0m\u001b[0mpop\u001b[0m\u001b[0;34m(\u001b[0m\u001b[0;34m'hasconst'\u001b[0m\u001b[0;34m,\u001b[0m \u001b[0;32mNone\u001b[0m\u001b[0;34m)\u001b[0m\u001b[0;34m\u001b[0m\u001b[0;34m\u001b[0m\u001b[0m\n\u001b[1;32m     76\u001b[0m         self.data = self._handle_data(endog, exog, missing, hasconst,\n\u001b[0;32m---> 77\u001b[0;31m                                       **kwargs)\n\u001b[0m\u001b[1;32m     78\u001b[0m         \u001b[0mself\u001b[0m\u001b[0;34m.\u001b[0m\u001b[0mk_constant\u001b[0m \u001b[0;34m=\u001b[0m \u001b[0mself\u001b[0m\u001b[0;34m.\u001b[0m\u001b[0mdata\u001b[0m\u001b[0;34m.\u001b[0m\u001b[0mk_constant\u001b[0m\u001b[0;34m\u001b[0m\u001b[0;34m\u001b[0m\u001b[0m\n\u001b[1;32m     79\u001b[0m         \u001b[0mself\u001b[0m\u001b[0;34m.\u001b[0m\u001b[0mexog\u001b[0m \u001b[0;34m=\u001b[0m \u001b[0mself\u001b[0m\u001b[0;34m.\u001b[0m\u001b[0mdata\u001b[0m\u001b[0;34m.\u001b[0m\u001b[0mexog\u001b[0m\u001b[0;34m\u001b[0m\u001b[0;34m\u001b[0m\u001b[0m\n",
      "\u001b[0;32m/Users/elliotmacy/opt/anaconda3/envs/learn-env/lib/python3.6/site-packages/statsmodels/base/model.py\u001b[0m in \u001b[0;36m_handle_data\u001b[0;34m(self, endog, exog, missing, hasconst, **kwargs)\u001b[0m\n\u001b[1;32m     98\u001b[0m \u001b[0;34m\u001b[0m\u001b[0m\n\u001b[1;32m     99\u001b[0m     \u001b[0;32mdef\u001b[0m \u001b[0m_handle_data\u001b[0m\u001b[0;34m(\u001b[0m\u001b[0mself\u001b[0m\u001b[0;34m,\u001b[0m \u001b[0mendog\u001b[0m\u001b[0;34m,\u001b[0m \u001b[0mexog\u001b[0m\u001b[0;34m,\u001b[0m \u001b[0mmissing\u001b[0m\u001b[0;34m,\u001b[0m \u001b[0mhasconst\u001b[0m\u001b[0;34m,\u001b[0m \u001b[0;34m**\u001b[0m\u001b[0mkwargs\u001b[0m\u001b[0;34m)\u001b[0m\u001b[0;34m:\u001b[0m\u001b[0;34m\u001b[0m\u001b[0;34m\u001b[0m\u001b[0m\n\u001b[0;32m--> 100\u001b[0;31m         \u001b[0mdata\u001b[0m \u001b[0;34m=\u001b[0m \u001b[0mhandle_data\u001b[0m\u001b[0;34m(\u001b[0m\u001b[0mendog\u001b[0m\u001b[0;34m,\u001b[0m \u001b[0mexog\u001b[0m\u001b[0;34m,\u001b[0m \u001b[0mmissing\u001b[0m\u001b[0;34m,\u001b[0m \u001b[0mhasconst\u001b[0m\u001b[0;34m,\u001b[0m \u001b[0;34m**\u001b[0m\u001b[0mkwargs\u001b[0m\u001b[0;34m)\u001b[0m\u001b[0;34m\u001b[0m\u001b[0;34m\u001b[0m\u001b[0m\n\u001b[0m\u001b[1;32m    101\u001b[0m         \u001b[0;31m# kwargs arrays could have changed, easier to just attach here\u001b[0m\u001b[0;34m\u001b[0m\u001b[0;34m\u001b[0m\u001b[0;34m\u001b[0m\u001b[0m\n\u001b[1;32m    102\u001b[0m         \u001b[0;32mfor\u001b[0m \u001b[0mkey\u001b[0m \u001b[0;32min\u001b[0m \u001b[0mkwargs\u001b[0m\u001b[0;34m:\u001b[0m\u001b[0;34m\u001b[0m\u001b[0;34m\u001b[0m\u001b[0m\n",
      "\u001b[0;32m/Users/elliotmacy/opt/anaconda3/envs/learn-env/lib/python3.6/site-packages/statsmodels/base/data.py\u001b[0m in \u001b[0;36mhandle_data\u001b[0;34m(endog, exog, missing, hasconst, **kwargs)\u001b[0m\n\u001b[1;32m    670\u001b[0m     \u001b[0mklass\u001b[0m \u001b[0;34m=\u001b[0m \u001b[0mhandle_data_class_factory\u001b[0m\u001b[0;34m(\u001b[0m\u001b[0mendog\u001b[0m\u001b[0;34m,\u001b[0m \u001b[0mexog\u001b[0m\u001b[0;34m)\u001b[0m\u001b[0;34m\u001b[0m\u001b[0;34m\u001b[0m\u001b[0m\n\u001b[1;32m    671\u001b[0m     return klass(endog, exog=exog, missing=missing, hasconst=hasconst,\n\u001b[0;32m--> 672\u001b[0;31m                  **kwargs)\n\u001b[0m",
      "\u001b[0;32m/Users/elliotmacy/opt/anaconda3/envs/learn-env/lib/python3.6/site-packages/statsmodels/base/data.py\u001b[0m in \u001b[0;36m__init__\u001b[0;34m(self, endog, exog, missing, hasconst, **kwargs)\u001b[0m\n\u001b[1;32m     85\u001b[0m         \u001b[0mself\u001b[0m\u001b[0;34m.\u001b[0m\u001b[0mconst_idx\u001b[0m \u001b[0;34m=\u001b[0m \u001b[0;32mNone\u001b[0m\u001b[0;34m\u001b[0m\u001b[0;34m\u001b[0m\u001b[0m\n\u001b[1;32m     86\u001b[0m         \u001b[0mself\u001b[0m\u001b[0;34m.\u001b[0m\u001b[0mk_constant\u001b[0m \u001b[0;34m=\u001b[0m \u001b[0;36m0\u001b[0m\u001b[0;34m\u001b[0m\u001b[0;34m\u001b[0m\u001b[0m\n\u001b[0;32m---> 87\u001b[0;31m         \u001b[0mself\u001b[0m\u001b[0;34m.\u001b[0m\u001b[0m_handle_constant\u001b[0m\u001b[0;34m(\u001b[0m\u001b[0mhasconst\u001b[0m\u001b[0;34m)\u001b[0m\u001b[0;34m\u001b[0m\u001b[0;34m\u001b[0m\u001b[0m\n\u001b[0m\u001b[1;32m     88\u001b[0m         \u001b[0mself\u001b[0m\u001b[0;34m.\u001b[0m\u001b[0m_check_integrity\u001b[0m\u001b[0;34m(\u001b[0m\u001b[0;34m)\u001b[0m\u001b[0;34m\u001b[0m\u001b[0;34m\u001b[0m\u001b[0m\n\u001b[1;32m     89\u001b[0m         \u001b[0mself\u001b[0m\u001b[0;34m.\u001b[0m\u001b[0m_cache\u001b[0m \u001b[0;34m=\u001b[0m \u001b[0;34m{\u001b[0m\u001b[0;34m}\u001b[0m\u001b[0;34m\u001b[0m\u001b[0;34m\u001b[0m\u001b[0m\n",
      "\u001b[0;32m/Users/elliotmacy/opt/anaconda3/envs/learn-env/lib/python3.6/site-packages/statsmodels/base/data.py\u001b[0m in \u001b[0;36m_handle_constant\u001b[0;34m(self, hasconst)\u001b[0m\n\u001b[1;32m    175\u001b[0m                             (np.ones(self.exog.shape[0]), self.exog))\n\u001b[1;32m    176\u001b[0m                 \u001b[0mrank_augm\u001b[0m \u001b[0;34m=\u001b[0m \u001b[0mnp\u001b[0m\u001b[0;34m.\u001b[0m\u001b[0mlinalg\u001b[0m\u001b[0;34m.\u001b[0m\u001b[0mmatrix_rank\u001b[0m\u001b[0;34m(\u001b[0m\u001b[0maugmented_exog\u001b[0m\u001b[0;34m)\u001b[0m\u001b[0;34m\u001b[0m\u001b[0;34m\u001b[0m\u001b[0m\n\u001b[0;32m--> 177\u001b[0;31m                 \u001b[0mrank_orig\u001b[0m \u001b[0;34m=\u001b[0m \u001b[0mnp\u001b[0m\u001b[0;34m.\u001b[0m\u001b[0mlinalg\u001b[0m\u001b[0;34m.\u001b[0m\u001b[0mmatrix_rank\u001b[0m\u001b[0;34m(\u001b[0m\u001b[0mself\u001b[0m\u001b[0;34m.\u001b[0m\u001b[0mexog\u001b[0m\u001b[0;34m)\u001b[0m\u001b[0;34m\u001b[0m\u001b[0;34m\u001b[0m\u001b[0m\n\u001b[0m\u001b[1;32m    178\u001b[0m                 \u001b[0mself\u001b[0m\u001b[0;34m.\u001b[0m\u001b[0mk_constant\u001b[0m \u001b[0;34m=\u001b[0m \u001b[0mint\u001b[0m\u001b[0;34m(\u001b[0m\u001b[0mrank_orig\u001b[0m \u001b[0;34m==\u001b[0m \u001b[0mrank_augm\u001b[0m\u001b[0;34m)\u001b[0m\u001b[0;34m\u001b[0m\u001b[0;34m\u001b[0m\u001b[0m\n\u001b[1;32m    179\u001b[0m                 \u001b[0mself\u001b[0m\u001b[0;34m.\u001b[0m\u001b[0mconst_idx\u001b[0m \u001b[0;34m=\u001b[0m \u001b[0;32mNone\u001b[0m\u001b[0;34m\u001b[0m\u001b[0;34m\u001b[0m\u001b[0m\n",
      "\u001b[0;32m<__array_function__ internals>\u001b[0m in \u001b[0;36mmatrix_rank\u001b[0;34m(*args, **kwargs)\u001b[0m\n",
      "\u001b[0;32m/Users/elliotmacy/opt/anaconda3/envs/learn-env/lib/python3.6/site-packages/numpy/linalg/linalg.py\u001b[0m in \u001b[0;36mmatrix_rank\u001b[0;34m(M, tol, hermitian)\u001b[0m\n\u001b[1;32m   1900\u001b[0m     \u001b[0;32mif\u001b[0m \u001b[0mM\u001b[0m\u001b[0;34m.\u001b[0m\u001b[0mndim\u001b[0m \u001b[0;34m<\u001b[0m \u001b[0;36m2\u001b[0m\u001b[0;34m:\u001b[0m\u001b[0;34m\u001b[0m\u001b[0;34m\u001b[0m\u001b[0m\n\u001b[1;32m   1901\u001b[0m         \u001b[0;32mreturn\u001b[0m \u001b[0mint\u001b[0m\u001b[0;34m(\u001b[0m\u001b[0;32mnot\u001b[0m \u001b[0mall\u001b[0m\u001b[0;34m(\u001b[0m\u001b[0mM\u001b[0m\u001b[0;34m==\u001b[0m\u001b[0;36m0\u001b[0m\u001b[0;34m)\u001b[0m\u001b[0;34m)\u001b[0m\u001b[0;34m\u001b[0m\u001b[0;34m\u001b[0m\u001b[0m\n\u001b[0;32m-> 1902\u001b[0;31m     \u001b[0mS\u001b[0m \u001b[0;34m=\u001b[0m \u001b[0msvd\u001b[0m\u001b[0;34m(\u001b[0m\u001b[0mM\u001b[0m\u001b[0;34m,\u001b[0m \u001b[0mcompute_uv\u001b[0m\u001b[0;34m=\u001b[0m\u001b[0;32mFalse\u001b[0m\u001b[0;34m,\u001b[0m \u001b[0mhermitian\u001b[0m\u001b[0;34m=\u001b[0m\u001b[0mhermitian\u001b[0m\u001b[0;34m)\u001b[0m\u001b[0;34m\u001b[0m\u001b[0;34m\u001b[0m\u001b[0m\n\u001b[0m\u001b[1;32m   1903\u001b[0m     \u001b[0;32mif\u001b[0m \u001b[0mtol\u001b[0m \u001b[0;32mis\u001b[0m \u001b[0;32mNone\u001b[0m\u001b[0;34m:\u001b[0m\u001b[0;34m\u001b[0m\u001b[0;34m\u001b[0m\u001b[0m\n\u001b[1;32m   1904\u001b[0m         \u001b[0mtol\u001b[0m \u001b[0;34m=\u001b[0m \u001b[0mS\u001b[0m\u001b[0;34m.\u001b[0m\u001b[0mmax\u001b[0m\u001b[0;34m(\u001b[0m\u001b[0maxis\u001b[0m\u001b[0;34m=\u001b[0m\u001b[0;34m-\u001b[0m\u001b[0;36m1\u001b[0m\u001b[0;34m,\u001b[0m \u001b[0mkeepdims\u001b[0m\u001b[0;34m=\u001b[0m\u001b[0;32mTrue\u001b[0m\u001b[0;34m)\u001b[0m \u001b[0;34m*\u001b[0m \u001b[0mmax\u001b[0m\u001b[0;34m(\u001b[0m\u001b[0mM\u001b[0m\u001b[0;34m.\u001b[0m\u001b[0mshape\u001b[0m\u001b[0;34m[\u001b[0m\u001b[0;34m-\u001b[0m\u001b[0;36m2\u001b[0m\u001b[0;34m:\u001b[0m\u001b[0;34m]\u001b[0m\u001b[0;34m)\u001b[0m \u001b[0;34m*\u001b[0m \u001b[0mfinfo\u001b[0m\u001b[0;34m(\u001b[0m\u001b[0mS\u001b[0m\u001b[0;34m.\u001b[0m\u001b[0mdtype\u001b[0m\u001b[0;34m)\u001b[0m\u001b[0;34m.\u001b[0m\u001b[0meps\u001b[0m\u001b[0;34m\u001b[0m\u001b[0;34m\u001b[0m\u001b[0m\n",
      "\u001b[0;32m<__array_function__ internals>\u001b[0m in \u001b[0;36msvd\u001b[0;34m(*args, **kwargs)\u001b[0m\n",
      "\u001b[0;32m/Users/elliotmacy/opt/anaconda3/envs/learn-env/lib/python3.6/site-packages/numpy/linalg/linalg.py\u001b[0m in \u001b[0;36msvd\u001b[0;34m(a, full_matrices, compute_uv, hermitian)\u001b[0m\n\u001b[1;32m   1671\u001b[0m \u001b[0;34m\u001b[0m\u001b[0m\n\u001b[1;32m   1672\u001b[0m         \u001b[0msignature\u001b[0m \u001b[0;34m=\u001b[0m \u001b[0;34m'D->d'\u001b[0m \u001b[0;32mif\u001b[0m \u001b[0misComplexType\u001b[0m\u001b[0;34m(\u001b[0m\u001b[0mt\u001b[0m\u001b[0;34m)\u001b[0m \u001b[0;32melse\u001b[0m \u001b[0;34m'd->d'\u001b[0m\u001b[0;34m\u001b[0m\u001b[0;34m\u001b[0m\u001b[0m\n\u001b[0;32m-> 1673\u001b[0;31m         \u001b[0ms\u001b[0m \u001b[0;34m=\u001b[0m \u001b[0mgufunc\u001b[0m\u001b[0;34m(\u001b[0m\u001b[0ma\u001b[0m\u001b[0;34m,\u001b[0m \u001b[0msignature\u001b[0m\u001b[0;34m=\u001b[0m\u001b[0msignature\u001b[0m\u001b[0;34m,\u001b[0m \u001b[0mextobj\u001b[0m\u001b[0;34m=\u001b[0m\u001b[0mextobj\u001b[0m\u001b[0;34m)\u001b[0m\u001b[0;34m\u001b[0m\u001b[0;34m\u001b[0m\u001b[0m\n\u001b[0m\u001b[1;32m   1674\u001b[0m         \u001b[0ms\u001b[0m \u001b[0;34m=\u001b[0m \u001b[0ms\u001b[0m\u001b[0;34m.\u001b[0m\u001b[0mastype\u001b[0m\u001b[0;34m(\u001b[0m\u001b[0m_realType\u001b[0m\u001b[0;34m(\u001b[0m\u001b[0mresult_t\u001b[0m\u001b[0;34m)\u001b[0m\u001b[0;34m,\u001b[0m \u001b[0mcopy\u001b[0m\u001b[0;34m=\u001b[0m\u001b[0;32mFalse\u001b[0m\u001b[0;34m)\u001b[0m\u001b[0;34m\u001b[0m\u001b[0;34m\u001b[0m\u001b[0m\n\u001b[1;32m   1675\u001b[0m         \u001b[0;32mreturn\u001b[0m \u001b[0ms\u001b[0m\u001b[0;34m\u001b[0m\u001b[0;34m\u001b[0m\u001b[0m\n",
      "\u001b[0;31mKeyboardInterrupt\u001b[0m: "
     ]
    }
   ],
   "source": [
    "[variance_inflation_factor(X_train.values, i) for i in range(X_train_8.shape[1])]"
   ]
  },
  {
   "cell_type": "code",
   "execution_count": null,
   "metadata": {
    "hidden": true
   },
   "outputs": [],
   "source": [
    "vif = pd.DataFrame()\n",
    "vif[\"VIF Factor\"] = [variance_inflation_factor(df_features.values, i) for i in range(df_features.shape[1])]\n",
    "vif[\"features\"] = df_features.columns\n",
    "vif.round(1)"
   ]
  },
  {
   "cell_type": "code",
   "execution_count": null,
   "metadata": {
    "hidden": true
   },
   "outputs": [],
   "source": [
    "df_features.corrwith(target).abs()"
   ]
  },
  {
   "cell_type": "markdown",
   "metadata": {
    "heading_collapsed": true
   },
   "source": [
    "## Select best features based on statistical measure"
   ]
  },
  {
   "cell_type": "code",
   "execution_count": null,
   "metadata": {
    "hidden": true
   },
   "outputs": [],
   "source": [
    "# Filter methods: before we fit the model"
   ]
  },
  {
   "cell_type": "code",
   "execution_count": 64,
   "metadata": {
    "hidden": true
   },
   "outputs": [
    {
     "data": {
      "text/plain": [
       "(13832, 3275)"
      ]
     },
     "execution_count": 64,
     "metadata": {},
     "output_type": "execute_result"
    }
   ],
   "source": [
    "X_train.shape #<--- going back to our 3rd deg poly"
   ]
  },
  {
   "cell_type": "code",
   "execution_count": 67,
   "metadata": {
    "hidden": true
   },
   "outputs": [
    {
     "data": {
      "text/plain": [
       "SelectKBest(k=20, score_func=<function f_regression at 0x1a21ade1e0>)"
      ]
     },
     "execution_count": 67,
     "metadata": {},
     "output_type": "execute_result"
    }
   ],
   "source": [
    "selector = SelectKBest(f_regression, k=20)\n",
    "\n",
    "selector.fit(X_train, y_train)"
   ]
  },
  {
   "cell_type": "code",
   "execution_count": 68,
   "metadata": {
    "hidden": true
   },
   "outputs": [],
   "source": [
    "selected_columns = X_train.columns[selector.get_support()]\n",
    "removed_columns = X_train.columns[~selector.get_support()]\n",
    "# X_train = X_train[selected_columns]\n",
    "# X_test = X_test[selected_columns]"
   ]
  },
  {
   "cell_type": "code",
   "execution_count": 69,
   "metadata": {
    "hidden": true
   },
   "outputs": [
    {
     "data": {
      "text/plain": [
       "['bedrooms',\n",
       " 'bathrooms',\n",
       " 'sqft_living',\n",
       " 'sqft_lot',\n",
       " 'floors',\n",
       " 'waterfront',\n",
       " 'view',\n",
       " 'condition',\n",
       " 'grade',\n",
       " 'sqft_above',\n",
       " 'sqft_basement',\n",
       " 'yr_built',\n",
       " 'yr_renovated',\n",
       " 'zipcode',\n",
       " 'lat',\n",
       " 'long',\n",
       " 'sqft_living15',\n",
       " 'sqft_lot15',\n",
       " 'yr_built_or_renovated',\n",
       " 'years_old',\n",
       " 'age_feature',\n",
       " 'sqft_living_relative_to_nabe',\n",
       " 'renovated',\n",
       " 'viewed',\n",
       " 'sq_ft_per_flr',\n",
       " 'bedrooms^2',\n",
       " 'bedrooms bathrooms',\n",
       " 'bedrooms sqft_living',\n",
       " 'bedrooms sqft_lot',\n",
       " 'bedrooms floors',\n",
       " 'bedrooms waterfront',\n",
       " 'bedrooms view',\n",
       " 'bedrooms condition',\n",
       " 'bedrooms grade',\n",
       " 'bedrooms sqft_above',\n",
       " 'bedrooms sqft_basement',\n",
       " 'bedrooms yr_built',\n",
       " 'bedrooms yr_renovated',\n",
       " 'bedrooms zipcode',\n",
       " 'bedrooms lat',\n",
       " 'bedrooms long',\n",
       " 'bedrooms sqft_living15',\n",
       " 'bedrooms sqft_lot15',\n",
       " 'bedrooms yr_built_or_renovated',\n",
       " 'bedrooms years_old',\n",
       " 'bedrooms age_feature',\n",
       " 'bedrooms sqft_living_relative_to_nabe',\n",
       " 'bedrooms renovated',\n",
       " 'bedrooms viewed',\n",
       " 'bedrooms sq_ft_per_flr',\n",
       " 'bathrooms^2',\n",
       " 'bathrooms sqft_living',\n",
       " 'bathrooms sqft_lot',\n",
       " 'bathrooms floors',\n",
       " 'bathrooms waterfront',\n",
       " 'bathrooms view',\n",
       " 'bathrooms condition',\n",
       " 'bathrooms grade',\n",
       " 'bathrooms sqft_above',\n",
       " 'bathrooms sqft_basement',\n",
       " 'bathrooms yr_built',\n",
       " 'bathrooms yr_renovated',\n",
       " 'bathrooms zipcode',\n",
       " 'bathrooms lat',\n",
       " 'bathrooms long',\n",
       " 'bathrooms sqft_living15',\n",
       " 'bathrooms sqft_lot15',\n",
       " 'bathrooms yr_built_or_renovated',\n",
       " 'bathrooms years_old',\n",
       " 'bathrooms age_feature',\n",
       " 'bathrooms sqft_living_relative_to_nabe',\n",
       " 'bathrooms renovated',\n",
       " 'bathrooms viewed',\n",
       " 'bathrooms sq_ft_per_flr',\n",
       " 'sqft_living sqft_lot',\n",
       " 'sqft_living floors',\n",
       " 'sqft_living waterfront',\n",
       " 'sqft_living view',\n",
       " 'sqft_living condition',\n",
       " 'sqft_living sqft_above',\n",
       " 'sqft_living sqft_basement',\n",
       " 'sqft_living yr_built',\n",
       " 'sqft_living yr_renovated',\n",
       " 'sqft_living zipcode',\n",
       " 'sqft_living lat',\n",
       " 'sqft_living long',\n",
       " 'sqft_living sqft_living15',\n",
       " 'sqft_living sqft_lot15',\n",
       " 'sqft_living yr_built_or_renovated',\n",
       " 'sqft_living years_old',\n",
       " 'sqft_living age_feature',\n",
       " 'sqft_living sqft_living_relative_to_nabe',\n",
       " 'sqft_living renovated',\n",
       " 'sqft_living viewed',\n",
       " 'sqft_living sq_ft_per_flr',\n",
       " 'sqft_lot^2',\n",
       " 'sqft_lot floors',\n",
       " 'sqft_lot waterfront',\n",
       " 'sqft_lot view',\n",
       " 'sqft_lot condition',\n",
       " 'sqft_lot grade',\n",
       " 'sqft_lot sqft_above',\n",
       " 'sqft_lot sqft_basement',\n",
       " 'sqft_lot yr_built',\n",
       " 'sqft_lot yr_renovated',\n",
       " 'sqft_lot zipcode',\n",
       " 'sqft_lot lat',\n",
       " 'sqft_lot long',\n",
       " 'sqft_lot sqft_living15',\n",
       " 'sqft_lot sqft_lot15',\n",
       " 'sqft_lot yr_built_or_renovated',\n",
       " 'sqft_lot years_old',\n",
       " 'sqft_lot age_feature',\n",
       " 'sqft_lot sqft_living_relative_to_nabe',\n",
       " 'sqft_lot renovated',\n",
       " 'sqft_lot viewed',\n",
       " 'sqft_lot sq_ft_per_flr',\n",
       " 'floors^2',\n",
       " 'floors waterfront',\n",
       " 'floors view',\n",
       " 'floors condition',\n",
       " 'floors grade',\n",
       " 'floors sqft_above',\n",
       " 'floors sqft_basement',\n",
       " 'floors yr_built',\n",
       " 'floors yr_renovated',\n",
       " 'floors zipcode',\n",
       " 'floors lat',\n",
       " 'floors long',\n",
       " 'floors sqft_living15',\n",
       " 'floors sqft_lot15',\n",
       " 'floors yr_built_or_renovated',\n",
       " 'floors years_old',\n",
       " 'floors age_feature',\n",
       " 'floors sqft_living_relative_to_nabe',\n",
       " 'floors renovated',\n",
       " 'floors viewed',\n",
       " 'floors sq_ft_per_flr',\n",
       " 'waterfront^2',\n",
       " 'waterfront view',\n",
       " 'waterfront condition',\n",
       " 'waterfront grade',\n",
       " 'waterfront sqft_above',\n",
       " 'waterfront sqft_basement',\n",
       " 'waterfront yr_built',\n",
       " 'waterfront yr_renovated',\n",
       " 'waterfront zipcode',\n",
       " 'waterfront lat',\n",
       " 'waterfront long',\n",
       " 'waterfront sqft_living15',\n",
       " 'waterfront sqft_lot15',\n",
       " 'waterfront yr_built_or_renovated',\n",
       " 'waterfront years_old',\n",
       " 'waterfront age_feature',\n",
       " 'waterfront sqft_living_relative_to_nabe',\n",
       " 'waterfront renovated',\n",
       " 'waterfront viewed',\n",
       " 'waterfront sq_ft_per_flr',\n",
       " 'view^2',\n",
       " 'view condition',\n",
       " 'view grade',\n",
       " 'view sqft_above',\n",
       " 'view sqft_basement',\n",
       " 'view yr_built',\n",
       " 'view yr_renovated',\n",
       " 'view zipcode',\n",
       " 'view lat',\n",
       " 'view long',\n",
       " 'view sqft_living15',\n",
       " 'view sqft_lot15',\n",
       " 'view yr_built_or_renovated',\n",
       " 'view years_old',\n",
       " 'view age_feature',\n",
       " 'view sqft_living_relative_to_nabe',\n",
       " 'view renovated',\n",
       " 'view viewed',\n",
       " 'view sq_ft_per_flr',\n",
       " 'condition^2',\n",
       " 'condition grade',\n",
       " 'condition sqft_above',\n",
       " 'condition sqft_basement',\n",
       " 'condition yr_built',\n",
       " 'condition yr_renovated',\n",
       " 'condition zipcode',\n",
       " 'condition lat',\n",
       " 'condition long',\n",
       " 'condition sqft_living15',\n",
       " 'condition sqft_lot15',\n",
       " 'condition yr_built_or_renovated',\n",
       " 'condition years_old',\n",
       " 'condition age_feature',\n",
       " 'condition sqft_living_relative_to_nabe',\n",
       " 'condition renovated',\n",
       " 'condition viewed',\n",
       " 'condition sq_ft_per_flr',\n",
       " 'grade^2',\n",
       " 'grade sqft_above',\n",
       " 'grade sqft_basement',\n",
       " 'grade yr_built',\n",
       " 'grade yr_renovated',\n",
       " 'grade zipcode',\n",
       " 'grade lat',\n",
       " 'grade long',\n",
       " 'grade sqft_living15',\n",
       " 'grade sqft_lot15',\n",
       " 'grade yr_built_or_renovated',\n",
       " 'grade years_old',\n",
       " 'grade age_feature',\n",
       " 'grade sqft_living_relative_to_nabe',\n",
       " 'grade renovated',\n",
       " 'grade viewed',\n",
       " 'grade sq_ft_per_flr',\n",
       " 'sqft_above^2',\n",
       " 'sqft_above sqft_basement',\n",
       " 'sqft_above yr_built',\n",
       " 'sqft_above yr_renovated',\n",
       " 'sqft_above zipcode',\n",
       " 'sqft_above lat',\n",
       " 'sqft_above long',\n",
       " 'sqft_above sqft_living15',\n",
       " 'sqft_above sqft_lot15',\n",
       " 'sqft_above yr_built_or_renovated',\n",
       " 'sqft_above years_old',\n",
       " 'sqft_above age_feature',\n",
       " 'sqft_above sqft_living_relative_to_nabe',\n",
       " 'sqft_above renovated',\n",
       " 'sqft_above viewed',\n",
       " 'sqft_above sq_ft_per_flr',\n",
       " 'sqft_basement^2',\n",
       " 'sqft_basement yr_built',\n",
       " 'sqft_basement yr_renovated',\n",
       " 'sqft_basement zipcode',\n",
       " 'sqft_basement lat',\n",
       " 'sqft_basement long',\n",
       " 'sqft_basement sqft_living15',\n",
       " 'sqft_basement sqft_lot15',\n",
       " 'sqft_basement yr_built_or_renovated',\n",
       " 'sqft_basement years_old',\n",
       " 'sqft_basement age_feature',\n",
       " 'sqft_basement sqft_living_relative_to_nabe',\n",
       " 'sqft_basement renovated',\n",
       " 'sqft_basement viewed',\n",
       " 'sqft_basement sq_ft_per_flr',\n",
       " 'yr_built^2',\n",
       " 'yr_built yr_renovated',\n",
       " 'yr_built zipcode',\n",
       " 'yr_built lat',\n",
       " 'yr_built long',\n",
       " 'yr_built sqft_living15',\n",
       " 'yr_built sqft_lot15',\n",
       " 'yr_built yr_built_or_renovated',\n",
       " 'yr_built years_old',\n",
       " 'yr_built age_feature',\n",
       " 'yr_built sqft_living_relative_to_nabe',\n",
       " 'yr_built renovated',\n",
       " 'yr_built viewed',\n",
       " 'yr_built sq_ft_per_flr',\n",
       " 'yr_renovated^2',\n",
       " 'yr_renovated zipcode',\n",
       " 'yr_renovated lat',\n",
       " 'yr_renovated long',\n",
       " 'yr_renovated sqft_living15',\n",
       " 'yr_renovated sqft_lot15',\n",
       " 'yr_renovated yr_built_or_renovated',\n",
       " 'yr_renovated years_old',\n",
       " 'yr_renovated age_feature',\n",
       " 'yr_renovated sqft_living_relative_to_nabe',\n",
       " 'yr_renovated renovated',\n",
       " 'yr_renovated viewed',\n",
       " 'yr_renovated sq_ft_per_flr',\n",
       " 'zipcode^2',\n",
       " 'zipcode lat',\n",
       " 'zipcode long',\n",
       " 'zipcode sqft_living15',\n",
       " 'zipcode sqft_lot15',\n",
       " 'zipcode yr_built_or_renovated',\n",
       " 'zipcode years_old',\n",
       " 'zipcode age_feature',\n",
       " 'zipcode sqft_living_relative_to_nabe',\n",
       " 'zipcode renovated',\n",
       " 'zipcode viewed',\n",
       " 'zipcode sq_ft_per_flr',\n",
       " 'lat^2',\n",
       " 'lat long',\n",
       " 'lat sqft_living15',\n",
       " 'lat sqft_lot15',\n",
       " 'lat yr_built_or_renovated',\n",
       " 'lat years_old',\n",
       " 'lat age_feature',\n",
       " 'lat sqft_living_relative_to_nabe',\n",
       " 'lat renovated',\n",
       " 'lat viewed',\n",
       " 'lat sq_ft_per_flr',\n",
       " 'long^2',\n",
       " 'long sqft_living15',\n",
       " 'long sqft_lot15',\n",
       " 'long yr_built_or_renovated',\n",
       " 'long years_old',\n",
       " 'long age_feature',\n",
       " 'long sqft_living_relative_to_nabe',\n",
       " 'long renovated',\n",
       " 'long viewed',\n",
       " 'long sq_ft_per_flr',\n",
       " 'sqft_living15^2',\n",
       " 'sqft_living15 sqft_lot15',\n",
       " 'sqft_living15 yr_built_or_renovated',\n",
       " 'sqft_living15 years_old',\n",
       " 'sqft_living15 age_feature',\n",
       " 'sqft_living15 sqft_living_relative_to_nabe',\n",
       " 'sqft_living15 renovated',\n",
       " 'sqft_living15 viewed',\n",
       " 'sqft_living15 sq_ft_per_flr',\n",
       " 'sqft_lot15^2',\n",
       " 'sqft_lot15 yr_built_or_renovated',\n",
       " 'sqft_lot15 years_old',\n",
       " 'sqft_lot15 age_feature',\n",
       " 'sqft_lot15 sqft_living_relative_to_nabe',\n",
       " 'sqft_lot15 renovated',\n",
       " 'sqft_lot15 viewed',\n",
       " 'sqft_lot15 sq_ft_per_flr',\n",
       " 'yr_built_or_renovated^2',\n",
       " 'yr_built_or_renovated years_old',\n",
       " 'yr_built_or_renovated age_feature',\n",
       " 'yr_built_or_renovated sqft_living_relative_to_nabe',\n",
       " 'yr_built_or_renovated renovated',\n",
       " 'yr_built_or_renovated viewed',\n",
       " 'yr_built_or_renovated sq_ft_per_flr',\n",
       " 'years_old^2',\n",
       " 'years_old age_feature',\n",
       " 'years_old sqft_living_relative_to_nabe',\n",
       " 'years_old renovated',\n",
       " 'years_old viewed',\n",
       " 'years_old sq_ft_per_flr',\n",
       " 'age_feature^2',\n",
       " 'age_feature sqft_living_relative_to_nabe',\n",
       " 'age_feature renovated',\n",
       " 'age_feature viewed',\n",
       " 'age_feature sq_ft_per_flr',\n",
       " 'sqft_living_relative_to_nabe^2',\n",
       " 'sqft_living_relative_to_nabe renovated',\n",
       " 'sqft_living_relative_to_nabe viewed',\n",
       " 'sqft_living_relative_to_nabe sq_ft_per_flr',\n",
       " 'renovated^2',\n",
       " 'renovated viewed',\n",
       " 'renovated sq_ft_per_flr',\n",
       " 'viewed^2',\n",
       " 'viewed sq_ft_per_flr',\n",
       " 'sq_ft_per_flr^2',\n",
       " 'bedrooms^3',\n",
       " 'bedrooms^2 bathrooms',\n",
       " 'bedrooms^2 sqft_living',\n",
       " 'bedrooms^2 sqft_lot',\n",
       " 'bedrooms^2 floors',\n",
       " 'bedrooms^2 waterfront',\n",
       " 'bedrooms^2 view',\n",
       " 'bedrooms^2 condition',\n",
       " 'bedrooms^2 grade',\n",
       " 'bedrooms^2 sqft_above',\n",
       " 'bedrooms^2 sqft_basement',\n",
       " 'bedrooms^2 yr_built',\n",
       " 'bedrooms^2 yr_renovated',\n",
       " 'bedrooms^2 zipcode',\n",
       " 'bedrooms^2 lat',\n",
       " 'bedrooms^2 long',\n",
       " 'bedrooms^2 sqft_living15',\n",
       " 'bedrooms^2 sqft_lot15',\n",
       " 'bedrooms^2 yr_built_or_renovated',\n",
       " 'bedrooms^2 years_old',\n",
       " 'bedrooms^2 age_feature',\n",
       " 'bedrooms^2 sqft_living_relative_to_nabe',\n",
       " 'bedrooms^2 renovated',\n",
       " 'bedrooms^2 viewed',\n",
       " 'bedrooms^2 sq_ft_per_flr',\n",
       " 'bedrooms bathrooms^2',\n",
       " 'bedrooms bathrooms sqft_living',\n",
       " 'bedrooms bathrooms sqft_lot',\n",
       " 'bedrooms bathrooms floors',\n",
       " 'bedrooms bathrooms waterfront',\n",
       " 'bedrooms bathrooms view',\n",
       " 'bedrooms bathrooms condition',\n",
       " 'bedrooms bathrooms grade',\n",
       " 'bedrooms bathrooms sqft_above',\n",
       " 'bedrooms bathrooms sqft_basement',\n",
       " 'bedrooms bathrooms yr_built',\n",
       " 'bedrooms bathrooms yr_renovated',\n",
       " 'bedrooms bathrooms zipcode',\n",
       " 'bedrooms bathrooms lat',\n",
       " 'bedrooms bathrooms long',\n",
       " 'bedrooms bathrooms sqft_living15',\n",
       " 'bedrooms bathrooms sqft_lot15',\n",
       " 'bedrooms bathrooms yr_built_or_renovated',\n",
       " 'bedrooms bathrooms years_old',\n",
       " 'bedrooms bathrooms age_feature',\n",
       " 'bedrooms bathrooms sqft_living_relative_to_nabe',\n",
       " 'bedrooms bathrooms renovated',\n",
       " 'bedrooms bathrooms viewed',\n",
       " 'bedrooms bathrooms sq_ft_per_flr',\n",
       " 'bedrooms sqft_living^2',\n",
       " 'bedrooms sqft_living sqft_lot',\n",
       " 'bedrooms sqft_living floors',\n",
       " 'bedrooms sqft_living waterfront',\n",
       " 'bedrooms sqft_living view',\n",
       " 'bedrooms sqft_living condition',\n",
       " 'bedrooms sqft_living grade',\n",
       " 'bedrooms sqft_living sqft_above',\n",
       " 'bedrooms sqft_living sqft_basement',\n",
       " 'bedrooms sqft_living yr_built',\n",
       " 'bedrooms sqft_living yr_renovated',\n",
       " 'bedrooms sqft_living zipcode',\n",
       " 'bedrooms sqft_living lat',\n",
       " 'bedrooms sqft_living long',\n",
       " 'bedrooms sqft_living sqft_living15',\n",
       " 'bedrooms sqft_living sqft_lot15',\n",
       " 'bedrooms sqft_living yr_built_or_renovated',\n",
       " 'bedrooms sqft_living years_old',\n",
       " 'bedrooms sqft_living age_feature',\n",
       " 'bedrooms sqft_living sqft_living_relative_to_nabe',\n",
       " 'bedrooms sqft_living renovated',\n",
       " 'bedrooms sqft_living viewed',\n",
       " 'bedrooms sqft_living sq_ft_per_flr',\n",
       " 'bedrooms sqft_lot^2',\n",
       " 'bedrooms sqft_lot floors',\n",
       " 'bedrooms sqft_lot waterfront',\n",
       " 'bedrooms sqft_lot view',\n",
       " 'bedrooms sqft_lot condition',\n",
       " 'bedrooms sqft_lot grade',\n",
       " 'bedrooms sqft_lot sqft_above',\n",
       " 'bedrooms sqft_lot sqft_basement',\n",
       " 'bedrooms sqft_lot yr_built',\n",
       " 'bedrooms sqft_lot yr_renovated',\n",
       " 'bedrooms sqft_lot zipcode',\n",
       " 'bedrooms sqft_lot lat',\n",
       " 'bedrooms sqft_lot long',\n",
       " 'bedrooms sqft_lot sqft_living15',\n",
       " 'bedrooms sqft_lot sqft_lot15',\n",
       " 'bedrooms sqft_lot yr_built_or_renovated',\n",
       " 'bedrooms sqft_lot years_old',\n",
       " 'bedrooms sqft_lot age_feature',\n",
       " 'bedrooms sqft_lot sqft_living_relative_to_nabe',\n",
       " 'bedrooms sqft_lot renovated',\n",
       " 'bedrooms sqft_lot viewed',\n",
       " 'bedrooms sqft_lot sq_ft_per_flr',\n",
       " 'bedrooms floors^2',\n",
       " 'bedrooms floors waterfront',\n",
       " 'bedrooms floors view',\n",
       " 'bedrooms floors condition',\n",
       " 'bedrooms floors grade',\n",
       " 'bedrooms floors sqft_above',\n",
       " 'bedrooms floors sqft_basement',\n",
       " 'bedrooms floors yr_built',\n",
       " 'bedrooms floors yr_renovated',\n",
       " 'bedrooms floors zipcode',\n",
       " 'bedrooms floors lat',\n",
       " 'bedrooms floors long',\n",
       " 'bedrooms floors sqft_living15',\n",
       " 'bedrooms floors sqft_lot15',\n",
       " 'bedrooms floors yr_built_or_renovated',\n",
       " 'bedrooms floors years_old',\n",
       " 'bedrooms floors age_feature',\n",
       " 'bedrooms floors sqft_living_relative_to_nabe',\n",
       " 'bedrooms floors renovated',\n",
       " 'bedrooms floors viewed',\n",
       " 'bedrooms floors sq_ft_per_flr',\n",
       " 'bedrooms waterfront^2',\n",
       " 'bedrooms waterfront view',\n",
       " 'bedrooms waterfront condition',\n",
       " 'bedrooms waterfront grade',\n",
       " 'bedrooms waterfront sqft_above',\n",
       " 'bedrooms waterfront sqft_basement',\n",
       " 'bedrooms waterfront yr_built',\n",
       " 'bedrooms waterfront yr_renovated',\n",
       " 'bedrooms waterfront zipcode',\n",
       " 'bedrooms waterfront lat',\n",
       " 'bedrooms waterfront long',\n",
       " 'bedrooms waterfront sqft_living15',\n",
       " 'bedrooms waterfront sqft_lot15',\n",
       " 'bedrooms waterfront yr_built_or_renovated',\n",
       " 'bedrooms waterfront years_old',\n",
       " 'bedrooms waterfront age_feature',\n",
       " 'bedrooms waterfront sqft_living_relative_to_nabe',\n",
       " 'bedrooms waterfront renovated',\n",
       " 'bedrooms waterfront viewed',\n",
       " 'bedrooms waterfront sq_ft_per_flr',\n",
       " 'bedrooms view^2',\n",
       " 'bedrooms view condition',\n",
       " 'bedrooms view grade',\n",
       " 'bedrooms view sqft_above',\n",
       " 'bedrooms view sqft_basement',\n",
       " 'bedrooms view yr_built',\n",
       " 'bedrooms view yr_renovated',\n",
       " 'bedrooms view zipcode',\n",
       " 'bedrooms view lat',\n",
       " 'bedrooms view long',\n",
       " 'bedrooms view sqft_living15',\n",
       " 'bedrooms view sqft_lot15',\n",
       " 'bedrooms view yr_built_or_renovated',\n",
       " 'bedrooms view years_old',\n",
       " 'bedrooms view age_feature',\n",
       " 'bedrooms view sqft_living_relative_to_nabe',\n",
       " 'bedrooms view renovated',\n",
       " 'bedrooms view viewed',\n",
       " 'bedrooms view sq_ft_per_flr',\n",
       " 'bedrooms condition^2',\n",
       " 'bedrooms condition grade',\n",
       " 'bedrooms condition sqft_above',\n",
       " 'bedrooms condition sqft_basement',\n",
       " 'bedrooms condition yr_built',\n",
       " 'bedrooms condition yr_renovated',\n",
       " 'bedrooms condition zipcode',\n",
       " 'bedrooms condition lat',\n",
       " 'bedrooms condition long',\n",
       " 'bedrooms condition sqft_living15',\n",
       " 'bedrooms condition sqft_lot15',\n",
       " 'bedrooms condition yr_built_or_renovated',\n",
       " 'bedrooms condition years_old',\n",
       " 'bedrooms condition age_feature',\n",
       " 'bedrooms condition sqft_living_relative_to_nabe',\n",
       " 'bedrooms condition renovated',\n",
       " 'bedrooms condition viewed',\n",
       " 'bedrooms condition sq_ft_per_flr',\n",
       " 'bedrooms grade^2',\n",
       " 'bedrooms grade sqft_above',\n",
       " 'bedrooms grade sqft_basement',\n",
       " 'bedrooms grade yr_built',\n",
       " 'bedrooms grade yr_renovated',\n",
       " 'bedrooms grade zipcode',\n",
       " 'bedrooms grade lat',\n",
       " 'bedrooms grade long',\n",
       " 'bedrooms grade sqft_living15',\n",
       " 'bedrooms grade sqft_lot15',\n",
       " 'bedrooms grade yr_built_or_renovated',\n",
       " 'bedrooms grade years_old',\n",
       " 'bedrooms grade age_feature',\n",
       " 'bedrooms grade sqft_living_relative_to_nabe',\n",
       " 'bedrooms grade renovated',\n",
       " 'bedrooms grade viewed',\n",
       " 'bedrooms grade sq_ft_per_flr',\n",
       " 'bedrooms sqft_above^2',\n",
       " 'bedrooms sqft_above sqft_basement',\n",
       " 'bedrooms sqft_above yr_built',\n",
       " 'bedrooms sqft_above yr_renovated',\n",
       " 'bedrooms sqft_above zipcode',\n",
       " 'bedrooms sqft_above lat',\n",
       " 'bedrooms sqft_above long',\n",
       " 'bedrooms sqft_above sqft_living15',\n",
       " 'bedrooms sqft_above sqft_lot15',\n",
       " 'bedrooms sqft_above yr_built_or_renovated',\n",
       " 'bedrooms sqft_above years_old',\n",
       " 'bedrooms sqft_above age_feature',\n",
       " 'bedrooms sqft_above sqft_living_relative_to_nabe',\n",
       " 'bedrooms sqft_above renovated',\n",
       " 'bedrooms sqft_above viewed',\n",
       " 'bedrooms sqft_above sq_ft_per_flr',\n",
       " 'bedrooms sqft_basement^2',\n",
       " 'bedrooms sqft_basement yr_built',\n",
       " 'bedrooms sqft_basement yr_renovated',\n",
       " 'bedrooms sqft_basement zipcode',\n",
       " 'bedrooms sqft_basement lat',\n",
       " 'bedrooms sqft_basement long',\n",
       " 'bedrooms sqft_basement sqft_living15',\n",
       " 'bedrooms sqft_basement sqft_lot15',\n",
       " 'bedrooms sqft_basement yr_built_or_renovated',\n",
       " 'bedrooms sqft_basement years_old',\n",
       " 'bedrooms sqft_basement age_feature',\n",
       " 'bedrooms sqft_basement sqft_living_relative_to_nabe',\n",
       " 'bedrooms sqft_basement renovated',\n",
       " 'bedrooms sqft_basement viewed',\n",
       " 'bedrooms sqft_basement sq_ft_per_flr',\n",
       " 'bedrooms yr_built^2',\n",
       " 'bedrooms yr_built yr_renovated',\n",
       " 'bedrooms yr_built zipcode',\n",
       " 'bedrooms yr_built lat',\n",
       " 'bedrooms yr_built long',\n",
       " 'bedrooms yr_built sqft_living15',\n",
       " 'bedrooms yr_built sqft_lot15',\n",
       " 'bedrooms yr_built yr_built_or_renovated',\n",
       " 'bedrooms yr_built years_old',\n",
       " 'bedrooms yr_built age_feature',\n",
       " 'bedrooms yr_built sqft_living_relative_to_nabe',\n",
       " 'bedrooms yr_built renovated',\n",
       " 'bedrooms yr_built viewed',\n",
       " 'bedrooms yr_built sq_ft_per_flr',\n",
       " 'bedrooms yr_renovated^2',\n",
       " 'bedrooms yr_renovated zipcode',\n",
       " 'bedrooms yr_renovated lat',\n",
       " 'bedrooms yr_renovated long',\n",
       " 'bedrooms yr_renovated sqft_living15',\n",
       " 'bedrooms yr_renovated sqft_lot15',\n",
       " 'bedrooms yr_renovated yr_built_or_renovated',\n",
       " 'bedrooms yr_renovated years_old',\n",
       " 'bedrooms yr_renovated age_feature',\n",
       " 'bedrooms yr_renovated sqft_living_relative_to_nabe',\n",
       " 'bedrooms yr_renovated renovated',\n",
       " 'bedrooms yr_renovated viewed',\n",
       " 'bedrooms yr_renovated sq_ft_per_flr',\n",
       " 'bedrooms zipcode^2',\n",
       " 'bedrooms zipcode lat',\n",
       " 'bedrooms zipcode long',\n",
       " 'bedrooms zipcode sqft_living15',\n",
       " 'bedrooms zipcode sqft_lot15',\n",
       " 'bedrooms zipcode yr_built_or_renovated',\n",
       " 'bedrooms zipcode years_old',\n",
       " 'bedrooms zipcode age_feature',\n",
       " 'bedrooms zipcode sqft_living_relative_to_nabe',\n",
       " 'bedrooms zipcode renovated',\n",
       " 'bedrooms zipcode viewed',\n",
       " 'bedrooms zipcode sq_ft_per_flr',\n",
       " 'bedrooms lat^2',\n",
       " 'bedrooms lat long',\n",
       " 'bedrooms lat sqft_living15',\n",
       " 'bedrooms lat sqft_lot15',\n",
       " 'bedrooms lat yr_built_or_renovated',\n",
       " 'bedrooms lat years_old',\n",
       " 'bedrooms lat age_feature',\n",
       " 'bedrooms lat sqft_living_relative_to_nabe',\n",
       " 'bedrooms lat renovated',\n",
       " 'bedrooms lat viewed',\n",
       " 'bedrooms lat sq_ft_per_flr',\n",
       " 'bedrooms long^2',\n",
       " 'bedrooms long sqft_living15',\n",
       " 'bedrooms long sqft_lot15',\n",
       " 'bedrooms long yr_built_or_renovated',\n",
       " 'bedrooms long years_old',\n",
       " 'bedrooms long age_feature',\n",
       " 'bedrooms long sqft_living_relative_to_nabe',\n",
       " 'bedrooms long renovated',\n",
       " 'bedrooms long viewed',\n",
       " 'bedrooms long sq_ft_per_flr',\n",
       " 'bedrooms sqft_living15^2',\n",
       " 'bedrooms sqft_living15 sqft_lot15',\n",
       " 'bedrooms sqft_living15 yr_built_or_renovated',\n",
       " 'bedrooms sqft_living15 years_old',\n",
       " 'bedrooms sqft_living15 age_feature',\n",
       " 'bedrooms sqft_living15 sqft_living_relative_to_nabe',\n",
       " 'bedrooms sqft_living15 renovated',\n",
       " 'bedrooms sqft_living15 viewed',\n",
       " 'bedrooms sqft_living15 sq_ft_per_flr',\n",
       " 'bedrooms sqft_lot15^2',\n",
       " 'bedrooms sqft_lot15 yr_built_or_renovated',\n",
       " 'bedrooms sqft_lot15 years_old',\n",
       " 'bedrooms sqft_lot15 age_feature',\n",
       " 'bedrooms sqft_lot15 sqft_living_relative_to_nabe',\n",
       " 'bedrooms sqft_lot15 renovated',\n",
       " 'bedrooms sqft_lot15 viewed',\n",
       " 'bedrooms sqft_lot15 sq_ft_per_flr',\n",
       " 'bedrooms yr_built_or_renovated^2',\n",
       " 'bedrooms yr_built_or_renovated years_old',\n",
       " 'bedrooms yr_built_or_renovated age_feature',\n",
       " 'bedrooms yr_built_or_renovated sqft_living_relative_to_nabe',\n",
       " 'bedrooms yr_built_or_renovated renovated',\n",
       " 'bedrooms yr_built_or_renovated viewed',\n",
       " 'bedrooms yr_built_or_renovated sq_ft_per_flr',\n",
       " 'bedrooms years_old^2',\n",
       " 'bedrooms years_old age_feature',\n",
       " 'bedrooms years_old sqft_living_relative_to_nabe',\n",
       " 'bedrooms years_old renovated',\n",
       " 'bedrooms years_old viewed',\n",
       " 'bedrooms years_old sq_ft_per_flr',\n",
       " 'bedrooms age_feature^2',\n",
       " 'bedrooms age_feature sqft_living_relative_to_nabe',\n",
       " 'bedrooms age_feature renovated',\n",
       " 'bedrooms age_feature viewed',\n",
       " 'bedrooms age_feature sq_ft_per_flr',\n",
       " 'bedrooms sqft_living_relative_to_nabe^2',\n",
       " 'bedrooms sqft_living_relative_to_nabe renovated',\n",
       " 'bedrooms sqft_living_relative_to_nabe viewed',\n",
       " 'bedrooms sqft_living_relative_to_nabe sq_ft_per_flr',\n",
       " 'bedrooms renovated^2',\n",
       " 'bedrooms renovated viewed',\n",
       " 'bedrooms renovated sq_ft_per_flr',\n",
       " 'bedrooms viewed^2',\n",
       " 'bedrooms viewed sq_ft_per_flr',\n",
       " 'bedrooms sq_ft_per_flr^2',\n",
       " 'bathrooms^3',\n",
       " 'bathrooms^2 sqft_living',\n",
       " 'bathrooms^2 sqft_lot',\n",
       " 'bathrooms^2 floors',\n",
       " 'bathrooms^2 waterfront',\n",
       " 'bathrooms^2 view',\n",
       " 'bathrooms^2 condition',\n",
       " 'bathrooms^2 grade',\n",
       " 'bathrooms^2 sqft_above',\n",
       " 'bathrooms^2 sqft_basement',\n",
       " 'bathrooms^2 yr_built',\n",
       " 'bathrooms^2 yr_renovated',\n",
       " 'bathrooms^2 zipcode',\n",
       " 'bathrooms^2 lat',\n",
       " 'bathrooms^2 long',\n",
       " 'bathrooms^2 sqft_living15',\n",
       " 'bathrooms^2 sqft_lot15',\n",
       " 'bathrooms^2 yr_built_or_renovated',\n",
       " 'bathrooms^2 years_old',\n",
       " 'bathrooms^2 age_feature',\n",
       " 'bathrooms^2 sqft_living_relative_to_nabe',\n",
       " 'bathrooms^2 renovated',\n",
       " 'bathrooms^2 viewed',\n",
       " 'bathrooms^2 sq_ft_per_flr',\n",
       " 'bathrooms sqft_living^2',\n",
       " 'bathrooms sqft_living sqft_lot',\n",
       " 'bathrooms sqft_living floors',\n",
       " 'bathrooms sqft_living waterfront',\n",
       " 'bathrooms sqft_living view',\n",
       " 'bathrooms sqft_living condition',\n",
       " 'bathrooms sqft_living sqft_above',\n",
       " 'bathrooms sqft_living sqft_basement',\n",
       " 'bathrooms sqft_living yr_built',\n",
       " 'bathrooms sqft_living yr_renovated',\n",
       " 'bathrooms sqft_living zipcode',\n",
       " 'bathrooms sqft_living lat',\n",
       " 'bathrooms sqft_living long',\n",
       " 'bathrooms sqft_living sqft_living15',\n",
       " 'bathrooms sqft_living sqft_lot15',\n",
       " 'bathrooms sqft_living yr_built_or_renovated',\n",
       " 'bathrooms sqft_living years_old',\n",
       " 'bathrooms sqft_living age_feature',\n",
       " 'bathrooms sqft_living sqft_living_relative_to_nabe',\n",
       " 'bathrooms sqft_living renovated',\n",
       " 'bathrooms sqft_living viewed',\n",
       " 'bathrooms sqft_living sq_ft_per_flr',\n",
       " 'bathrooms sqft_lot^2',\n",
       " 'bathrooms sqft_lot floors',\n",
       " 'bathrooms sqft_lot waterfront',\n",
       " 'bathrooms sqft_lot view',\n",
       " 'bathrooms sqft_lot condition',\n",
       " 'bathrooms sqft_lot grade',\n",
       " 'bathrooms sqft_lot sqft_above',\n",
       " 'bathrooms sqft_lot sqft_basement',\n",
       " 'bathrooms sqft_lot yr_built',\n",
       " 'bathrooms sqft_lot yr_renovated',\n",
       " 'bathrooms sqft_lot zipcode',\n",
       " 'bathrooms sqft_lot lat',\n",
       " 'bathrooms sqft_lot long',\n",
       " 'bathrooms sqft_lot sqft_living15',\n",
       " 'bathrooms sqft_lot sqft_lot15',\n",
       " 'bathrooms sqft_lot yr_built_or_renovated',\n",
       " 'bathrooms sqft_lot years_old',\n",
       " 'bathrooms sqft_lot age_feature',\n",
       " 'bathrooms sqft_lot sqft_living_relative_to_nabe',\n",
       " 'bathrooms sqft_lot renovated',\n",
       " 'bathrooms sqft_lot viewed',\n",
       " 'bathrooms sqft_lot sq_ft_per_flr',\n",
       " 'bathrooms floors^2',\n",
       " 'bathrooms floors waterfront',\n",
       " 'bathrooms floors view',\n",
       " 'bathrooms floors condition',\n",
       " 'bathrooms floors grade',\n",
       " 'bathrooms floors sqft_above',\n",
       " 'bathrooms floors sqft_basement',\n",
       " 'bathrooms floors yr_built',\n",
       " 'bathrooms floors yr_renovated',\n",
       " 'bathrooms floors zipcode',\n",
       " 'bathrooms floors lat',\n",
       " 'bathrooms floors long',\n",
       " 'bathrooms floors sqft_living15',\n",
       " 'bathrooms floors sqft_lot15',\n",
       " 'bathrooms floors yr_built_or_renovated',\n",
       " 'bathrooms floors years_old',\n",
       " 'bathrooms floors age_feature',\n",
       " 'bathrooms floors sqft_living_relative_to_nabe',\n",
       " 'bathrooms floors renovated',\n",
       " 'bathrooms floors viewed',\n",
       " 'bathrooms floors sq_ft_per_flr',\n",
       " 'bathrooms waterfront^2',\n",
       " 'bathrooms waterfront view',\n",
       " 'bathrooms waterfront condition',\n",
       " 'bathrooms waterfront grade',\n",
       " 'bathrooms waterfront sqft_above',\n",
       " 'bathrooms waterfront sqft_basement',\n",
       " 'bathrooms waterfront yr_built',\n",
       " 'bathrooms waterfront yr_renovated',\n",
       " 'bathrooms waterfront zipcode',\n",
       " 'bathrooms waterfront lat',\n",
       " 'bathrooms waterfront long',\n",
       " 'bathrooms waterfront sqft_living15',\n",
       " 'bathrooms waterfront sqft_lot15',\n",
       " 'bathrooms waterfront yr_built_or_renovated',\n",
       " 'bathrooms waterfront years_old',\n",
       " 'bathrooms waterfront age_feature',\n",
       " 'bathrooms waterfront sqft_living_relative_to_nabe',\n",
       " 'bathrooms waterfront renovated',\n",
       " 'bathrooms waterfront viewed',\n",
       " 'bathrooms waterfront sq_ft_per_flr',\n",
       " 'bathrooms view^2',\n",
       " 'bathrooms view condition',\n",
       " 'bathrooms view grade',\n",
       " 'bathrooms view sqft_above',\n",
       " 'bathrooms view sqft_basement',\n",
       " 'bathrooms view yr_built',\n",
       " 'bathrooms view yr_renovated',\n",
       " 'bathrooms view zipcode',\n",
       " 'bathrooms view lat',\n",
       " 'bathrooms view long',\n",
       " 'bathrooms view sqft_living15',\n",
       " 'bathrooms view sqft_lot15',\n",
       " 'bathrooms view yr_built_or_renovated',\n",
       " 'bathrooms view years_old',\n",
       " 'bathrooms view age_feature',\n",
       " 'bathrooms view sqft_living_relative_to_nabe',\n",
       " 'bathrooms view renovated',\n",
       " 'bathrooms view viewed',\n",
       " 'bathrooms view sq_ft_per_flr',\n",
       " 'bathrooms condition^2',\n",
       " 'bathrooms condition grade',\n",
       " 'bathrooms condition sqft_above',\n",
       " 'bathrooms condition sqft_basement',\n",
       " 'bathrooms condition yr_built',\n",
       " 'bathrooms condition yr_renovated',\n",
       " 'bathrooms condition zipcode',\n",
       " 'bathrooms condition lat',\n",
       " 'bathrooms condition long',\n",
       " 'bathrooms condition sqft_living15',\n",
       " 'bathrooms condition sqft_lot15',\n",
       " 'bathrooms condition yr_built_or_renovated',\n",
       " 'bathrooms condition years_old',\n",
       " 'bathrooms condition age_feature',\n",
       " 'bathrooms condition sqft_living_relative_to_nabe',\n",
       " 'bathrooms condition renovated',\n",
       " 'bathrooms condition viewed',\n",
       " 'bathrooms condition sq_ft_per_flr',\n",
       " 'bathrooms grade^2',\n",
       " 'bathrooms grade sqft_above',\n",
       " 'bathrooms grade sqft_basement',\n",
       " 'bathrooms grade yr_built',\n",
       " 'bathrooms grade yr_renovated',\n",
       " 'bathrooms grade zipcode',\n",
       " 'bathrooms grade lat',\n",
       " 'bathrooms grade long',\n",
       " 'bathrooms grade sqft_living15',\n",
       " 'bathrooms grade sqft_lot15',\n",
       " 'bathrooms grade yr_built_or_renovated',\n",
       " 'bathrooms grade years_old',\n",
       " 'bathrooms grade age_feature',\n",
       " 'bathrooms grade sqft_living_relative_to_nabe',\n",
       " 'bathrooms grade renovated',\n",
       " 'bathrooms grade viewed',\n",
       " 'bathrooms grade sq_ft_per_flr',\n",
       " 'bathrooms sqft_above^2',\n",
       " 'bathrooms sqft_above sqft_basement',\n",
       " 'bathrooms sqft_above yr_built',\n",
       " 'bathrooms sqft_above yr_renovated',\n",
       " 'bathrooms sqft_above zipcode',\n",
       " 'bathrooms sqft_above lat',\n",
       " 'bathrooms sqft_above long',\n",
       " 'bathrooms sqft_above sqft_living15',\n",
       " 'bathrooms sqft_above sqft_lot15',\n",
       " 'bathrooms sqft_above yr_built_or_renovated',\n",
       " 'bathrooms sqft_above years_old',\n",
       " 'bathrooms sqft_above age_feature',\n",
       " 'bathrooms sqft_above sqft_living_relative_to_nabe',\n",
       " 'bathrooms sqft_above renovated',\n",
       " 'bathrooms sqft_above viewed',\n",
       " 'bathrooms sqft_above sq_ft_per_flr',\n",
       " 'bathrooms sqft_basement^2',\n",
       " 'bathrooms sqft_basement yr_built',\n",
       " 'bathrooms sqft_basement yr_renovated',\n",
       " 'bathrooms sqft_basement zipcode',\n",
       " 'bathrooms sqft_basement lat',\n",
       " 'bathrooms sqft_basement long',\n",
       " 'bathrooms sqft_basement sqft_living15',\n",
       " 'bathrooms sqft_basement sqft_lot15',\n",
       " 'bathrooms sqft_basement yr_built_or_renovated',\n",
       " 'bathrooms sqft_basement years_old',\n",
       " 'bathrooms sqft_basement age_feature',\n",
       " 'bathrooms sqft_basement sqft_living_relative_to_nabe',\n",
       " 'bathrooms sqft_basement renovated',\n",
       " 'bathrooms sqft_basement viewed',\n",
       " 'bathrooms sqft_basement sq_ft_per_flr',\n",
       " 'bathrooms yr_built^2',\n",
       " 'bathrooms yr_built yr_renovated',\n",
       " 'bathrooms yr_built zipcode',\n",
       " 'bathrooms yr_built lat',\n",
       " 'bathrooms yr_built long',\n",
       " 'bathrooms yr_built sqft_living15',\n",
       " 'bathrooms yr_built sqft_lot15',\n",
       " 'bathrooms yr_built yr_built_or_renovated',\n",
       " 'bathrooms yr_built years_old',\n",
       " 'bathrooms yr_built age_feature',\n",
       " 'bathrooms yr_built sqft_living_relative_to_nabe',\n",
       " 'bathrooms yr_built renovated',\n",
       " 'bathrooms yr_built viewed',\n",
       " 'bathrooms yr_built sq_ft_per_flr',\n",
       " 'bathrooms yr_renovated^2',\n",
       " 'bathrooms yr_renovated zipcode',\n",
       " 'bathrooms yr_renovated lat',\n",
       " 'bathrooms yr_renovated long',\n",
       " 'bathrooms yr_renovated sqft_living15',\n",
       " 'bathrooms yr_renovated sqft_lot15',\n",
       " 'bathrooms yr_renovated yr_built_or_renovated',\n",
       " 'bathrooms yr_renovated years_old',\n",
       " 'bathrooms yr_renovated age_feature',\n",
       " 'bathrooms yr_renovated sqft_living_relative_to_nabe',\n",
       " 'bathrooms yr_renovated renovated',\n",
       " 'bathrooms yr_renovated viewed',\n",
       " 'bathrooms yr_renovated sq_ft_per_flr',\n",
       " 'bathrooms zipcode^2',\n",
       " 'bathrooms zipcode lat',\n",
       " 'bathrooms zipcode long',\n",
       " 'bathrooms zipcode sqft_living15',\n",
       " 'bathrooms zipcode sqft_lot15',\n",
       " 'bathrooms zipcode yr_built_or_renovated',\n",
       " 'bathrooms zipcode years_old',\n",
       " 'bathrooms zipcode age_feature',\n",
       " 'bathrooms zipcode sqft_living_relative_to_nabe',\n",
       " 'bathrooms zipcode renovated',\n",
       " 'bathrooms zipcode viewed',\n",
       " 'bathrooms zipcode sq_ft_per_flr',\n",
       " 'bathrooms lat^2',\n",
       " 'bathrooms lat long',\n",
       " 'bathrooms lat sqft_living15',\n",
       " 'bathrooms lat sqft_lot15',\n",
       " 'bathrooms lat yr_built_or_renovated',\n",
       " 'bathrooms lat years_old',\n",
       " 'bathrooms lat age_feature',\n",
       " 'bathrooms lat sqft_living_relative_to_nabe',\n",
       " 'bathrooms lat renovated',\n",
       " 'bathrooms lat viewed',\n",
       " 'bathrooms lat sq_ft_per_flr',\n",
       " 'bathrooms long^2',\n",
       " 'bathrooms long sqft_living15',\n",
       " 'bathrooms long sqft_lot15',\n",
       " 'bathrooms long yr_built_or_renovated',\n",
       " 'bathrooms long years_old',\n",
       " 'bathrooms long age_feature',\n",
       " 'bathrooms long sqft_living_relative_to_nabe',\n",
       " 'bathrooms long renovated',\n",
       " 'bathrooms long viewed',\n",
       " 'bathrooms long sq_ft_per_flr',\n",
       " 'bathrooms sqft_living15^2',\n",
       " 'bathrooms sqft_living15 sqft_lot15',\n",
       " 'bathrooms sqft_living15 yr_built_or_renovated',\n",
       " 'bathrooms sqft_living15 years_old',\n",
       " 'bathrooms sqft_living15 age_feature',\n",
       " 'bathrooms sqft_living15 sqft_living_relative_to_nabe',\n",
       " 'bathrooms sqft_living15 renovated',\n",
       " 'bathrooms sqft_living15 viewed',\n",
       " 'bathrooms sqft_living15 sq_ft_per_flr',\n",
       " 'bathrooms sqft_lot15^2',\n",
       " 'bathrooms sqft_lot15 yr_built_or_renovated',\n",
       " 'bathrooms sqft_lot15 years_old',\n",
       " 'bathrooms sqft_lot15 age_feature',\n",
       " 'bathrooms sqft_lot15 sqft_living_relative_to_nabe',\n",
       " 'bathrooms sqft_lot15 renovated',\n",
       " 'bathrooms sqft_lot15 viewed',\n",
       " 'bathrooms sqft_lot15 sq_ft_per_flr',\n",
       " 'bathrooms yr_built_or_renovated^2',\n",
       " 'bathrooms yr_built_or_renovated years_old',\n",
       " 'bathrooms yr_built_or_renovated age_feature',\n",
       " 'bathrooms yr_built_or_renovated sqft_living_relative_to_nabe',\n",
       " 'bathrooms yr_built_or_renovated renovated',\n",
       " 'bathrooms yr_built_or_renovated viewed',\n",
       " 'bathrooms yr_built_or_renovated sq_ft_per_flr',\n",
       " 'bathrooms years_old^2',\n",
       " 'bathrooms years_old age_feature',\n",
       " 'bathrooms years_old sqft_living_relative_to_nabe',\n",
       " 'bathrooms years_old renovated',\n",
       " 'bathrooms years_old viewed',\n",
       " 'bathrooms years_old sq_ft_per_flr',\n",
       " 'bathrooms age_feature^2',\n",
       " 'bathrooms age_feature sqft_living_relative_to_nabe',\n",
       " 'bathrooms age_feature renovated',\n",
       " 'bathrooms age_feature viewed',\n",
       " 'bathrooms age_feature sq_ft_per_flr',\n",
       " 'bathrooms sqft_living_relative_to_nabe^2',\n",
       " 'bathrooms sqft_living_relative_to_nabe renovated',\n",
       " 'bathrooms sqft_living_relative_to_nabe viewed',\n",
       " 'bathrooms sqft_living_relative_to_nabe sq_ft_per_flr',\n",
       " 'bathrooms renovated^2',\n",
       " 'bathrooms renovated viewed',\n",
       " 'bathrooms renovated sq_ft_per_flr',\n",
       " 'bathrooms viewed^2',\n",
       " 'bathrooms viewed sq_ft_per_flr',\n",
       " 'bathrooms sq_ft_per_flr^2',\n",
       " 'sqft_living^3',\n",
       " 'sqft_living^2 sqft_lot',\n",
       " 'sqft_living^2 floors',\n",
       " 'sqft_living^2 waterfront',\n",
       " 'sqft_living^2 view',\n",
       " 'sqft_living^2 sqft_above',\n",
       " 'sqft_living^2 sqft_basement',\n",
       " 'sqft_living^2 yr_built',\n",
       " 'sqft_living^2 yr_renovated',\n",
       " 'sqft_living^2 sqft_living15',\n",
       " 'sqft_living^2 sqft_lot15',\n",
       " 'sqft_living^2 years_old',\n",
       " 'sqft_living^2 age_feature',\n",
       " 'sqft_living^2 sqft_living_relative_to_nabe',\n",
       " 'sqft_living^2 renovated',\n",
       " 'sqft_living^2 viewed',\n",
       " 'sqft_living^2 sq_ft_per_flr',\n",
       " 'sqft_living sqft_lot^2',\n",
       " 'sqft_living sqft_lot floors',\n",
       " 'sqft_living sqft_lot waterfront',\n",
       " 'sqft_living sqft_lot view',\n",
       " 'sqft_living sqft_lot condition',\n",
       " 'sqft_living sqft_lot grade',\n",
       " 'sqft_living sqft_lot sqft_above',\n",
       " 'sqft_living sqft_lot sqft_basement',\n",
       " 'sqft_living sqft_lot yr_built',\n",
       " 'sqft_living sqft_lot yr_renovated',\n",
       " 'sqft_living sqft_lot zipcode',\n",
       " ...]"
      ]
     },
     "execution_count": 69,
     "metadata": {},
     "output_type": "execute_result"
    }
   ],
   "source": [
    "list(removed_columns)"
   ]
  },
  {
   "cell_type": "code",
   "execution_count": 70,
   "metadata": {
    "hidden": true
   },
   "outputs": [
    {
     "data": {
      "text/plain": [
       "['sqft_living^2',\n",
       " 'sqft_living grade',\n",
       " 'bathrooms sqft_living grade',\n",
       " 'sqft_living^2 condition',\n",
       " 'sqft_living^2 grade',\n",
       " 'sqft_living^2 zipcode',\n",
       " 'sqft_living^2 lat',\n",
       " 'sqft_living^2 long',\n",
       " 'sqft_living^2 yr_built_or_renovated',\n",
       " 'sqft_living condition grade',\n",
       " 'sqft_living condition sqft_living15',\n",
       " 'sqft_living grade^2',\n",
       " 'sqft_living grade yr_built',\n",
       " 'sqft_living grade zipcode',\n",
       " 'sqft_living grade lat',\n",
       " 'sqft_living grade long',\n",
       " 'sqft_living grade sqft_living15',\n",
       " 'sqft_living grade yr_built_or_renovated',\n",
       " 'sqft_living sqft_living15 sqft_living_relative_to_nabe',\n",
       " 'grade sqft_living15 sqft_living_relative_to_nabe']"
      ]
     },
     "execution_count": 70,
     "metadata": {},
     "output_type": "execute_result"
    }
   ],
   "source": [
    "list(selected_columns)"
   ]
  },
  {
   "cell_type": "code",
   "execution_count": 71,
   "metadata": {
    "hidden": true
   },
   "outputs": [
    {
     "name": "stdout",
     "output_type": "stream",
     "text": [
      "Training Root Mean Squared Error: 187311.00701216818\n",
      "Testing Root Mean Squared Error: 175463.45029975707\n"
     ]
    }
   ],
   "source": [
    "#instantiate a linear regression object\n",
    "lm_kbest = LinearRegression()\n",
    "\n",
    "#fit the linear regression to the data\n",
    "lm_kbest.fit(X_train[selected_columns], y_train)\n",
    "\n",
    "y_train_kbest = lm_kbest.predict(X_train[selected_columns])\n",
    "\n",
    "\n",
    "trainK_rmse = np.sqrt(metrics.mean_squared_error(y_train, y_train_kbest))\n",
    "\n",
    "\n",
    "print('Training Root Mean Squared Error:' , trainK_rmse)\n",
    "\n",
    "y_kbest = lm_kbest.predict(X_test[selected_columns])\n",
    "\n",
    "testK_rmse = np.sqrt(metrics.mean_squared_error(y_test, y_kbest))\n",
    "\n",
    "print('Testing Root Mean Squared Error:' , testK_rmse)"
   ]
  },
  {
   "cell_type": "code",
   "execution_count": 72,
   "metadata": {
    "hidden": true
   },
   "outputs": [
    {
     "data": {
      "text/plain": [
       "[('sqft_living^2', 55480227.29060055),\n",
       " ('sqft_living grade', -42419794.97782215),\n",
       " ('bathrooms sqft_living grade', 84976.5664432847),\n",
       " ('sqft_living^2 condition', -87970.52719296358),\n",
       " ('sqft_living^2 grade', -70670.81342000437),\n",
       " ('sqft_living^2 zipcode', -174450264.84411082),\n",
       " ('sqft_living^2 lat', -4482941.121236419),\n",
       " ('sqft_living^2 long', -65022434.034362115),\n",
       " ('sqft_living^2 yr_built_or_renovated', 3016690.5262230723),\n",
       " ('sqft_living condition grade', -168571.20049076574),\n",
       " ('sqft_living condition sqft_living15', 387492.3091579864),\n",
       " ('sqft_living grade^2', 643492.5176178678),\n",
       " ('sqft_living grade yr_built', -3591301.542907551),\n",
       " ('sqft_living grade zipcode', 85761639.91262944),\n",
       " ('sqft_living grade lat', 19931775.17542802),\n",
       " ('sqft_living grade long', 17172637.94272647),\n",
       " ('sqft_living grade sqft_living15', -337847.873890835),\n",
       " ('sqft_living grade yr_built_or_renovated', -313453.834174179),\n",
       " ('sqft_living sqft_living15 sqft_living_relative_to_nabe', 55480227.29045892),\n",
       " ('grade sqft_living15 sqft_living_relative_to_nabe', -42419794.97788201)]"
      ]
     },
     "execution_count": 72,
     "metadata": {},
     "output_type": "execute_result"
    }
   ],
   "source": [
    "list(zip(selected_columns, lm_kbest.coef_))"
   ]
  },
  {
   "cell_type": "code",
   "execution_count": 73,
   "metadata": {
    "hidden": true
   },
   "outputs": [
    {
     "name": "stdout",
     "output_type": "stream",
     "text": [
      "Original:  550563427402153.3 \n",
      " KBest:    175463.45029975707 \n",
      "\n"
     ]
    }
   ],
   "source": [
    "print('Original: ', test_rmse, '\\n',\n",
    "      \"KBest:   \", testK_rmse,'\\n')"
   ]
  },
  {
   "cell_type": "markdown",
   "metadata": {
    "heading_collapsed": true
   },
   "source": [
    "## Wrapper methods"
   ]
  },
  {
   "cell_type": "code",
   "execution_count": 83,
   "metadata": {
    "hidden": true
   },
   "outputs": [
    {
     "data": {
      "text/plain": [
       "RFECV(cv=5,\n",
       "      estimator=LinearRegression(copy_X=True, fit_intercept=True, n_jobs=None,\n",
       "                                 normalize=False),\n",
       "      min_features_to_select=1, n_jobs=-1, scoring='neg_mean_squared_error',\n",
       "      step=1, verbose=0)"
      ]
     },
     "execution_count": 83,
     "metadata": {},
     "output_type": "execute_result"
    }
   ],
   "source": [
    "# After we fit the model\n",
    "\n",
    "X_train, X_test, y_train, y_test = train_test_split(df_features, target, random_state=34,test_size=0.2)\n",
    "features = ['bedrooms', 'bathrooms', 'sqft_living', 'sqft_lot', 'floors',\n",
    "            'waterfront', 'view', 'condition', 'grade', 'sqft_above',\n",
    "            'sqft_basement', 'yr_built', 'yr_renovated', 'zipcode', 'lat',\n",
    "            'long', 'sqft_living15', 'sqft_lot15', 'yr_built_or_renovated',\n",
    "            'years_old', 'age_feature', 'sqft_living_relative_to_nabe',\n",
    "            'renovated', 'viewed', 'sq_ft_per_flr']\n",
    "\n",
    "df_features = df[features]\n",
    "\n",
    "\n",
    "\n",
    "\n",
    "\n",
    "# Recursive Feature Elimination\n",
    "\n",
    "ols = linear_model.LinearRegression()\n",
    "\n",
    "# Create recursive feature eliminator that scores features by mean squared errors\n",
    "selector = RFECV(estimator=ols, step=1, cv=5, scoring='neg_mean_squared_error', n_jobs=-1)\n",
    "\n",
    "# Fit recursive feature eliminator \n",
    "selector.fit(X_train, y_train)"
   ]
  },
  {
   "cell_type": "code",
   "execution_count": 84,
   "metadata": {
    "hidden": true
   },
   "outputs": [],
   "source": [
    "selected_rfe = X_train.columns[selector.support_]\n",
    "removed_rfe = X_train.columns[~selector.support_]"
   ]
  },
  {
   "cell_type": "code",
   "execution_count": 85,
   "metadata": {
    "hidden": true
   },
   "outputs": [
    {
     "data": {
      "text/plain": [
       "['sqft_lot', 'sqft_lot15', 'sq_ft_per_flr']"
      ]
     },
     "execution_count": 85,
     "metadata": {},
     "output_type": "execute_result"
    }
   ],
   "source": [
    "list(removed_rfe)"
   ]
  },
  {
   "cell_type": "code",
   "execution_count": 86,
   "metadata": {
    "hidden": true
   },
   "outputs": [
    {
     "data": {
      "text/plain": [
       "22"
      ]
     },
     "execution_count": 86,
     "metadata": {},
     "output_type": "execute_result"
    }
   ],
   "source": [
    "len(list(selected_rfe))"
   ]
  },
  {
   "cell_type": "code",
   "execution_count": 88,
   "metadata": {
    "hidden": true
   },
   "outputs": [
    {
     "name": "stdout",
     "output_type": "stream",
     "text": [
      "Training Root Mean Squared Error: 198604.8999954591\n",
      "Testing Root Mean Squared Error: 205965.08667427846\n"
     ]
    }
   ],
   "source": [
    "#instantiate a linear regression object\n",
    "lm_rfe = LinearRegression()\n",
    "\n",
    "#fit the linear regression to the data\n",
    "lm_rfe = lm_rfe.fit(X_train[selected_rfe], y_train)\n",
    "\n",
    "y_rfe = lm_rfe.predict(X_train[selected_rfe])\n",
    "\n",
    "\n",
    "trainRFE_rmse = np.sqrt(metrics.mean_squared_error(y_train, y_rfe))\n",
    "\n",
    "\n",
    "print('Training Root Mean Squared Error:' , trainRFE_rmse)\n",
    "\n",
    "y_pred_rfe = lm_rfe.predict(X_test[selected_rfe])\n",
    "\n",
    "testRFE_rmse = np.sqrt(metrics.mean_squared_error(y_test, y_pred_rfe))\n",
    "\n",
    "print('Testing Root Mean Squared Error:' , testRFE_rmse)"
   ]
  },
  {
   "cell_type": "code",
   "execution_count": 89,
   "metadata": {
    "hidden": true
   },
   "outputs": [
    {
     "name": "stdout",
     "output_type": "stream",
     "text": [
      "Original:  550563427402153.3 \n",
      " KBest:    175463.45029975707 \n",
      " RFE:      205965.08667427846\n"
     ]
    }
   ],
   "source": [
    "print('Original: ', test_rmse, '\\n',\n",
    "      \"KBest:   \", testK_rmse,'\\n',\n",
    "      \"RFE:     \", testRFE_rmse)"
   ]
  },
  {
   "cell_type": "markdown",
   "metadata": {
    "heading_collapsed": true
   },
   "source": [
    "## Embedded Features"
   ]
  },
  {
   "cell_type": "code",
   "execution_count": 90,
   "metadata": {
    "hidden": true
   },
   "outputs": [
    {
     "data": {
      "text/plain": [
       "<matplotlib.axes._subplots.AxesSubplot at 0x1a28669860>"
      ]
     },
     "execution_count": 90,
     "metadata": {},
     "output_type": "execute_result"
    },
    {
     "data": {
      "image/png": "[encoded data removed]",
      "text/plain": [
       "<Figure size 1152x576 with 1 Axes>"
      ]
     },
     "metadata": {},
     "output_type": "display_data"
    }
   ],
   "source": [
    "# Plot to compare the size of all of our coefficients form our final model created by RFE\n",
    "# While we're fitting the model\n",
    "\n",
    "coef = pd.DataFrame(data=lm_rfe.coef_ ).T\n",
    "coef.columns = selected_rfe\n",
    "\n",
    "model_coef = coef.T.sort_values(by=0).T\n",
    "model_coef.plot(kind='bar', title='Modal Coefficients', legend=False, figsize=(16,8),)"
   ]
  },
  {
   "cell_type": "code",
   "execution_count": 91,
   "metadata": {
    "hidden": true
   },
   "outputs": [
    {
     "name": "stdout",
     "output_type": "stream",
     "text": [
      "Training Error: 123974.38209253187\n",
      "Testing Error: 207297.64539863382\n"
     ]
    },
    {
     "name": "stderr",
     "output_type": "stream",
     "text": [
      "/Users/elliotmacy/opt/anaconda3/envs/learn-env/lib/python3.6/site-packages/sklearn/linear_model/coordinate_descent.py:475: ConvergenceWarning: Objective did not converge. You might want to increase the number of iterations. Duality gap: 273629652250132.34, tolerance: 191529062678.72354\n",
      "  positive)\n"
     ]
    }
   ],
   "source": [
    "## training the model\n",
    "\n",
    "lasso = Lasso(alpha=0.1, normalize=False) #<-- larger the alpha, larger the penalty, push more feature coefficients down to zero\n",
    "\n",
    "lasso.fit(X_train,y_train)\n",
    "\n",
    "y_train_pred = lasso.predict(X_train)\n",
    "y_pred = lasso.predict(X_test)\n",
    "\n",
    "train_rmse_lasso01 = metrics.mean_absolute_error(y_train, y_train_pred)\n",
    "test_rmse_lasso01 = np.sqrt(metrics.mean_squared_error(y_test, y_test_pred))\n",
    "print('Training Error: '+ str(train_rmse_lasso01) )\n",
    "print('Testing Error: '+ str(test_rmse_lasso01) )"
   ]
  },
  {
   "cell_type": "code",
   "execution_count": 92,
   "metadata": {
    "hidden": true
   },
   "outputs": [
    {
     "data": {
      "text/plain": [
       "<matplotlib.axes._subplots.AxesSubplot at 0x1a226b5be0>"
      ]
     },
     "execution_count": 92,
     "metadata": {},
     "output_type": "execute_result"
    },
    {
     "data": {
      "image/png": "[encoded data removed]",
      "text/plain": [
       "<Figure size 1152x576 with 1 Axes>"
      ]
     },
     "metadata": {},
     "output_type": "display_data"
    }
   ],
   "source": [
    "lasso_coef01 = pd.DataFrame(data=lasso.coef_).T\n",
    "lasso_coef01.columns = X_train.columns\n",
    "lasso_coef01 = lasso_coef01.T.sort_values(by=0).T\n",
    "lasso_coef01.plot(kind='bar', title='Modal Coefficients', legend=False, figsize=(16,8))"
   ]
  },
  {
   "cell_type": "code",
   "execution_count": 93,
   "metadata": {
    "hidden": true
   },
   "outputs": [
    {
     "data": {
      "text/plain": [
       "0    0\n",
       "dtype: int64"
      ]
     },
     "execution_count": 93,
     "metadata": {},
     "output_type": "execute_result"
    }
   ],
   "source": [
    "coeff_df = lasso_coef01.T\n",
    "\n",
    "coeff_df[coeff_df[0]==0].count()"
   ]
  },
  {
   "cell_type": "code",
   "execution_count": 94,
   "metadata": {
    "hidden": true
   },
   "outputs": [
    {
     "data": {
      "text/html": [
       "<div>\n",
       "<style scoped>\n",
       "    .dataframe tbody tr th:only-of-type {\n",
       "        vertical-align: middle;\n",
       "    }\n",
       "\n",
       "    .dataframe tbody tr th {\n",
       "        vertical-align: top;\n",
       "    }\n",
       "\n",
       "    .dataframe thead th {\n",
       "        text-align: right;\n",
       "    }\n",
       "</style>\n",
       "<table border=\"1\" class=\"dataframe\">\n",
       "  <thead>\n",
       "    <tr style=\"text-align: right;\">\n",
       "      <th></th>\n",
       "      <th>0</th>\n",
       "    </tr>\n",
       "  </thead>\n",
       "  <tbody>\n",
       "  </tbody>\n",
       "</table>\n",
       "</div>"
      ],
      "text/plain": [
       "Empty DataFrame\n",
       "Columns: [0]\n",
       "Index: []"
      ]
     },
     "execution_count": 94,
     "metadata": {},
     "output_type": "execute_result"
    }
   ],
   "source": [
    "coeff_df[coeff_df[0]==0]"
   ]
  },
  {
   "cell_type": "code",
   "execution_count": 95,
   "metadata": {
    "hidden": true
   },
   "outputs": [
    {
     "name": "stdout",
     "output_type": "stream",
     "text": [
      "Original: \t 550563427402153.3 \n",
      " KBest: \t 175463.45029975707 \n",
      " RFE: \t \t 205965.08667427846 \n",
      " Lasso 0.01: \t 207297.64539863382 \n",
      "\n"
     ]
    }
   ],
   "source": [
    "print('Original: \\t', test_rmse, '\\n',\n",
    "      \"KBest: \\t\", testK_rmse, '\\n',\n",
    "      \"RFE: \\t \\t\", testRFE_rmse, '\\n', \n",
    "      \"Lasso 0.01: \\t\",  test_rmse_lasso01, '\\n')"
   ]
  },
  {
   "cell_type": "markdown",
   "metadata": {
    "heading_collapsed": true
   },
   "source": [
    "## Final model"
   ]
  },
  {
   "cell_type": "code",
   "execution_count": 96,
   "metadata": {
    "hidden": true
   },
   "outputs": [],
   "source": [
    "scaler = StandardScaler()\n",
    "\n",
    "#fit and transform the  data\n",
    "df_poly3 = pd.DataFrame(data=scaler.fit_transform(df_poly3), columns=df_poly3.columns) # <-- running on entire dataset (df_poly3), not just train or test"
   ]
  },
  {
   "cell_type": "code",
   "execution_count": 100,
   "metadata": {
    "hidden": true
   },
   "outputs": [
    {
     "data": {
      "text/plain": [
       "SelectKBest(k=20, score_func=<function f_regression at 0x1a21ade1e0>)"
      ]
     },
     "execution_count": 100,
     "metadata": {},
     "output_type": "execute_result"
    }
   ],
   "source": [
    "selector = SelectKBest(f_regression, k=20)\n",
    "\n",
    "selector.fit(df_features, target)"
   ]
  },
  {
   "cell_type": "code",
   "execution_count": 101,
   "metadata": {
    "hidden": true
   },
   "outputs": [],
   "source": [
    "selected_columns = X_train.columns[selector.get_support()]\n",
    "# removed_columns = X_train.columns[~selector.get_support()]"
   ]
  },
  {
   "cell_type": "code",
   "execution_count": 102,
   "metadata": {
    "hidden": true
   },
   "outputs": [],
   "source": [
    "#instantiate a linear regression object\n",
    "lm_final = LinearRegression()\n",
    "\n",
    "#fit the linear regression to the data\n",
    "lm_final = lm_final.fit(df_poly3[selected_columns], target)"
   ]
  },
  {
   "cell_type": "code",
   "execution_count": 103,
   "metadata": {
    "hidden": true
   },
   "outputs": [
    {
     "data": {
      "text/plain": [
       "array([-2.49619790e+04,  3.63158626e+04, -4.98861537e+17, -3.25355217e+03,\n",
       "       -1.21931722e+03,  5.20488045e+04,  4.27558197e+04,  1.20645318e+05,\n",
       "        4.49652315e+17,  2.40290185e+17,  1.68929414e+06,  7.73511939e+04,\n",
       "       -1.02557853e+05,  7.07028706e+05,  7.98901754e+05,  1.81377008e+04,\n",
       "       -1.02620426e+05, -1.65127790e+06, -3.61257497e+03,  4.32899702e+03])"
      ]
     },
     "execution_count": 103,
     "metadata": {},
     "output_type": "execute_result"
    }
   ],
   "source": [
    "lm_final.coef_ # <--- final model for entire dataset"
   ]
  },
  {
   "cell_type": "code",
   "execution_count": 104,
   "metadata": {
    "hidden": true
   },
   "outputs": [],
   "source": [
    "\n",
    "pickle_out = open(\"model.pickle\",\"wb\")\n",
    "pickle.dump(lm_final, pickle_out)\n",
    "pickle_out.close()"
   ]
  },
  {
   "cell_type": "code",
   "execution_count": 106,
   "metadata": {
    "hidden": true
   },
   "outputs": [
    {
     "data": {
      "text/plain": [
       "<function BufferedWriter.close>"
      ]
     },
     "execution_count": 106,
     "metadata": {},
     "output_type": "execute_result"
    }
   ],
   "source": [
    "pickle_out = open(\"scaler.pickle\", \"wb\")\n",
    "pickle.dump(scaler, pickle_out)\n",
    "pickle_out.close"
   ]
  }
 ],
 "metadata": {
  "kernelspec": {
   "display_name": "learn-env",
   "language": "python",
   "name": "learn-env"
  },
  "language_info": {
   "codemirror_mode": {
    "name": "ipython",
    "version": 3
   },
   "file_extension": ".py",
   "mimetype": "text/x-python",
   "name": "python",
   "nbconvert_exporter": "python",
   "pygments_lexer": "ipython3",
   "version": "3.6.9"
  },
  "toc": {
   "base_numbering": 1,
   "nav_menu": {},
   "number_sections": true,
   "sideBar": true,
   "skip_h1_title": false,
   "title_cell": "Table of Contents",
   "title_sidebar": "Contents",
   "toc_cell": false,
   "toc_position": {},
   "toc_section_display": true,
   "toc_window_display": false
  },
  "varInspector": {
   "cols": {
    "lenName": 16,
    "lenType": 16,
    "lenVar": 40
   },
   "kernels_config": {
    "python": {
     "delete_cmd_postfix": "",
     "delete_cmd_prefix": "del ",
     "library": "var_list.py",
     "varRefreshCmd": "print(var_dic_list())"
    },
    "r": {
     "delete_cmd_postfix": ") ",
     "delete_cmd_prefix": "rm(",
     "library": "var_list.r",
     "varRefreshCmd": "cat(var_dic_list()) "
    }
   },
   "types_to_exclude": [
    "module",
    "function",
    "builtin_function_or_method",
    "instance",
    "_Feature"
   ],
   "window_display": false
  }
 },
 "nbformat": 4,
 "nbformat_minor": 4
}
