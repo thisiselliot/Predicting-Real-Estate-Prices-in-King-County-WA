{
 "cells": [
  {
   "cell_type": "markdown",
   "metadata": {},
   "source": [
    "### imports"
   ]
  },
  {
   "cell_type": "code",
   "execution_count": 1,
   "metadata": {},
   "outputs": [],
   "source": [
    "from sklearn import linear_model, metrics\n",
    "from sklearn.model_selection import train_test_split\n",
    "\n",
    "import pandas as pd\n",
    "import numpy as np\n",
    "import seaborn as sns\n",
    "import matplotlib.pyplot as plt"
   ]
  },
  {
   "cell_type": "markdown",
   "metadata": {},
   "source": [
    "### read in data"
   ]
  },
  {
   "cell_type": "code",
   "execution_count": 2,
   "metadata": {},
   "outputs": [],
   "source": [
    "df = pd.read_csv('kc_house_data_train.csv', index_col=0)"
   ]
  },
  {
   "cell_type": "markdown",
   "metadata": {},
   "source": [
    "### Fix 33 bdrms typo"
   ]
  },
  {
   "cell_type": "code",
   "execution_count": 3,
   "metadata": {},
   "outputs": [],
   "source": [
    "df['bedrooms'] = df.bedrooms.replace([33],3)"
   ]
  },
  {
   "cell_type": "markdown",
   "metadata": {
    "heading_collapsed": true
   },
   "source": [
    "### Convert date to datetime"
   ]
  },
  {
   "cell_type": "code",
   "execution_count": null,
   "metadata": {
    "hidden": true
   },
   "outputs": [],
   "source": [
    "df['date'] = pd.to_datetime(df['date'])"
   ]
  },
  {
   "cell_type": "markdown",
   "metadata": {
    "heading_collapsed": true
   },
   "source": [
    "### view dummies rmse"
   ]
  },
  {
   "cell_type": "code",
   "execution_count": null,
   "metadata": {
    "hidden": true
   },
   "outputs": [],
   "source": [
    "x = df.groupby('view').price.mean().index\n",
    "y = df.groupby('view').price.mean().values\n",
    "sns.regplot(x, y)\n",
    "\n",
    "\"\"\"viewed once and viewed twice have similar mean\"\"\""
   ]
  },
  {
   "cell_type": "code",
   "execution_count": null,
   "metadata": {
    "hidden": true
   },
   "outputs": [],
   "source": [
    "df_view = df.copy()\n",
    "df_view['view'] = np.where(df['view'] == 2, 1, df['view'])\n",
    "df_view = pd.get_dummies(df_view, columns=['view'], drop_first=True)\n",
    "df_view.rename(columns={'view_1':'view_1_or_2'}, inplace=True)\n",
    "\n",
    "lm1 = linear_model.LinearRegression().fit(\n",
    "    pd.DataFrame(df.view), df.price) # <---linear regression model\n",
    "rmse1 = np.sqrt(metrics.mean_squared_error(\n",
    "    df.price, lm1.predict(pd.DataFrame(df.view)))) # <---training RMSE\n",
    "\n",
    "lm2 = linear_model.LinearRegression().fit(\n",
    "    pd.DataFrame(df_view[['view_1_or_2', 'view_3', 'view_4']]), df.price) # <---linear regression model\n",
    "rmse2 = np.sqrt(metrics.mean_squared_error(\n",
    "    df.price, lm2.predict(pd.DataFrame(df_view[['view_1_or_2', 'view_3', 'view_4']])))) # <---training RMSE\n",
    "\n",
    "f\"rmse without dummies is {rmse1} and with dummies is {rmse2}\""
   ]
  },
  {
   "cell_type": "markdown",
   "metadata": {
    "heading_collapsed": true
   },
   "source": [
    "### make view dummies"
   ]
  },
  {
   "cell_type": "code",
   "execution_count": null,
   "metadata": {
    "hidden": true
   },
   "outputs": [],
   "source": [
    "df['view'] = np.where(df['view'] == 2, 1, df['view'])\n",
    "df = pd.get_dummies(df, columns=['view'], drop_first=True)\n",
    "df.rename(columns={'view_1':'view_1_or_2'}, inplace=True)"
   ]
  },
  {
   "cell_type": "raw",
   "metadata": {
    "hidden": true
   },
   "source": [
    "### rmse for zipcode dummies"
   ]
  },
  {
   "cell_type": "code",
   "execution_count": null,
   "metadata": {
    "hidden": true
   },
   "outputs": [],
   "source": [
    "df_zips = pd.get_dummies(df, columns=['zipcode'], drop_first=True)\n",
    "\n",
    "lm1 = linear_model.LinearRegression().fit(\n",
    "    pd.DataFrame(df.zipcode), df.price) # <---linear regression model\n",
    "rmse1 = np.sqrt(metrics.mean_squared_error(\n",
    "    df.price, lm1.predict(pd.DataFrame(df.zipcode)))) # <---training RMSE\n",
    "\n",
    "lm2 = linear_model.LinearRegression().fit(\n",
    "    pd.DataFrame(df_zips[['zipcode_98002', 'zipcode_98003',\n",
    "       'zipcode_98004', 'zipcode_98005', 'zipcode_98006', 'zipcode_98007',\n",
    "       'zipcode_98008', 'zipcode_98010', 'zipcode_98011', 'zipcode_98014',\n",
    "       'zipcode_98019', 'zipcode_98022', 'zipcode_98023', 'zipcode_98024',\n",
    "       'zipcode_98027', 'zipcode_98028', 'zipcode_98029', 'zipcode_98030',\n",
    "       'zipcode_98031', 'zipcode_98032', 'zipcode_98033', 'zipcode_98034',\n",
    "       'zipcode_98038', 'zipcode_98039', 'zipcode_98040', 'zipcode_98042',\n",
    "       'zipcode_98045', 'zipcode_98052', 'zipcode_98053', 'zipcode_98055',\n",
    "       'zipcode_98056', 'zipcode_98058', 'zipcode_98059', 'zipcode_98065',\n",
    "       'zipcode_98070', 'zipcode_98072', 'zipcode_98074', 'zipcode_98075',\n",
    "       'zipcode_98077', 'zipcode_98092', 'zipcode_98102', 'zipcode_98103',\n",
    "       'zipcode_98105', 'zipcode_98106', 'zipcode_98107', 'zipcode_98108',\n",
    "       'zipcode_98109', 'zipcode_98112', 'zipcode_98115', 'zipcode_98116',\n",
    "       'zipcode_98117', 'zipcode_98118', 'zipcode_98119', 'zipcode_98122',\n",
    "       'zipcode_98125', 'zipcode_98126', 'zipcode_98133', 'zipcode_98136',\n",
    "       'zipcode_98144', 'zipcode_98146', 'zipcode_98148', 'zipcode_98155',\n",
    "       'zipcode_98166', 'zipcode_98168', 'zipcode_98177', 'zipcode_98178',\n",
    "       'zipcode_98188', 'zipcode_98198', 'zipcode_98199']]), df.price) # <---linear regression model\n",
    "rmse2 = np.sqrt(metrics.mean_squared_error(\n",
    "    df.price, lm2.predict(pd.DataFrame(df_zips[['zipcode_98002', 'zipcode_98003',\n",
    "       'zipcode_98004', 'zipcode_98005', 'zipcode_98006', 'zipcode_98007',\n",
    "       'zipcode_98008', 'zipcode_98010', 'zipcode_98011', 'zipcode_98014',\n",
    "       'zipcode_98019', 'zipcode_98022', 'zipcode_98023', 'zipcode_98024',\n",
    "       'zipcode_98027', 'zipcode_98028', 'zipcode_98029', 'zipcode_98030',\n",
    "       'zipcode_98031', 'zipcode_98032', 'zipcode_98033', 'zipcode_98034',\n",
    "       'zipcode_98038', 'zipcode_98039', 'zipcode_98040', 'zipcode_98042',\n",
    "       'zipcode_98045', 'zipcode_98052', 'zipcode_98053', 'zipcode_98055',\n",
    "       'zipcode_98056', 'zipcode_98058', 'zipcode_98059', 'zipcode_98065',\n",
    "       'zipcode_98070', 'zipcode_98072', 'zipcode_98074', 'zipcode_98075',\n",
    "       'zipcode_98077', 'zipcode_98092', 'zipcode_98102', 'zipcode_98103',\n",
    "       'zipcode_98105', 'zipcode_98106', 'zipcode_98107', 'zipcode_98108',\n",
    "       'zipcode_98109', 'zipcode_98112', 'zipcode_98115', 'zipcode_98116',\n",
    "       'zipcode_98117', 'zipcode_98118', 'zipcode_98119', 'zipcode_98122',\n",
    "       'zipcode_98125', 'zipcode_98126', 'zipcode_98133', 'zipcode_98136',\n",
    "       'zipcode_98144', 'zipcode_98146', 'zipcode_98148', 'zipcode_98155',\n",
    "       'zipcode_98166', 'zipcode_98168', 'zipcode_98177', 'zipcode_98178',\n",
    "       'zipcode_98188', 'zipcode_98198', 'zipcode_98199']])))) # <---training RMSE\n",
    "\n",
    "f\"rmse without dummies is {rmse1} and with dummies is {rmse2}\""
   ]
  },
  {
   "cell_type": "markdown",
   "metadata": {
    "heading_collapsed": true
   },
   "source": [
    "### made zipcode dummies"
   ]
  },
  {
   "cell_type": "code",
   "execution_count": null,
   "metadata": {
    "hidden": true
   },
   "outputs": [],
   "source": [
    "df = pd.get_dummies(df, columns=['zipcode'], drop_first=True)"
   ]
  },
  {
   "cell_type": "markdown",
   "metadata": {
    "heading_collapsed": true
   },
   "source": [
    "### Cap all sqft features to remove outliers"
   ]
  },
  {
   "cell_type": "code",
   "execution_count": null,
   "metadata": {
    "hidden": true
   },
   "outputs": [],
   "source": [
    "df['sqft_above'] = np.where(df['sqft_above'] > 7000, 7000, df['sqft_above'])\n",
    "df['sqft_basement'] = np.where(df['sqft_basement'] > 3000, 3000, df['sqft_basement'])\n",
    "df['sqft_living'] = np.where(df['sqft_living'] > 8000, 8000, df['sqft_living'])\n",
    "df['sqft_living15'] = np.where(df['sqft_living15'] > 6000, 6000, df['sqft_living15'])\n",
    "df['sqft_lot'] = np.where(df['sqft_lot'] > 100000, 100000, df['sqft_lot'])\n",
    "df['sqft_lot15'] = np.where(df['sqft_lot15'] > 100000, 100000, df['sqft_lot15'])\n",
    "\n",
    "# sns.boxplot(df.sqft_above)\n",
    "# sns.boxplot(df.sqft_basement)\n",
    "# sns.boxplot(df.sqft_living)\n",
    "# sns.boxplot(df.sqft_living15)\n",
    "# sns.boxplot(df.sqft_lot)\n",
    "# sns.boxplot(df.sqft_lot15)"
   ]
  },
  {
   "cell_type": "markdown",
   "metadata": {
    "heading_collapsed": true
   },
   "source": [
    "### mean bedroom price"
   ]
  },
  {
   "cell_type": "code",
   "execution_count": null,
   "metadata": {
    "hidden": true
   },
   "outputs": [],
   "source": [
    "x = df.groupby('bedrooms').price.mean().index\n",
    "y = df.groupby('bedrooms').price.mean().values`\n",
    "sns.regplot(2**(x-5.5), y)"
   ]
  },
  {
   "cell_type": "markdown",
   "metadata": {
    "heading_collapsed": true
   },
   "source": [
    "### mean grade price"
   ]
  },
  {
   "cell_type": "code",
   "execution_count": null,
   "metadata": {
    "hidden": true
   },
   "outputs": [],
   "source": [
    "x = df.groupby('grade').price.mean().index\n",
    "y = df.groupby('grade').price.mean().values\n",
    "import numpy as np\n",
    "sns.regplot(x**2, np.log(y))"
   ]
  },
  {
   "cell_type": "markdown",
   "metadata": {
    "heading_collapsed": true
   },
   "source": [
    "### median housing price per zipcode"
   ]
  },
  {
   "cell_type": "code",
   "execution_count": null,
   "metadata": {
    "hidden": true
   },
   "outputs": [],
   "source": [
    "df2 = df.groupby(['zipcode']).price.mean().sort_values(ascending=False)\n",
    "plt.figure(figsize=(16,6))\n",
    "plt.ylabel('price')\n",
    "df2.plot(kind='bar');"
   ]
  },
  {
   "cell_type": "markdown",
   "metadata": {},
   "source": [
    "### finalize"
   ]
  },
  {
   "cell_type": "code",
   "execution_count": 4,
   "metadata": {},
   "outputs": [],
   "source": [
    "features = ['price', 'date', 'bedrooms', 'bathrooms', 'sqft_living', 'sqft_lot', 'floors',\n",
    "            'waterfront', 'view', 'condition', 'grade', 'sqft_above',\n",
    "            'sqft_basement', 'yr_built', 'yr_renovated', 'zipcode', 'lat',\n",
    "            'long', 'sqft_living15', 'sqft_lot15']\n",
    "\n",
    "df = df[features]"
   ]
  },
  {
   "cell_type": "code",
   "execution_count": 5,
   "metadata": {},
   "outputs": [
    {
     "data": {
      "text/html": [
       "<div>\n",
       "<style scoped>\n",
       "    .dataframe tbody tr th:only-of-type {\n",
       "        vertical-align: middle;\n",
       "    }\n",
       "\n",
       "    .dataframe tbody tr th {\n",
       "        vertical-align: top;\n",
       "    }\n",
       "\n",
       "    .dataframe thead th {\n",
       "        text-align: right;\n",
       "    }\n",
       "</style>\n",
       "<table border=\"1\" class=\"dataframe\">\n",
       "  <thead>\n",
       "    <tr style=\"text-align: right;\">\n",
       "      <th></th>\n",
       "      <th>price</th>\n",
       "      <th>date</th>\n",
       "      <th>bedrooms</th>\n",
       "      <th>bathrooms</th>\n",
       "      <th>sqft_living</th>\n",
       "      <th>sqft_lot</th>\n",
       "      <th>floors</th>\n",
       "      <th>waterfront</th>\n",
       "      <th>view</th>\n",
       "      <th>condition</th>\n",
       "      <th>grade</th>\n",
       "      <th>sqft_above</th>\n",
       "      <th>sqft_basement</th>\n",
       "      <th>yr_built</th>\n",
       "      <th>yr_renovated</th>\n",
       "      <th>zipcode</th>\n",
       "      <th>lat</th>\n",
       "      <th>long</th>\n",
       "      <th>sqft_living15</th>\n",
       "      <th>sqft_lot15</th>\n",
       "    </tr>\n",
       "  </thead>\n",
       "  <tbody>\n",
       "    <tr>\n",
       "      <th>0</th>\n",
       "      <td>365000.0</td>\n",
       "      <td>20141006T000000</td>\n",
       "      <td>4</td>\n",
       "      <td>2.25</td>\n",
       "      <td>2070</td>\n",
       "      <td>8893</td>\n",
       "      <td>2.0</td>\n",
       "      <td>0</td>\n",
       "      <td>0</td>\n",
       "      <td>4</td>\n",
       "      <td>8</td>\n",
       "      <td>2070</td>\n",
       "      <td>0</td>\n",
       "      <td>1986</td>\n",
       "      <td>0</td>\n",
       "      <td>98058</td>\n",
       "      <td>47.4388</td>\n",
       "      <td>-122.162</td>\n",
       "      <td>2390</td>\n",
       "      <td>7700</td>\n",
       "    </tr>\n",
       "    <tr>\n",
       "      <th>1</th>\n",
       "      <td>865000.0</td>\n",
       "      <td>20140821T000000</td>\n",
       "      <td>5</td>\n",
       "      <td>3.00</td>\n",
       "      <td>2900</td>\n",
       "      <td>6730</td>\n",
       "      <td>1.0</td>\n",
       "      <td>0</td>\n",
       "      <td>0</td>\n",
       "      <td>5</td>\n",
       "      <td>8</td>\n",
       "      <td>1830</td>\n",
       "      <td>1070</td>\n",
       "      <td>1977</td>\n",
       "      <td>0</td>\n",
       "      <td>98115</td>\n",
       "      <td>47.6784</td>\n",
       "      <td>-122.285</td>\n",
       "      <td>2370</td>\n",
       "      <td>6283</td>\n",
       "    </tr>\n",
       "    <tr>\n",
       "      <th>2</th>\n",
       "      <td>1038000.0</td>\n",
       "      <td>20140815T000000</td>\n",
       "      <td>4</td>\n",
       "      <td>2.50</td>\n",
       "      <td>3770</td>\n",
       "      <td>10893</td>\n",
       "      <td>2.0</td>\n",
       "      <td>0</td>\n",
       "      <td>2</td>\n",
       "      <td>3</td>\n",
       "      <td>11</td>\n",
       "      <td>3770</td>\n",
       "      <td>0</td>\n",
       "      <td>1997</td>\n",
       "      <td>0</td>\n",
       "      <td>98006</td>\n",
       "      <td>47.5646</td>\n",
       "      <td>-122.129</td>\n",
       "      <td>3710</td>\n",
       "      <td>9685</td>\n",
       "    </tr>\n",
       "    <tr>\n",
       "      <th>3</th>\n",
       "      <td>1490000.0</td>\n",
       "      <td>20150331T000000</td>\n",
       "      <td>3</td>\n",
       "      <td>3.50</td>\n",
       "      <td>4560</td>\n",
       "      <td>14608</td>\n",
       "      <td>2.0</td>\n",
       "      <td>0</td>\n",
       "      <td>2</td>\n",
       "      <td>3</td>\n",
       "      <td>12</td>\n",
       "      <td>4560</td>\n",
       "      <td>0</td>\n",
       "      <td>1990</td>\n",
       "      <td>0</td>\n",
       "      <td>98034</td>\n",
       "      <td>47.6995</td>\n",
       "      <td>-122.228</td>\n",
       "      <td>4050</td>\n",
       "      <td>14226</td>\n",
       "    </tr>\n",
       "    <tr>\n",
       "      <th>4</th>\n",
       "      <td>711000.0</td>\n",
       "      <td>20140714T000000</td>\n",
       "      <td>3</td>\n",
       "      <td>2.50</td>\n",
       "      <td>2550</td>\n",
       "      <td>5376</td>\n",
       "      <td>2.0</td>\n",
       "      <td>0</td>\n",
       "      <td>0</td>\n",
       "      <td>3</td>\n",
       "      <td>9</td>\n",
       "      <td>2550</td>\n",
       "      <td>0</td>\n",
       "      <td>2004</td>\n",
       "      <td>0</td>\n",
       "      <td>98052</td>\n",
       "      <td>47.6647</td>\n",
       "      <td>-122.083</td>\n",
       "      <td>2250</td>\n",
       "      <td>4050</td>\n",
       "    </tr>\n",
       "  </tbody>\n",
       "</table>\n",
       "</div>"
      ],
      "text/plain": [
       "       price             date  bedrooms  bathrooms  sqft_living  sqft_lot  \\\n",
       "0   365000.0  20141006T000000         4       2.25         2070      8893   \n",
       "1   865000.0  20140821T000000         5       3.00         2900      6730   \n",
       "2  1038000.0  20140815T000000         4       2.50         3770     10893   \n",
       "3  1490000.0  20150331T000000         3       3.50         4560     14608   \n",
       "4   711000.0  20140714T000000         3       2.50         2550      5376   \n",
       "\n",
       "   floors  waterfront  view  condition  grade  sqft_above  sqft_basement  \\\n",
       "0     2.0           0     0          4      8        2070              0   \n",
       "1     1.0           0     0          5      8        1830           1070   \n",
       "2     2.0           0     2          3     11        3770              0   \n",
       "3     2.0           0     2          3     12        4560              0   \n",
       "4     2.0           0     0          3      9        2550              0   \n",
       "\n",
       "   yr_built  yr_renovated  zipcode      lat     long  sqft_living15  \\\n",
       "0      1986             0    98058  47.4388 -122.162           2390   \n",
       "1      1977             0    98115  47.6784 -122.285           2370   \n",
       "2      1997             0    98006  47.5646 -122.129           3710   \n",
       "3      1990             0    98034  47.6995 -122.228           4050   \n",
       "4      2004             0    98052  47.6647 -122.083           2250   \n",
       "\n",
       "   sqft_lot15  \n",
       "0        7700  \n",
       "1        6283  \n",
       "2        9685  \n",
       "3       14226  \n",
       "4        4050  "
      ]
     },
     "execution_count": 5,
     "metadata": {},
     "output_type": "execute_result"
    }
   ],
   "source": [
    "df.head()"
   ]
  },
  {
   "cell_type": "code",
   "execution_count": 6,
   "metadata": {},
   "outputs": [],
   "source": [
    "df.to_csv('clean_data_v3.csv')"
   ]
  },
  {
   "cell_type": "code",
   "execution_count": null,
   "metadata": {},
   "outputs": [],
   "source": [
    "# median housing price per zipcode\n",
    "df2 = df.groupby(['zipcode']).price.median().sort_values(ascending=False)\n",
    "plt.figure(figsize=(16,6))\n",
    "plt.ylabel('price')\n",
    "df2.plot(kind='bar');"
   ]
  }
 ],
 "metadata": {
  "kernelspec": {
   "display_name": "learn-env",
   "language": "python",
   "name": "learn-env"
  },
  "language_info": {
   "codemirror_mode": {
    "name": "ipython",
    "version": 3
   },
   "file_extension": ".py",
   "mimetype": "text/x-python",
   "name": "python",
   "nbconvert_exporter": "python",
   "pygments_lexer": "ipython3",
   "version": "3.6.9"
  },
  "toc": {
   "base_numbering": 1,
   "nav_menu": {},
   "number_sections": true,
   "sideBar": true,
   "skip_h1_title": false,
   "title_cell": "Table of Contents",
   "title_sidebar": "Contents",
   "toc_cell": false,
   "toc_position": {},
   "toc_section_display": true,
   "toc_window_display": false
  },
  "varInspector": {
   "cols": {
    "lenName": 16,
    "lenType": 16,
    "lenVar": 40
   },
   "kernels_config": {
    "python": {
     "delete_cmd_postfix": "",
     "delete_cmd_prefix": "del ",
     "library": "var_list.py",
     "varRefreshCmd": "print(var_dic_list())"
    },
    "r": {
     "delete_cmd_postfix": ") ",
     "delete_cmd_prefix": "rm(",
     "library": "var_list.r",
     "varRefreshCmd": "cat(var_dic_list()) "
    }
   },
   "types_to_exclude": [
    "module",
    "function",
    "builtin_function_or_method",
    "instance",
    "_Feature"
   ],
   "window_display": false
  }
 },
 "nbformat": 4,
 "nbformat_minor": 4
}
